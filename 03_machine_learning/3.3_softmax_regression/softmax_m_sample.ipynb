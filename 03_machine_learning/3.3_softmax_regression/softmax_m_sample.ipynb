{
 "cells": [
  {
   "cell_type": "code",
   "execution_count": 1,
   "id": "de30f551-7020-4ca5-b941-a62f25f3f299",
   "metadata": {},
   "outputs": [],
   "source": [
    "import numpy as np\n",
    "import matplotlib.pyplot as plt\n",
    "from sklearn import preprocessing"
   ]
  },
  {
   "cell_type": "code",
   "execution_count": 2,
   "id": "53bc9834-02c3-47a3-b399-ffa53de73c93",
   "metadata": {},
   "outputs": [
    {
     "name": "stdout",
     "output_type": "stream",
     "text": [
      "X:\n",
      " [[1.4]\n",
      " [1.3]\n",
      " [1.5]\n",
      " [4.5]\n",
      " [4.1]\n",
      " [4.6]]\n",
      "y:\n",
      " [0 0 0 1 1 1]\n"
     ]
    },
    {
     "data": {
      "image/png": "[encoded data removed]",
      "text/plain": [
       "<Figure size 720x432 with 1 Axes>"
      ]
     },
     "metadata": {
      "needs_background": "light"
     },
     "output_type": "display_data"
    }
   ],
   "source": [
    "iris = np.genfromtxt('iris_1D_2c.csv', dtype = None, delimiter = ',', skip_header = 1)\n",
    "X = iris[:, 0:1]\n",
    "y = iris[:,1]\n",
    "\n",
    "# change data type\n",
    "y = y.astype('uint8') # ep ve kieu int xiu nua lam gia tri index\n",
    "print('X:\\n', X)\n",
    "print('y:\\n',y)\n",
    "plt.figure(figsize=(10,6))\n",
    "plt.scatter(X[y==0][:,0],y[y==0],color='b',label='0')\n",
    "plt.scatter(X[y==1][:,0],y[y==1],color='r',label='1')\n",
    "plt.scatter(X[y==2][:,0],y[y==2],color='g',label='2')\n",
    "plt.legend()\n",
    "plt.show()"
   ]
  },
  {
   "cell_type": "code",
   "execution_count": 3,
   "id": "3cd690e7-57c4-4c9e-8612-91b292e6677b",
   "metadata": {},
   "outputs": [
    {
     "name": "stdout",
     "output_type": "stream",
     "text": [
      "one_hot\n",
      " [[1. 0.]\n",
      " [1. 0.]\n",
      " [1. 0.]\n",
      " [0. 1.]\n",
      " [0. 1.]\n",
      " [0. 1.]]\n",
      "X\n",
      " [[1.  1.4]\n",
      " [1.  1.3]\n",
      " [1.  1.5]\n",
      " [1.  4.5]\n",
      " [1.  4.1]\n",
      " [1.  4.6]]\n"
     ]
    }
   ],
   "source": [
    "N = 6 # number of samples\n",
    "k = 2 # number of classes\n",
    "\n",
    "# one hot\n",
    "import numpy as np\n",
    "def convert_one_hot(y,k):\n",
    "    one_hot = np.zeros((len(y),k))\n",
    "    one_hot[np.arange(len(y)),y] = 1\n",
    "    return one_hot\n",
    "y_one_hot = convert_one_hot(y,k)\n",
    "print(\"one_hot\\n\",y_one_hot)\n",
    "\n",
    "intercept = np.ones((X.shape[0],1))\n",
    "X = np.concatenate((intercept,X), axis = 1)\n",
    "print('X\\n',X)"
   ]
  },
  {
   "cell_type": "code",
   "execution_count": 4,
   "id": "af4701c9-2ce3-4878-87c3-4346014cd278",
   "metadata": {},
   "outputs": [
    {
     "name": "stdout",
     "output_type": "stream",
     "text": [
      "theta\n",
      " [[ 0.1   0.05]\n",
      " [ 0.2  -0.1 ]]\n"
     ]
    }
   ],
   "source": [
    "# initialize parameters\n",
    "theta = np.array([[0.1,0.05],[0.2,-0.1]])\n",
    "print('theta\\n', theta)"
   ]
  },
  {
   "cell_type": "code",
   "execution_count": 6,
   "id": "bb0a78f9-9945-415e-8b4f-7a4f7cf54f99",
   "metadata": {},
   "outputs": [],
   "source": [
    "# some parameters\n",
    "learning_rate = 0.1\n",
    "losses = []\n",
    "num_iter = 100\n",
    "for epoch in range(num_iter):\n",
    "    # compute z\n",
    "    z = X.dot(theta)\n",
    "    # compute y_hat\n",
    "    exp_z = np.exp(z)\n",
    "    y_hat = exp_z/np.sum(exp_z, axis = 1, keepdims = True) # axis tinh tong theo dong\n",
    "    # compute the loss\n",
    "    loss = -np.log(np.sum(y_hat*y_one_hot, axis = 1))\n",
    "    losses.append(np.sum(loss))\n",
    "    #compute the gradient dz\n",
    "    dz = y_hat - y_one_hot\n",
    "    # compute theta\n",
    "    dtheta = X.T.dot(dz)\n",
    "    theta = theta - learning_rate*dtheta"
   ]
  },
  {
   "cell_type": "code",
   "execution_count": 7,
   "id": "2bb9f107-083d-4b84-98e6-099d1d5cad20",
   "metadata": {},
   "outputs": [
    {
     "data": {
      "text/plain": [
       "array([[ 3.10740201, -2.95740201],\n",
       "       [-1.09140016,  1.19140016]])"
      ]
     },
     "execution_count": 7,
     "metadata": {},
     "output_type": "execute_result"
    }
   ],
   "source": [
    "theta"
   ]
  },
  {
   "cell_type": "code",
   "execution_count": 8,
   "id": "e5db2271-2a31-4179-aded-ab9bf0c17a88",
   "metadata": {},
   "outputs": [
    {
     "data": {
      "image/png": "[encoded data removed]",
      "text/plain": [
       "<Figure size 432x288 with 1 Axes>"
      ]
     },
     "metadata": {
      "needs_background": "light"
     },
     "output_type": "display_data"
    }
   ],
   "source": [
    "x_axis = range(len(losses))\n",
    "plt.plot(x_axis,losses, color = 'r')\n",
    "plt.show()"
   ]
  },
  {
   "cell_type": "code",
   "execution_count": 10,
   "id": "236baa6d-0672-42c0-ac58-8a184c3b0b77",
   "metadata": {},
   "outputs": [
    {
     "name": "stdout",
     "output_type": "stream",
     "text": [
      "[[1.  1.4]\n",
      " [1.  1.3]\n",
      " [1.  1.5]\n",
      " [1.  4.5]\n",
      " [1.  4.1]\n",
      " [1.  4.6]]\n"
     ]
    }
   ],
   "source": [
    "# lay data\n",
    "\n",
    "print(X)"
   ]
  },
  {
   "cell_type": "code",
   "execution_count": 11,
   "id": "d843819f-3927-412d-8cb5-c50d0e7a25a6",
   "metadata": {},
   "outputs": [
    {
     "name": "stdout",
     "output_type": "stream",
     "text": [
      "[0 0 0 1 1 1]\n"
     ]
    }
   ],
   "source": [
    "print(y)"
   ]
  },
  {
   "cell_type": "code",
   "execution_count": 15,
   "id": "b91e86b5-5525-4fee-9fab-efe73db4d17f",
   "metadata": {},
   "outputs": [
    {
     "name": "stdout",
     "output_type": "stream",
     "text": [
      "[[0.31961226 0.00881809]\n",
      " [0.35646947 0.00782767]\n",
      " [0.28656591 0.00993382]\n",
      " [0.01084569 0.35430046]\n",
      " [0.01678236 0.2199907 ]\n",
      " [0.0097243  0.39912927]]\n"
     ]
    }
   ],
   "source": [
    "# test model\n",
    "z = X.dot(theta)\n",
    "exp_z = np.exp(z)\n",
    "y_hat = exp_z/np.sum(exp_z, axis=0)\n",
    "print(y_hat)\n",
    "\n",
    "# do tin cay y_hat [0] thuoc nhom 0 = 94%\n",
    "# nhom 1 = 0.05%"
   ]
  },
  {
   "cell_type": "code",
   "execution_count": 14,
   "id": "063d6390-d275-4c8f-bf6b-0b9e9ad0b65e",
   "metadata": {},
   "outputs": [
    {
     "name": "stdout",
     "output_type": "stream",
     "text": [
      "[0 0 0 1 1 1]\n"
     ]
    }
   ],
   "source": [
    "predicted_class = np.argmax(y_hat, axis=1) # np.argmax lay vi tri index ma cho do co gia tri lon nhat\n",
    "print(predicted_class)"
   ]
  }
 ],
 "metadata": {
  "kernelspec": {
   "display_name": "Python 3",
   "language": "python",
   "name": "python3"
  },
  "language_info": {
   "codemirror_mode": {
    "name": "ipython",
    "version": 3
   },
   "file_extension": ".py",
   "mimetype": "text/x-python",
   "name": "python",
   "nbconvert_exporter": "python",
   "pygments_lexer": "ipython3",
   "version": "3.7.11"
  }
 },
 "nbformat": 4,
 "nbformat_minor": 5
}
