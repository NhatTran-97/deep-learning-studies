{
 "cells": [
  {
   "cell_type": "code",
   "execution_count": 17,
   "id": "5ed9d675-d2fe-4f42-8202-b89620308c44",
   "metadata": {},
   "outputs": [],
   "source": [
    "import numpy as np\n",
    "import matplotlib.pyplot as plt\n",
    "from sklearn import preprocessing"
   ]
  },
  {
   "cell_type": "code",
   "execution_count": 19,
   "id": "a2f6eef6-37b1-443a-b9b0-00755e5d0d67",
   "metadata": {},
   "outputs": [
    {
     "name": "stdout",
     "output_type": "stream",
     "text": [
      "X:\n",
      " [[1.4]\n",
      " [1.3]\n",
      " [1.5]\n",
      " [4.5]\n",
      " [4.1]\n",
      " [4.6]]\n",
      "y:\n",
      " [0 0 0 1 1 1]\n"
     ]
    },
    {
     "data": {
      "image/png": "[encoded data removed]",
      "text/plain": [
       "<Figure size 720x432 with 1 Axes>"
      ]
     },
     "metadata": {
      "needs_background": "light"
     },
     "output_type": "display_data"
    }
   ],
   "source": [
    "iris = np.genfromtxt('iris_1D_2c.csv', dtype = None, delimiter = ',', skip_header = 1)\n",
    "X = iris[:, 0:1]\n",
    "y = iris[:,1]\n",
    "\n",
    "# change data type\n",
    "y = y.astype('uint8') # ep ve kieu int xiu nua lam gia tri index\n",
    "print('X:\\n', X)\n",
    "print('y:\\n',y)\n",
    "plt.figure(figsize=(10,6))\n",
    "plt.scatter(X[y==0][:,0],y[y==0],color='b',label='0')\n",
    "plt.scatter(X[y==1][:,0],y[y==1],color='r',label='1')\n",
    "plt.scatter(X[y==2][:,0],y[y==2],color='g',label='2')\n",
    "plt.legend()\n",
    "plt.show()"
   ]
  },
  {
   "cell_type": "markdown",
   "id": "764b3723-b1f7-4396-8b2b-cbba551901d7",
   "metadata": {},
   "source": [
    "### Dung 1 sample"
   ]
  },
  {
   "cell_type": "code",
   "execution_count": 20,
   "id": "df5a516b-a7c9-4b67-9452-4d6df6761fa8",
   "metadata": {},
   "outputs": [
    {
     "name": "stdout",
     "output_type": "stream",
     "text": [
      "one_hot\n",
      " [[1. 0.]\n",
      " [1. 0.]\n",
      " [1. 0.]\n",
      " [0. 1.]\n",
      " [0. 1.]\n",
      " [0. 1.]]\n",
      "X\n",
      " [[1.  1.4]\n",
      " [1.  1.3]\n",
      " [1.  1.5]\n",
      " [1.  4.5]\n",
      " [1.  4.1]\n",
      " [1.  4.6]]\n"
     ]
    }
   ],
   "source": [
    "N = 6 # number of samples\n",
    "k = 2 # number of classes\n",
    "\n",
    "# one hot\n",
    "import numpy as np\n",
    "def convert_one_hot(y,k):\n",
    "    one_hot = np.zeros((len(y),k))\n",
    "    one_hot[np.arange(len(y)),y] = 1\n",
    "    return one_hot\n",
    "y_one_hot = convert_one_hot(y,k)\n",
    "print(\"one_hot\\n\",y_one_hot)\n",
    "\n",
    "intercept = np.ones((X.shape[0],1))\n",
    "X = np.concatenate((intercept,X), axis=1)\n",
    "print('X\\n',X)"
   ]
  },
  {
   "cell_type": "code",
   "execution_count": 21,
   "id": "01343a61-f80b-46d8-876e-57fd1e88283b",
   "metadata": {},
   "outputs": [
    {
     "name": "stdout",
     "output_type": "stream",
     "text": [
      "theta\n",
      " [[ 0.1   0.05]\n",
      " [ 0.2  -0.1 ]]\n"
     ]
    }
   ],
   "source": [
    "# initialize parameters\n",
    "theta = np.array([[0.1,0.05],[0.2,-0.1]])\n",
    "print('theta\\n', theta)"
   ]
  },
  {
   "cell_type": "code",
   "execution_count": 22,
   "id": "df85b533-d9f0-4a38-934b-2195bcf57cf6",
   "metadata": {},
   "outputs": [],
   "source": [
    "# some parameters\n",
    "learning_rate = 0.1\n",
    "losses = []\n",
    "num_iter = 100\n",
    "for epoch in range(num_iter):\n",
    "    for i in range(N):\n",
    "        xi = X[i]\n",
    "        yi = y_one_hot[i]\n",
    "        \n",
    "        # lap trinh chat che (dua ve dung dang)\n",
    "        xi = xi.reshape((2,1))\n",
    "        yi = yi.reshape((2,1))\n",
    "        \n",
    "        # compute z\n",
    "        z = theta.T.dot(xi)\n",
    "        \n",
    "        # compute y_hat\n",
    "        exp_z = np.exp(z)\n",
    "        y_hat = exp_z / np.sum(exp_z,axis=0) # axis = 0 la truc doc\n",
    "        \n",
    "        # compute loss\n",
    "        loss = -np.log(yi.T.dot(y_hat))\n",
    "        # loss = -yi.T.dot(np.log(y_hat))\n",
    "        losses.append(loss[0])\n",
    "        \n",
    "        # compute the gradient dz\n",
    "        dz = y_hat - yi\n",
    "        \n",
    "        # compute ttheta\n",
    "        dtheta = xi.dot(dz.T)\n",
    "        \n",
    "        # ]update\n",
    "        theta = theta - learning_rate*dtheta\n",
    "        \n",
    "        \n",
    "        "
   ]
  },
  {
   "cell_type": "code",
   "execution_count": 23,
   "id": "fcdbe3c9-0e61-4d06-8e43-ac50560fb26d",
   "metadata": {},
   "outputs": [
    {
     "data": {
      "text/plain": [
       "array([[ 3.13085488, -2.98085488],\n",
       "       [-1.11662847,  1.21662847]])"
      ]
     },
     "execution_count": 23,
     "metadata": {},
     "output_type": "execute_result"
    }
   ],
   "source": [
    "theta"
   ]
  },
  {
   "cell_type": "code",
   "execution_count": 24,
   "id": "0b902a59-3fe8-48bb-8cc7-13086a081de1",
   "metadata": {},
   "outputs": [
    {
     "data": {
      "image/png": "[encoded data removed]",
      "text/plain": [
       "<Figure size 432x288 with 1 Axes>"
      ]
     },
     "metadata": {
      "needs_background": "light"
     },
     "output_type": "display_data"
    }
   ],
   "source": [
    "x_axis = range(len(losses))\n",
    "plt.plot(x_axis,losses, color = 'r')\n",
    "plt.show()"
   ]
  },
  {
   "cell_type": "code",
   "execution_count": 26,
   "id": "b9d9e62d-3beb-4004-a3a5-179d132ca3ab",
   "metadata": {},
   "outputs": [
    {
     "name": "stdout",
     "output_type": "stream",
     "text": [
      "[[1. ]\n",
      " [1.4]]\n",
      "[[1.]\n",
      " [0.]]\n"
     ]
    }
   ],
   "source": [
    "# lay data\n",
    "\n",
    "i = 0\n",
    "xi = X[i]\n",
    "yi = y_one_hot[i]\n",
    "\n",
    "xi = xi.reshape([2,1])\n",
    "yi = yi.reshape((2,1))\n",
    "print(xi)\n",
    "print(yi)"
   ]
  },
  {
   "cell_type": "code",
   "execution_count": 27,
   "id": "8e6d6992-d0af-4c73-92c7-519f11f0dbb1",
   "metadata": {},
   "outputs": [
    {
     "name": "stdout",
     "output_type": "stream",
     "text": [
      "[[0.94506744]\n",
      " [0.05493256]]\n"
     ]
    }
   ],
   "source": [
    "# test model\n",
    "z = theta.T.dot(xi)\n",
    "exp_z = np.exp(z)\n",
    "y_hat = exp_z/np.sum(exp_z, axis=0)\n",
    "print(y_hat)\n",
    "\n",
    "# do tin cay y_hat [0] thuoc nhom 0 = 94%\n",
    "# nhom 1 = 0.05%"
   ]
  },
  {
   "cell_type": "code",
   "execution_count": 28,
   "id": "178ae63b-3c83-449d-bf4c-4709c53312ea",
   "metadata": {},
   "outputs": [
    {
     "name": "stdout",
     "output_type": "stream",
     "text": [
      "[0]\n"
     ]
    }
   ],
   "source": [
    "predicted_class = np.argmax(y_hat, axis=0) # np.argmax lay vi tri index ma cho do co gia tri lon nhat\n",
    "print(predicted_class)"
   ]
  }
 ],
 "metadata": {
  "kernelspec": {
   "display_name": "Python 3",
   "language": "python",
   "name": "python3"
  },
  "language_info": {
   "codemirror_mode": {
    "name": "ipython",
    "version": 3
   },
   "file_extension": ".py",
   "mimetype": "text/x-python",
   "name": "python",
   "nbconvert_exporter": "python",
   "pygments_lexer": "ipython3",
   "version": "3.7.11"
  }
 },
 "nbformat": 4,
 "nbformat_minor": 5
}
