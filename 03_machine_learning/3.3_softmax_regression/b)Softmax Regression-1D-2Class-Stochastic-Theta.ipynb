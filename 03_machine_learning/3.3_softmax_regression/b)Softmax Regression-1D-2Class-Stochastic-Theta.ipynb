{
 "cells": [
  {
   "cell_type": "code",
   "execution_count": 4,
   "metadata": {},
   "outputs": [
    {
     "name": "stdout",
     "output_type": "stream",
     "text": [
      "X:\n",
      " [[1.4]\n",
      " [1.3]\n",
      " [1.5]\n",
      " [4.5]\n",
      " [4.1]\n",
      " [4.6]]\n",
      "y:\n",
      " [0 0 0 1 1 1]\n"
     ]
    },
    {
     "data": {
      "image/png": "[encoded data removed]",
      "text/plain": [
       "<Figure size 720x432 with 1 Axes>"
      ]
     },
     "metadata": {
      "needs_background": "light"
     },
     "output_type": "display_data"
    }
   ],
   "source": [
    "import numpy as np\n",
    "import matplotlib.pyplot as plt\n",
    "from sklearn import preprocessing\n",
    "\n",
    "iris = np.genfromtxt('iris_1D_2c.csv', dtype=None, delimiter=',', skip_header=1) \n",
    "X = iris[:, 0:1]\n",
    "y = iris[:, 1]\n",
    "\n",
    "# change data type\n",
    "y = y.astype('uint8')\n",
    "\n",
    "print('X:\\n', X)\n",
    "print('y:\\n', y)\n",
    "\n",
    "plt.figure(figsize=(10, 6))\n",
    "plt.scatter(X[y == 0][:, 0], y[y == 0], color='b', label='0')\n",
    "plt.scatter(X[y == 1][:, 0], y[y == 1], color='r', label='1')\n",
    "plt.scatter(X[y == 2][:, 0], y[y == 2], color='g', label='2')\n",
    "plt.legend()\n",
    "plt.show()"
   ]
  },
  {
   "cell_type": "code",
   "execution_count": null,
   "metadata": {},
   "outputs": [],
   "source": []
  },
  {
   "cell_type": "code",
   "execution_count": 5,
   "metadata": {},
   "outputs": [
    {
     "name": "stdout",
     "output_type": "stream",
     "text": [
      "y_one_hot\n",
      " [[1. 0.]\n",
      " [1. 0.]\n",
      " [1. 0.]\n",
      " [0. 1.]\n",
      " [0. 1.]\n",
      " [0. 1.]]\n",
      "X\n",
      " [[1.  1.4]\n",
      " [1.  1.3]\n",
      " [1.  1.5]\n",
      " [1.  4.5]\n",
      " [1.  4.1]\n",
      " [1.  4.6]]\n"
     ]
    }
   ],
   "source": [
    "N = 6 # numbers of samples\n",
    "k = 2 # number of classes\n",
    "\n",
    "# one_hot\n",
    "import numpy as np\n",
    "\n",
    "def convert_one_hot(y, k):  \n",
    "    one_hot = np.zeros((len(y), k))\n",
    "    one_hot[np.arange(len(y)), y] = 1\n",
    "    return one_hot\n",
    "\n",
    "y_one_hot = convert_one_hot(y, k)\n",
    "print('y_one_hot\\n', y_one_hot)\n",
    "\n",
    "intercept = np.ones((X.shape[0], 1))\n",
    "X = np.concatenate((intercept, X), axis=1)\n",
    "print('X\\n', X)"
   ]
  },
  {
   "cell_type": "code",
   "execution_count": null,
   "metadata": {},
   "outputs": [],
   "source": []
  },
  {
   "cell_type": "code",
   "execution_count": 12,
   "metadata": {},
   "outputs": [
    {
     "name": "stdout",
     "output_type": "stream",
     "text": [
      "theta:\n",
      " [[ 0.1   0.05]\n",
      " [ 0.2  -0.1 ]]\n"
     ]
    }
   ],
   "source": [
    "# initialize parameters\n",
    "theta = np.array([[0.1, 0.05], \n",
    "                  [0.2, -0.1]])\n",
    "print('theta:\\n', theta)"
   ]
  },
  {
   "cell_type": "code",
   "execution_count": null,
   "metadata": {},
   "outputs": [],
   "source": []
  },
  {
   "cell_type": "code",
   "execution_count": 13,
   "metadata": {},
   "outputs": [],
   "source": [
    "# some parameters\n",
    "learning_rate = 0.1\n",
    "losses = []\n",
    "num_iter = 100\n",
    "\n",
    "for epoch in range(num_iter):\n",
    "    for i in range(N): \n",
    "        xi = X[i]\n",
    "        yi = y_one_hot[i]\n",
    "        \n",
    "        xi = xi.reshape((2,1))\n",
    "        yi = yi.reshape((2,1))\n",
    "        \n",
    "        # compute z\n",
    "        z = theta.T.dot(xi)        \n",
    "                \n",
    "        # compute y_hat\n",
    "        exp_z = np.exp(z)\n",
    "        y_hat = exp_z / np.sum(exp_z, axis=0)\n",
    "        \n",
    "        # compute the loss\n",
    "        loss = -np.log(yi.T.dot(y_hat))\n",
    "        losses.append(loss[0])\n",
    "        \n",
    "        # compute the gradient dz\n",
    "        dz = y_hat - yi\n",
    "        \n",
    "        # compute dtheta\n",
    "        dtheta = xi.dot(dz.T)\n",
    "        \n",
    "        # update\n",
    "        theta = theta - learning_rate*dtheta  "
   ]
  },
  {
   "cell_type": "code",
   "execution_count": null,
   "metadata": {},
   "outputs": [],
   "source": []
  },
  {
   "cell_type": "code",
   "execution_count": 14,
   "metadata": {},
   "outputs": [
    {
     "data": {
      "image/png": "[encoded data removed]",
      "text/plain": [
       "<Figure size 432x288 with 1 Axes>"
      ]
     },
     "metadata": {
      "needs_background": "light"
     },
     "output_type": "display_data"
    }
   ],
   "source": [
    "x_axis = range(len(losses))\n",
    "plt.plot(x_axis,losses, color=\"r\")\n",
    "plt.show()"
   ]
  },
  {
   "cell_type": "code",
   "execution_count": null,
   "metadata": {},
   "outputs": [],
   "source": []
  },
  {
   "cell_type": "code",
   "execution_count": 15,
   "metadata": {},
   "outputs": [
    {
     "name": "stdout",
     "output_type": "stream",
     "text": [
      "[[ 3.13085488 -2.98085488]\n",
      " [-1.11662847  1.21662847]]\n"
     ]
    }
   ],
   "source": [
    "print(theta)"
   ]
  },
  {
   "cell_type": "code",
   "execution_count": null,
   "metadata": {},
   "outputs": [],
   "source": []
  },
  {
   "cell_type": "code",
   "execution_count": 16,
   "metadata": {},
   "outputs": [
    {
     "name": "stdout",
     "output_type": "stream",
     "text": [
      "[[1. ]\n",
      " [1.4]]\n",
      "[[1.]\n",
      " [0.]]\n"
     ]
    }
   ],
   "source": [
    "i = 0\n",
    "xi = X[i]\n",
    "yi = y_one_hot[i]\n",
    "\n",
    "xi = xi.reshape((2,1))\n",
    "yi = yi.reshape((2,1))\n",
    "\n",
    "print(xi)\n",
    "print(yi)"
   ]
  },
  {
   "cell_type": "code",
   "execution_count": null,
   "metadata": {},
   "outputs": [],
   "source": []
  },
  {
   "cell_type": "code",
   "execution_count": 17,
   "metadata": {},
   "outputs": [
    {
     "name": "stdout",
     "output_type": "stream",
     "text": [
      "[[0.94506744]\n",
      " [0.05493256]]\n"
     ]
    }
   ],
   "source": [
    "z = theta.T.dot(xi)\n",
    "exp_z = np.exp(z)\n",
    "y_hat = exp_z / np.sum(exp_z, axis=0)\n",
    "print(y_hat)"
   ]
  },
  {
   "cell_type": "code",
   "execution_count": null,
   "metadata": {},
   "outputs": [],
   "source": []
  },
  {
   "cell_type": "code",
   "execution_count": 18,
   "metadata": {},
   "outputs": [
    {
     "name": "stdout",
     "output_type": "stream",
     "text": [
      "[0]\n"
     ]
    }
   ],
   "source": [
    "predicted_class = np.argmax(y_hat, axis=0)\n",
    "print(predicted_class)"
   ]
  },
  {
   "cell_type": "code",
   "execution_count": null,
   "metadata": {},
   "outputs": [],
   "source": []
  },
  {
   "cell_type": "code",
   "execution_count": null,
   "metadata": {},
   "outputs": [],
   "source": []
  },
  {
   "cell_type": "code",
   "execution_count": null,
   "metadata": {},
   "outputs": [],
   "source": []
  },
  {
   "cell_type": "code",
   "execution_count": null,
   "metadata": {},
   "outputs": [],
   "source": []
  },
  {
   "cell_type": "code",
   "execution_count": null,
   "metadata": {},
   "outputs": [],
   "source": []
  },
  {
   "cell_type": "code",
   "execution_count": null,
   "metadata": {},
   "outputs": [],
   "source": []
  },
  {
   "cell_type": "code",
   "execution_count": null,
   "metadata": {},
   "outputs": [],
   "source": []
  },
  {
   "cell_type": "code",
   "execution_count": null,
   "metadata": {},
   "outputs": [],
   "source": []
  },
  {
   "cell_type": "code",
   "execution_count": null,
   "metadata": {},
   "outputs": [],
   "source": [
    "# some parameters\n",
    "learning_rate = 0.1\n",
    "losses = []\n",
    "num_iter = 1\n",
    "\n",
    "for epoch in range(num_iter):\n",
    "    for i in range(N): \n",
    "        xi = X[i]\n",
    "        yi = y_one_hot[i]\n",
    "        \n",
    "        xi = xi.reshape((2,1))\n",
    "        yi = yi.reshape((2,1))\n",
    "        print('xi: ', xi)\n",
    "        print('yi:\\n', yi)\n",
    "        \n",
    "        # evaluate class scores\n",
    "        z = theta.T.dot(xi)\n",
    "        print('Z: ', z)        \n",
    "                  \n",
    "        #compute the class probabilities\n",
    "        exp_z = np.exp(z)\n",
    "        y_hat = exp_z / np.sum(exp_z, axis=0)\n",
    "        print('y_hat: ', y_hat)\n",
    "        print('y_hat shape: ', y_hat.shape)\n",
    "        \n",
    "        # compute the loss\n",
    "        loss = -np.log(yi.T.dot(y_hat))\n",
    "        print('loss: ', loss)\n",
    "           \n",
    "        # compute the gradient on scores\n",
    "        dz = y_hat - yi\n",
    "        print('dz:\\n', dz)\n",
    "         \n",
    "        # backpropate the gradient to the parameters (W,b)\n",
    "        dtheta = xi.dot(dz.T)\n",
    "        print('dtheta:\\n', dtheta)\n",
    "        \n",
    "        # perform a parameter update\n",
    "        theta = theta - learning_rate*dtheta        \n",
    "        print('theta:\\n', theta)\n",
    "                \n",
    "        break"
   ]
  }
 ],
 "metadata": {
  "kernelspec": {
   "display_name": "Python 3",
   "language": "python",
   "name": "python3"
  },
  "language_info": {
   "codemirror_mode": {
    "name": "ipython",
    "version": 3
   },
   "file_extension": ".py",
   "mimetype": "text/x-python",
   "name": "python",
   "nbconvert_exporter": "python",
   "pygments_lexer": "ipython3",
   "version": "3.8.8"
  }
 },
 "nbformat": 4,
 "nbformat_minor": 2
}
