{
 "cells": [
  {
   "cell_type": "code",
   "execution_count": 1,
   "metadata": {},
   "outputs": [
    {
     "name": "stdout",
     "output_type": "stream",
     "text": [
      "X_b\n",
      " [[  1.  230.1  37.8  69.2]\n",
      " [  1.   44.5  39.3  45.1]\n",
      " [  1.   17.2  45.9  69.3]\n",
      " [  1.  151.5  41.3  58.5]\n",
      " [  1.  180.8  10.8  58.4]]\n",
      "y\n",
      " [[22.1]\n",
      " [10.4]\n",
      " [12. ]\n",
      " [16.5]\n",
      " [17.9]]\n"
     ]
    }
   ],
   "source": [
    "# dataset\n",
    "import numpy as np\n",
    "from numpy import genfromtxt\n",
    "import matplotlib.pyplot as plt\n",
    "\n",
    "data = genfromtxt('advertising.csv', \n",
    "                  delimiter=',', \n",
    "                  skip_header=1)\n",
    "\n",
    "N = data.shape[0]\n",
    "X = data[:,:3]\n",
    "y = data[:,3:]\n",
    "\n",
    "X_b = np.c_[np.ones((N, 1)), X]\n",
    "\n",
    "print('X_b\\n', X_b[:5, :])\n",
    "print('y\\n', y[:5, :])"
   ]
  },
  {
   "cell_type": "code",
   "execution_count": null,
   "metadata": {},
   "outputs": [],
   "source": []
  },
  {
   "cell_type": "code",
   "execution_count": 2,
   "metadata": {},
   "outputs": [
    {
     "name": "stderr",
     "output_type": "stream",
     "text": [
      "<ipython-input-2-96986095c72f>:24: RuntimeWarning: overflow encountered in multiply\n",
      "  li = (oi - yi)*(oi - yi)\n",
      "<ipython-input-2-96986095c72f>:33: RuntimeWarning: invalid value encountered in subtract\n",
      "  thetas = thetas - learning_rate*gradients\n"
     ]
    },
    {
     "data": {
      "image/png": "[encoded data removed]",
      "text/plain": [
       "<Figure size 432x288 with 1 Axes>"
      ]
     },
     "metadata": {
      "needs_background": "light"
     },
     "output_type": "display_data"
    }
   ],
   "source": [
    "def stochastic_gradient_descent():\n",
    "    n_epochs = 50\n",
    "    learning_rate = 0.001\n",
    "    \n",
    "    # khởi tạo giá trị tham số\n",
    "    thetas = np.random.randn(4, 1)\n",
    "    \n",
    "    # for debug\n",
    "    thetas_path = [thetas]\n",
    "    losses = []\n",
    "    \n",
    "    for epoch in range(n_epochs):\n",
    "        \n",
    "        for i in range(N):\n",
    "            # lấy ngẫu nhiên 1 sample\n",
    "            random_index = np.random.randint(N)\n",
    "            xi = X_b[random_index:random_index+1]\n",
    "            yi = y[random_index:random_index+1]\n",
    "            \n",
    "            # tính output \n",
    "            oi = xi.dot(thetas)\n",
    "            \n",
    "            # tính loss li\n",
    "            li = (oi - yi)*(oi - yi)\n",
    "            \n",
    "            # tính gradient cho loss\n",
    "            g_li = 2*(oi - yi)\n",
    "            \n",
    "            # tính gradient \n",
    "            gradients = xi.T.dot(g_li)\n",
    "                        \n",
    "            # update giá trị theta\n",
    "            thetas = thetas - learning_rate*gradients\n",
    "            \n",
    "            # logging\n",
    "            thetas_path.append(thetas)            \n",
    "            losses.append(li[0][0])\n",
    "\n",
    "    return thetas_path, losses\n",
    "\n",
    "bgd_thetas, losses = stochastic_gradient_descent()\n",
    "\n",
    "# in loss cho 500 sample đầu\n",
    "x_axis = list(range(500))\n",
    "plt.plot(x_axis,losses[:500], color=\"r\")\n",
    "plt.show()"
   ]
  },
  {
   "cell_type": "code",
   "execution_count": null,
   "metadata": {},
   "outputs": [],
   "source": []
  },
  {
   "cell_type": "code",
   "execution_count": null,
   "metadata": {},
   "outputs": [],
   "source": []
  },
  {
   "cell_type": "code",
   "execution_count": 3,
   "metadata": {},
   "outputs": [
    {
     "name": "stderr",
     "output_type": "stream",
     "text": [
      "<ipython-input-3-05b28f927e26>:22: RuntimeWarning: overflow encountered in square\n",
      "  loss = (output - yi)**2\n",
      "<ipython-input-3-05b28f927e26>:32: RuntimeWarning: invalid value encountered in subtract\n",
      "  thetas = thetas - learning_rate*gradients\n"
     ]
    },
    {
     "data": {
      "image/png": "[encoded data removed]",
      "text/plain": [
       "<Figure size 432x288 with 1 Axes>"
      ]
     },
     "metadata": {
      "needs_background": "light"
     },
     "output_type": "display_data"
    }
   ],
   "source": [
    "def mini_batch_gradient_descent():\n",
    "    n_iterations = 50\n",
    "    minibatch_size = 20\n",
    "    \n",
    "    thetas = np.random.randn(4, 1)\n",
    "    thetas_path = [thetas]    \n",
    "    losses = []\n",
    "    \n",
    "    for epoch in range(n_iterations):\n",
    "        shuffled_indices = np.random.permutation(N)\n",
    "        X_b_shuffled = X_b[shuffled_indices]\n",
    "        y_shuffled = y[shuffled_indices]\n",
    "                \n",
    "        for i in range(0, N, minibatch_size):\n",
    "            xi = X_b_shuffled[i:i+minibatch_size]\n",
    "            yi = y_shuffled[i:i+minibatch_size]\n",
    "            \n",
    "            # tính output \n",
    "            output = xi.dot(thetas)\n",
    "            \n",
    "            # tính loss\n",
    "            loss = (output - yi)**2\n",
    "            \n",
    "            # tính đạo hàm cho loss\n",
    "            loss_grd = 2*(output - yi)/minibatch_size\n",
    "            \n",
    "            # tính đạo hàm cho các tham số\n",
    "            gradients = xi.T.dot(loss_grd)\n",
    "            \n",
    "            # cập nhật tham số\n",
    "            learning_rate = 0.01\n",
    "            thetas = thetas - learning_rate*gradients\n",
    "            thetas_path.append(thetas)\n",
    "            \n",
    "            loss_mean = np.sum(loss)/minibatch_size\n",
    "            losses.append(loss_mean)\n",
    "\n",
    "    return thetas_path, losses\n",
    "\n",
    "mbgd_thetas, losses = mini_batch_gradient_descent()\n",
    "\n",
    "# in loss cho 100 sample đầu\n",
    "x_axis = list(range(200))\n",
    "plt.plot(x_axis,losses[:200], color=\"r\")\n",
    "plt.show()"
   ]
  },
  {
   "cell_type": "code",
   "execution_count": 4,
   "metadata": {},
   "outputs": [
    {
     "name": "stderr",
     "output_type": "stream",
     "text": [
      "<ipython-input-4-522b7c268f75>:15: RuntimeWarning: overflow encountered in square\n",
      "  loss = (output - y)**2\n"
     ]
    },
    {
     "data": {
      "image/png": "[encoded data removed]",
      "text/plain": [
       "<Figure size 432x288 with 1 Axes>"
      ]
     },
     "metadata": {
      "needs_background": "light"
     },
     "output_type": "display_data"
    }
   ],
   "source": [
    "def batch_gradient_descent():\n",
    "    n_iterations = 100\n",
    "    learning_rate = 0.01\n",
    "    \n",
    "    # khởi tạo giá trị tham số\n",
    "    thetas = np.random.randn(4, 1)\n",
    "    thetas_path = [thetas]\n",
    "    losses = []\n",
    "    \n",
    "    for i in range(n_iterations):\n",
    "        # tính output\n",
    "        output = X_b.dot(thetas)\n",
    "        \n",
    "        # tính loss\n",
    "        loss = (output - y)**2        \n",
    "                \n",
    "        # tính đạo hàm cho loss\n",
    "        loss_grd = 2*(output - y)/N\n",
    "        \n",
    "        # tính đạo hàm cho các tham số\n",
    "        gradients = X_b.T.dot(loss_grd)\n",
    "        \n",
    "        # cập nhật tham số\n",
    "        thetas = thetas - learning_rate*gradients\n",
    "        thetas_path.append(thetas)\n",
    "        \n",
    "        mean_loss = np.sum(loss)/N\n",
    "        losses.append(mean_loss)\n",
    "\n",
    "    return thetas_path, losses\n",
    "\n",
    "bgd_thetas, losses = batch_gradient_descent()\n",
    "\n",
    "# in loss cho 100 sample đầu\n",
    "x_axis = list(range(100))\n",
    "plt.plot(x_axis,losses[:100], color=\"r\")\n",
    "plt.show()"
   ]
  },
  {
   "cell_type": "code",
   "execution_count": null,
   "metadata": {},
   "outputs": [],
   "source": []
  },
  {
   "cell_type": "code",
   "execution_count": 5,
   "metadata": {},
   "outputs": [
    {
     "name": "stderr",
     "output_type": "stream",
     "text": [
      "<ipython-input-5-3da47fba5240>:16: RuntimeWarning: overflow encountered in square\n",
      "  loss = (output - y)**2\n"
     ]
    },
    {
     "data": {
      "image/png": "[encoded data removed]",
      "text/plain": [
       "<Figure size 432x288 with 1 Axes>"
      ]
     },
     "metadata": {
      "needs_background": "light"
     },
     "output_type": "display_data"
    }
   ],
   "source": [
    "import numpy as np\n",
    "\n",
    "n_iterations = 100\n",
    "learning_rate = 0.01\n",
    "\n",
    "# khởi tạo giá trị tham số\n",
    "thetas = np.random.randn(4, 1)\n",
    "thetas_path = [thetas]\n",
    "losses = []\n",
    "\n",
    "for i in range(n_iterations):\n",
    "    # tính output\n",
    "    output = X_b.dot(thetas)\n",
    "    \n",
    "    # tính loss\n",
    "    loss = (output - y)**2        \n",
    "            \n",
    "    # tính đạo hàm cho loss\n",
    "    loss_grd = 2*(output - y)/N\n",
    "    \n",
    "    # tính đạo hàm cho các tham số\n",
    "    gradients = X_b.T.dot(loss_grd)\n",
    "    \n",
    "    # cập nhật tham số\n",
    "    thetas = thetas - learning_rate*gradients\n",
    "    thetas_path.append(thetas)\n",
    "    \n",
    "    mean_loss = np.sum(loss)/N\n",
    "    losses.append(mean_loss)\n",
    "\n",
    "# in loss cho 100 sample đầu\n",
    "x_axis = list(range(100))\n",
    "plt.plot(x_axis,losses[:100], color=\"r\")\n",
    "plt.show()"
   ]
  },
  {
   "cell_type": "code",
   "execution_count": null,
   "metadata": {},
   "outputs": [],
   "source": []
  }
 ],
 "metadata": {
  "kernelspec": {
   "display_name": "Python 3",
   "language": "python",
   "name": "python3"
  },
  "language_info": {
   "codemirror_mode": {
    "name": "ipython",
    "version": 3
   },
   "file_extension": ".py",
   "mimetype": "text/x-python",
   "name": "python",
   "nbconvert_exporter": "python",
   "pygments_lexer": "ipython3",
   "version": "3.8.8"
  }
 },
 "nbformat": 4,
 "nbformat_minor": 2
}
