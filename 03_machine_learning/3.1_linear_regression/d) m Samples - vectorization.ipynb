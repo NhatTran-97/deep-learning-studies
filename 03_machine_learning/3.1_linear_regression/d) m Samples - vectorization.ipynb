{
 "cells": [
  {
   "cell_type": "markdown",
   "metadata": {},
   "source": [
    "## way 1"
   ]
  },
  {
   "cell_type": "code",
   "execution_count": null,
   "metadata": {},
   "outputs": [],
   "source": [
    "# load data\n",
    "\n",
    "import numpy as np\n",
    "from numpy import genfromtxt\n",
    "import matplotlib.pyplot as plt\n",
    "\n",
    "data = genfromtxt('data.csv', delimiter=',')\n",
    "areas  = data[:,0]\n",
    "prices = data[:,1:]\n",
    "N = areas.size\n",
    "\n",
    "print(type(areas))\n",
    "print('areas: \\n', areas)\n",
    "print('prices: \\n', prices)\n",
    "print('data_size: ', N)\n",
    "\n",
    "plt.scatter(areas, prices)\n",
    "plt.xlabel('areas')\n",
    "plt.ylabel('prices')\n",
    "plt.xlim(3,7)\n",
    "plt.ylim(4,10)\n",
    "plt.show()"
   ]
  },
  {
   "cell_type": "code",
   "execution_count": null,
   "metadata": {},
   "outputs": [],
   "source": [
    "# vector [x, b]\n",
    "data = np.c_[areas, np.ones((N, 1))]\n",
    "data = data.T\n",
    "print('data \\n', data)\n",
    "\n",
    "theta = np.array([[-0.34], [0.04]]) #[w, b]\n",
    "print('theta \\n', theta)\n",
    "print(theta.shape)"
   ]
  },
  {
   "cell_type": "code",
   "execution_count": null,
   "metadata": {},
   "outputs": [],
   "source": [
    "epoch_max = 10\n",
    "m = 2\n",
    "for epoch in range(epoch_max):\n",
    "    for i in range(0, N, m): \n",
    "        \n",
    "        # get m samples\n",
    "        x = data[:, i:i+m]\n",
    "        y = prices[i:i+m, :]\n",
    "        \n",
    "        print('x: \\n', x)\n",
    "        print('y: \\n', y)\n",
    "        \n",
    "        break\n",
    "    break"
   ]
  },
  {
   "cell_type": "code",
   "execution_count": null,
   "metadata": {},
   "outputs": [],
   "source": [
    "    # params\n",
    "    lr = 0.01\n",
    "    epoch_max = 10\n",
    "    m = 2\n",
    "\n",
    "    losses = [] # for debug\n",
    "    for epoch in range(epoch_max):\n",
    "        for i in range(0, N, m):    \n",
    "            \n",
    "            # get m samples\n",
    "            x = data[:, i:i+m]\n",
    "            y = prices[i:i+m, :]\n",
    "            \n",
    "            # predict y_hat\n",
    "            y_hat = theta.T.dot(x)\n",
    "                    \n",
    "            # compute loss\n",
    "            loss = np.multiply((y_hat-y.T), (y_hat-y.T))\n",
    "            losses.append(np.mean(loss))\n",
    "            \n",
    "            # compute gradient\n",
    "            k = 2*(y_hat-y.T)\n",
    "            gradients = np.multiply(x, np.vstack( (k, k) ))\n",
    "            gradients = gradients.dot( np.ones((m, 1)) )/m\n",
    "\n",
    "            # update weights\n",
    "            theta = theta - lr*gradients"
   ]
  },
  {
   "cell_type": "code",
   "execution_count": null,
   "metadata": {},
   "outputs": [],
   "source": [
    "import matplotlib.pyplot as plt\n",
    "\n",
    "plt.plot(losses)\n",
    "plt.xlabel('iteration')\n",
    "plt.ylabel('losses')\n",
    "plt.show()"
   ]
  },
  {
   "cell_type": "code",
   "execution_count": null,
   "metadata": {},
   "outputs": [],
   "source": [
    "x_data = range(2, 8)\n",
    "y_data = [x*theta[0] + theta[1] for x in x_data]\n",
    "plt.plot(x_data, y_data)\n",
    "#--------------------------------------\n",
    "plt.scatter(areas, prices)\n",
    "\n",
    "plt.xlabel('Diện tích nhà (x 100$m^2$)')\n",
    "plt.ylabel('Giá nhà (chục lượng vàng)')\n",
    "\n",
    "plt.xlim(3,7)\n",
    "plt.ylim(4,10)\n",
    "plt.show()"
   ]
  },
  {
   "cell_type": "code",
   "execution_count": null,
   "metadata": {},
   "outputs": [],
   "source": []
  },
  {
   "cell_type": "code",
   "execution_count": null,
   "metadata": {},
   "outputs": [],
   "source": []
  },
  {
   "cell_type": "markdown",
   "metadata": {},
   "source": [
    "## way 2"
   ]
  },
  {
   "cell_type": "code",
   "execution_count": 1,
   "metadata": {},
   "outputs": [
    {
     "name": "stdout",
     "output_type": "stream",
     "text": [
      "<class 'numpy.ndarray'>\n",
      "areas: \n",
      " [6.7 4.6 3.5 5.5]\n",
      "prices: \n",
      " [[9.1]\n",
      " [5.9]\n",
      " [4.6]\n",
      " [6.7]]\n",
      "data_size:  4\n"
     ]
    },
    {
     "data": {
      "image/png": "[encoded data removed]",
      "text/plain": [
       "<Figure size 432x288 with 1 Axes>"
      ]
     },
     "metadata": {
      "needs_background": "light"
     },
     "output_type": "display_data"
    }
   ],
   "source": [
    "# load data\n",
    "\n",
    "import numpy as np\n",
    "from numpy import genfromtxt\n",
    "import matplotlib.pyplot as plt\n",
    "\n",
    "data = genfromtxt('data.csv', delimiter=',')\n",
    "areas  = data[:,0]\n",
    "prices = data[:,1:]\n",
    "N = areas.size\n",
    "\n",
    "print(type(areas))\n",
    "print('areas: \\n', areas)\n",
    "print('prices: \\n', prices)\n",
    "print('data_size: ', N)\n",
    "\n",
    "plt.scatter(areas, prices)\n",
    "plt.xlabel('areas')\n",
    "plt.ylabel('prices')\n",
    "plt.xlim(3,7)\n",
    "plt.ylim(4,10)\n",
    "plt.show()"
   ]
  },
  {
   "cell_type": "code",
   "execution_count": 2,
   "metadata": {},
   "outputs": [
    {
     "name": "stdout",
     "output_type": "stream",
     "text": [
      "[[6.7 1. ]\n",
      " [4.6 1. ]\n",
      " [3.5 1. ]\n",
      " [5.5 1. ]]\n",
      "theta \n",
      " [[-0.34]\n",
      " [ 0.04]]\n",
      "(2, 1)\n"
     ]
    }
   ],
   "source": [
    "# vector [x, b]\n",
    "data = np.c_[areas, np.ones((N, 1))]\n",
    "print(data)\n",
    "\n",
    "theta = np.array([[-0.34], [0.04]]) #[w, b]\n",
    "print('theta \\n', theta)\n",
    "print(theta.shape)"
   ]
  },
  {
   "cell_type": "code",
   "execution_count": 3,
   "metadata": {},
   "outputs": [
    {
     "name": "stdout",
     "output_type": "stream",
     "text": [
      "[[6.7 1. ]\n",
      " [4.6 1. ]]\n",
      "[[9.1]\n",
      " [5.9]]\n"
     ]
    }
   ],
   "source": [
    "epoch_max = 10\n",
    "m = 2\n",
    "for epoch in range(epoch_max):\n",
    "    for i in range(0, N, m):        \n",
    "        # get m samples\n",
    "        x = data[i:i+m, :]\n",
    "        y = prices[i:i+m, :]\n",
    "        \n",
    "        print(x)\n",
    "        print(y)\n",
    "        \n",
    "        break\n",
    "    break"
   ]
  },
  {
   "cell_type": "code",
   "execution_count": 4,
   "metadata": {},
   "outputs": [],
   "source": [
    "# params\n",
    "lr = 0.01\n",
    "epoch_max = 10\n",
    "m = 2\n",
    "\n",
    "losses = [] # for debug\n",
    "for epoch in range(epoch_max):\n",
    "    for i in range(0, N, m):        \n",
    "        # get m samples\n",
    "        x = data[i:i+m, :]\n",
    "        y = prices[i:i+m, :]\n",
    "        \n",
    "        # predict y_hat\n",
    "        y_hat = x.dot(theta)\n",
    "        \n",
    "        # compute loss\n",
    "        loss = np.multiply((y_hat-y), (y_hat-y))\n",
    "        losses.append(np.mean(loss))\n",
    "        \n",
    "        # compute gradient\n",
    "        k = 2*(y_hat-y)  \n",
    "        gradients = np.multiply(x, np.hstack([k, k]))\n",
    "        gradients = np.ones((1, m)).dot(gradients)/m\n",
    "\n",
    "        # update weights\n",
    "        theta = theta - lr*gradients.T"
   ]
  },
  {
   "cell_type": "code",
   "execution_count": 5,
   "metadata": {},
   "outputs": [
    {
     "data": {
      "image/png": "[encoded data removed]",
      "text/plain": [
       "<Figure size 432x288 with 1 Axes>"
      ]
     },
     "metadata": {
      "needs_background": "light"
     },
     "output_type": "display_data"
    }
   ],
   "source": [
    "import matplotlib.pyplot as plt\n",
    "\n",
    "plt.plot(losses)\n",
    "plt.xlabel('iteration')\n",
    "plt.ylabel('losses')\n",
    "plt.show()"
   ]
  },
  {
   "cell_type": "code",
   "execution_count": 6,
   "metadata": {},
   "outputs": [
    {
     "data": {
      "image/png": "[encoded data removed]",
      "text/plain": [
       "<Figure size 432x288 with 1 Axes>"
      ]
     },
     "metadata": {
      "needs_background": "light"
     },
     "output_type": "display_data"
    }
   ],
   "source": [
    "x_data = range(2, 8)\n",
    "y_data = [x*theta[0] + theta[1] for x in x_data]\n",
    "plt.plot(x_data, y_data)\n",
    "#--------------------------------------\n",
    "plt.scatter(areas, prices)\n",
    "\n",
    "plt.xlabel('Diện tích nhà (x 100$m^2$)')\n",
    "plt.ylabel('Giá nhà (chục lượng vàng)')\n",
    "\n",
    "plt.xlim(3,7)\n",
    "plt.ylim(4,10)\n",
    "plt.show()"
   ]
  },
  {
   "cell_type": "code",
   "execution_count": null,
   "metadata": {},
   "outputs": [],
   "source": []
  },
  {
   "cell_type": "code",
   "execution_count": null,
   "metadata": {},
   "outputs": [],
   "source": []
  },
  {
   "cell_type": "code",
   "execution_count": null,
   "metadata": {},
   "outputs": [],
   "source": []
  },
  {
   "cell_type": "code",
   "execution_count": null,
   "metadata": {},
   "outputs": [],
   "source": []
  },
  {
   "cell_type": "code",
   "execution_count": null,
   "metadata": {},
   "outputs": [],
   "source": []
  },
  {
   "cell_type": "code",
   "execution_count": null,
   "metadata": {},
   "outputs": [],
   "source": []
  },
  {
   "cell_type": "code",
   "execution_count": null,
   "metadata": {},
   "outputs": [],
   "source": []
  },
  {
   "cell_type": "code",
   "execution_count": null,
   "metadata": {},
   "outputs": [],
   "source": []
  },
  {
   "cell_type": "code",
   "execution_count": null,
   "metadata": {},
   "outputs": [],
   "source": []
  },
  {
   "cell_type": "code",
   "execution_count": null,
   "metadata": {},
   "outputs": [],
   "source": []
  },
  {
   "cell_type": "code",
   "execution_count": null,
   "metadata": {},
   "outputs": [],
   "source": [
    "# load data\n",
    "\n",
    "import numpy as np\n",
    "from numpy import genfromtxt\n",
    "import matplotlib.pyplot as plt\n",
    "\n",
    "data = genfromtxt('data.csv', delimiter=',')\n",
    "areas  = data[:,0]\n",
    "prices = data[:,1:]\n",
    "data_size = areas.size\n",
    "\n",
    "print(type(areas))\n",
    "print('areas: ', areas)\n",
    "print('prices: ', prices)\n",
    "print('data_size: ', data_size)\n",
    "\n",
    "plt.scatter(areas, prices)\n",
    "plt.xlabel('areas')\n",
    "plt.ylabel('prices')\n",
    "plt.xlim(3,7)\n",
    "plt.ylim(4,10)\n",
    "plt.show()"
   ]
  },
  {
   "cell_type": "code",
   "execution_count": null,
   "metadata": {},
   "outputs": [],
   "source": [
    "import numpy as np\n",
    "from numpy import genfromtxt\n",
    "\n",
    "data   = genfromtxt('data.csv', delimiter=',')\n",
    "areas  = data[:,0]\n",
    "prices = data[:,1:]\n",
    "data_size = areas.size\n",
    "\n",
    "# vector [x, b]\n",
    "data = np.c_[areas, np.ones((data_size, 1))]\n",
    "data = data.T\n",
    "print(data)\n",
    "\n",
    "# init weight\n",
    "lr = 0.01\n",
    "theta = np.array([[-0.34], [0.04]]) #[w, b]\n",
    "print('theta', theta.shape)\n",
    "\n",
    "# how long\n",
    "epoch_max = 10\n",
    "\n",
    "# mini-batch size\n",
    "m = 2\n",
    "\n",
    "for epoch in range(epoch_max):    \n",
    "    for i in range(0, data_size, m):\n",
    "        print(i)\n",
    "        x = data[:, i:i+m]\n",
    "        y = prices[i:i+m, :]        \n",
    "        print('x: \\n', x, x.shape)\n",
    "        print('y: \\n', y, y.shape)\n",
    "        \n",
    "        # predict y_hat\n",
    "        y_hat = theta.T.dot(x)\n",
    "        print('y_hat: \\n', y_hat)\n",
    "        \n",
    "        loss = np.multiply((y_hat-y.T), (y_hat-y.T))\n",
    "        print('loss: \\n', loss)\n",
    "        \n",
    "        # compute gradient\n",
    "        b = 2*(y_hat-y.T)\n",
    "        print(\"b: \\n\", b)\n",
    "\n",
    "        gradient = np.multiply(x, np.vstack((b, b)))        \n",
    "        gradient = gradient.dot(np.ones((m, 1)))/m\n",
    "        print('gradient: \\n', gradient)\n",
    "\n",
    "        theta = theta - lr*gradient\n",
    "        print('theta: \\n', theta)"
   ]
  },
  {
   "cell_type": "code",
   "execution_count": null,
   "metadata": {},
   "outputs": [],
   "source": []
  },
  {
   "cell_type": "code",
   "execution_count": null,
   "metadata": {},
   "outputs": [],
   "source": [
    "import numpy as np\n",
    "from numpy import genfromtxt\n",
    "\n",
    "data = genfromtxt('data.csv', delimiter=',')\n",
    "areas  = data[:,0]\n",
    "prices = data[:,1:]\n",
    "data_size = areas.size\n",
    "\n",
    "# vector [x, b]\n",
    "data = np.c_[areas, np.ones((data_size, 1))]\n",
    "data = data.T\n",
    "\n",
    "# init weight\n",
    "eta = 0.01\n",
    "theta = np.array([[-0.34], [0.04]]) #[w, b]\n",
    "\n",
    "# how long\n",
    "epoch_max = 10\n",
    "\n",
    "# mini-batch size\n",
    "m = 2\n",
    "\n",
    "losses = [] # for debug\n",
    "for epoch in range(epoch_max):\n",
    "    for i in range(0, data_size, m):        \n",
    "        # get m samples\n",
    "        x = data[:, i:i+m]\n",
    "        y = prices[i:i+m, :]\n",
    "        \n",
    "        # predict y_hat\n",
    "        y_hat = theta.T.dot(x)\n",
    "        \n",
    "        # compute loss\n",
    "        loss = np.multiply((y_hat-y.T), (y_hat-y.T))\n",
    "        losses.append(np.mean(loss))\n",
    "        \n",
    "        # compute gradient\n",
    "        b = 2*(y_hat-y.T)\n",
    "        gradients = np.multiply(x, np.vstack((b, b)))\n",
    "        gradients = gradients.dot(np.ones((m, 1)))/m\n",
    "\n",
    "        # update weights\n",
    "        theta = theta - eta*gradients"
   ]
  },
  {
   "cell_type": "code",
   "execution_count": null,
   "metadata": {},
   "outputs": [],
   "source": [
    "import matplotlib.pyplot as plt\n",
    "\n",
    "plt.plot(losses)\n",
    "plt.xlabel('iteration')\n",
    "plt.ylabel('losses')\n",
    "plt.show()"
   ]
  },
  {
   "cell_type": "code",
   "execution_count": null,
   "metadata": {},
   "outputs": [],
   "source": []
  }
 ],
 "metadata": {
  "kernelspec": {
   "display_name": "Python 3",
   "language": "python",
   "name": "python3"
  },
  "language_info": {
   "codemirror_mode": {
    "name": "ipython",
    "version": 3
   },
   "file_extension": ".py",
   "mimetype": "text/x-python",
   "name": "python",
   "nbconvert_exporter": "python",
   "pygments_lexer": "ipython3",
   "version": "3.8.8"
  }
 },
 "nbformat": 4,
 "nbformat_minor": 2
}
