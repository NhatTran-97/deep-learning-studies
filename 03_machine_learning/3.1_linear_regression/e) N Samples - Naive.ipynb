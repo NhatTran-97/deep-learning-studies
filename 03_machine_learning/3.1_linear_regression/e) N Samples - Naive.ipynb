{
 "cells": [
  {
   "cell_type": "code",
   "execution_count": 1,
   "metadata": {},
   "outputs": [
    {
     "name": "stdout",
     "output_type": "stream",
     "text": [
      "<class 'numpy.ndarray'>\n",
      "areas: \n",
      " [6.7 4.6 3.5 5.5]\n",
      "prices: \n",
      " [9.1 5.9 4.6 6.7]\n",
      "data_size:  4\n"
     ]
    },
    {
     "data": {
      "image/png": "[encoded data removed]",
      "text/plain": [
       "<Figure size 432x288 with 1 Axes>"
      ]
     },
     "metadata": {
      "needs_background": "light"
     },
     "output_type": "display_data"
    }
   ],
   "source": [
    "# load data\n",
    "\n",
    "import numpy as np\n",
    "from numpy import genfromtxt\n",
    "import matplotlib.pyplot as plt\n",
    "\n",
    "data = genfromtxt('data.csv', delimiter=',')\n",
    "areas  = data[:,0]\n",
    "prices = data[:,1]\n",
    "N = areas.size\n",
    "\n",
    "print(type(areas))\n",
    "print('areas: \\n', areas)\n",
    "print('prices: \\n', prices)\n",
    "print('data_size: ', N)\n",
    "\n",
    "plt.scatter(areas, prices)\n",
    "plt.xlabel('areas')\n",
    "plt.ylabel('prices')\n",
    "plt.xlim(3,7)\n",
    "plt.ylim(4,10)\n",
    "plt.show()"
   ]
  },
  {
   "cell_type": "code",
   "execution_count": 3,
   "metadata": {},
   "outputs": [
    {
     "name": "stdout",
     "output_type": "stream",
     "text": [
      "data \n",
      " [[6.7 1. ]\n",
      " [4.6 1. ]\n",
      " [3.5 1. ]\n",
      " [5.5 1. ]]\n",
      "theta \n",
      " [[-0.34]\n",
      " [ 0.04]]\n"
     ]
    }
   ],
   "source": [
    "# vector [x, b]\n",
    "data = np.c_[areas, np.ones((N, 1))]\n",
    "print('data \\n', data)\n",
    "\n",
    "theta = np.array([[-0.34],[0.04]])\n",
    "print('theta \\n', theta)"
   ]
  },
  {
   "cell_type": "code",
   "execution_count": 6,
   "metadata": {},
   "outputs": [],
   "source": [
    "# params\n",
    "n_epochs = 10\n",
    "lr = 0.01\n",
    "\n",
    "losses = [] # for debug\n",
    "for epoch in range(n_epochs):\n",
    "    sum_of_losses = 0\n",
    "    gradients = np.zeros((2,1))\n",
    "    \n",
    "    for index in range(N):\n",
    "        # get data\n",
    "        x_i = data[index:index+1]\n",
    "        y_i = prices[index:index+1]\n",
    "\n",
    "        # compute output y_hat_i\n",
    "        y_hat_i = x_i.dot(theta)\n",
    "        \n",
    "        # compute loss\n",
    "        l_i = (y_hat_i - y_i)*(y_hat_i - y_i)   \n",
    "        \n",
    "        # compute gradient\n",
    "        g_l_i = 2*(y_hat_i - y_i)\n",
    "        gradient = x_i.T.dot(g_l_i)\n",
    "        \n",
    "        # accumulate gradient\n",
    "        gradients = gradients + gradient\n",
    "        sum_of_losses = sum_of_losses + l_i\n",
    "    \n",
    "    # normalize\n",
    "    sum_of_losses = sum_of_losses/N     \n",
    "    gradients     = gradients/N    \n",
    "    \n",
    "    # for debug\n",
    "    losses.append(sum_of_losses[0][0]) \n",
    "    \n",
    "    # update\n",
    "    theta = theta - lr*gradients    "
   ]
  },
  {
   "cell_type": "code",
   "execution_count": 7,
   "metadata": {},
   "outputs": [
    {
     "data": {
      "image/png": "[encoded data removed]",
      "text/plain": [
       "<Figure size 432x288 with 1 Axes>"
      ]
     },
     "metadata": {
      "needs_background": "light"
     },
     "output_type": "display_data"
    }
   ],
   "source": [
    "import matplotlib.pyplot as plt\n",
    "\n",
    "plt.plot(losses)\n",
    "plt.xlabel('iteration')\n",
    "plt.ylabel('losses')\n",
    "plt.show()"
   ]
  },
  {
   "cell_type": "code",
   "execution_count": 8,
   "metadata": {},
   "outputs": [
    {
     "data": {
      "image/png": "[encoded data removed]",
      "text/plain": [
       "<Figure size 432x288 with 1 Axes>"
      ]
     },
     "metadata": {
      "needs_background": "light"
     },
     "output_type": "display_data"
    }
   ],
   "source": [
    "x_data = range(2, 8)\n",
    "y_data = [x*theta[0] + theta[1] for x in x_data]\n",
    "plt.plot(x_data, y_data)\n",
    "#--------------------------------------\n",
    "plt.scatter(areas, prices)\n",
    "\n",
    "plt.xlabel('Diện tích nhà (x 100$m^2$)')\n",
    "plt.ylabel('Giá nhà (chục lượng vàng)')\n",
    "\n",
    "plt.xlim(3,7)\n",
    "plt.ylim(4,10)\n",
    "plt.show()"
   ]
  },
  {
   "cell_type": "code",
   "execution_count": null,
   "metadata": {},
   "outputs": [],
   "source": []
  },
  {
   "cell_type": "code",
   "execution_count": null,
   "metadata": {},
   "outputs": [],
   "source": []
  },
  {
   "cell_type": "code",
   "execution_count": null,
   "metadata": {},
   "outputs": [],
   "source": []
  }
 ],
 "metadata": {
  "kernelspec": {
   "display_name": "Python 3",
   "language": "python",
   "name": "python3"
  },
  "language_info": {
   "codemirror_mode": {
    "name": "ipython",
    "version": 3
   },
   "file_extension": ".py",
   "mimetype": "text/x-python",
   "name": "python",
   "nbconvert_exporter": "python",
   "pygments_lexer": "ipython3",
   "version": "3.8.8"
  }
 },
 "nbformat": 4,
 "nbformat_minor": 2
}
