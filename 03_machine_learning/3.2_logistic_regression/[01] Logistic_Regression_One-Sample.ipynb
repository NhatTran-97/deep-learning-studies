{
 "cells": [
  {
   "cell_type": "code",
   "execution_count": 130,
   "id": "f0b0aa28-7c40-45bb-b95f-5eb314edbec7",
   "metadata": {},
   "outputs": [],
   "source": [
    "import numpy as np\n",
    "\n",
    "def sigmoid(z):\n",
    "    return 1.0 / (1 + np.exp(-z) )\n",
    "\n",
    "def predict(x, theta):\n",
    "    z = x.dot(theta)\n",
    "    \n",
    "    y_hat = sigmoid(z)\n",
    "    return y_hat\n",
    "\n",
    "def compute_loss(y_hat,y):\n",
    "    return -y*np.log(y_hat) - (1-y)*np.log(1-y_hat)\n"
   ]
  },
  {
   "cell_type": "code",
   "execution_count": 131,
   "id": "aee706b9-936a-403a-8fe7-84bfd96bd4b7",
   "metadata": {},
   "outputs": [
    {
     "name": "stdout",
     "output_type": "stream",
     "text": [
      "[0 4 3 1 2]\n",
      "[4 8 7 5 6]\n"
     ]
    }
   ],
   "source": [
    "# moi 1 epoch_new thi shuffle data 1 lan\n",
    "data_ = np.array([4,5,6,7,8])\n",
    "# xao tron data\n",
    "indices_ = np.random.permutation(5)\n",
    "print(indices_)\n",
    "print(data_[indices_])"
   ]
  },
  {
   "cell_type": "code",
   "execution_count": 132,
   "id": "5eded2b7-e1c5-48c8-9b9d-5a01b3b649cc",
   "metadata": {},
   "outputs": [
    {
     "name": "stdout",
     "output_type": "stream",
     "text": [
      "size: 100\n",
      "(100, 5)\n"
     ]
    }
   ],
   "source": [
    "# 1. process data\n",
    "import numpy as np\n",
    "import matplotlib.pyplot as plt\n",
    "data_iris = np.genfromtxt('iris_full.csv', dtype = None ,delimiter = ',', skip_header = True)\n",
    "N = len(data_iris[:,0])\n",
    "#M = data_iris.shape[0]\n",
    "#print(M)\n",
    "print('size:',N)\n",
    "print(data_iris.shape)"
   ]
  },
  {
   "cell_type": "code",
   "execution_count": 133,
   "id": "c20dcf9f-23f5-4308-a1ed-f92675f4d4b3",
   "metadata": {},
   "outputs": [],
   "source": [
    "data_X = data_iris[:,:4]\n",
    "\n",
    "data_y = data_iris[:,4]\n",
    "indices = np.random.permutation(N)\n",
    "data_X = data_X[indices]\n",
    "data_y = data_y[indices]"
   ]
  },
  {
   "cell_type": "code",
   "execution_count": 134,
   "id": "3b374640-b97d-4b16-9651-f729c4a7f4ca",
   "metadata": {},
   "outputs": [
    {
     "name": "stdout",
     "output_type": "stream",
     "text": [
      "[[5.5 4.2 1.4 0.2]\n",
      " [5.1 3.5 1.4 0.2]\n",
      " [4.4 3.2 1.3 0.2]\n",
      " [5.4 3.9 1.3 0.4]\n",
      " [4.7 3.2 1.6 0.2]]\n",
      "[0. 0. 0. 0. 0.]\n"
     ]
    }
   ],
   "source": [
    "print(data_X[:5])\n",
    "print(data_y[:5])"
   ]
  },
  {
   "cell_type": "code",
   "execution_count": 135,
   "id": "cb40b66a-d100-4267-a25c-92749701098d",
   "metadata": {},
   "outputs": [],
   "source": [
    "#intercept = np.ones((data_X.shape[0],1))\n",
    "#print(intercept.shape)\n",
    "#X_b = np.concatenate((intercept,data_X), axis = 1)\n",
    "#print(X_b[:5])\n"
   ]
  },
  {
   "cell_type": "code",
   "execution_count": 136,
   "id": "e13656c1-9ea6-4d1e-99f9-5a878a51c260",
   "metadata": {},
   "outputs": [
    {
     "name": "stdout",
     "output_type": "stream",
     "text": [
      "shape X\n",
      " (100, 5)\n",
      "shape y\n",
      " (100,)\n",
      "shape theta\n",
      " (5,)\n"
     ]
    }
   ],
   "source": [
    "X = np.c_[np.ones((N,1)),data_X]\n",
    "y = data_y\n",
    "theta = np.array([0.1,0.3,0.1,0.2,-0.1])\n",
    "print('shape X\\n', X.shape)\n",
    "print('shape y\\n',y.shape)\n",
    "print('shape theta\\n', theta.shape)\n"
   ]
  },
  {
   "cell_type": "code",
   "execution_count": 137,
   "id": "e57eb9b6-b953-410e-ad25-70cfb2d2e51b",
   "metadata": {},
   "outputs": [],
   "source": [
    "lr = 0.01\n",
    "num_iter = 100\n",
    "losses = [] # luu lai loss trong qua trinh train\n",
    "preds = [] # accuracy (thong tin gianh cho con nguoi) \n",
    "accuracies = []\n",
    "for epoch in range(num_iter):\n",
    "    for i in range(0,N):\n",
    "        xi = X[i:i+1]\n",
    "        yi = y[i:i+1]\n",
    "        \n",
    "        # compute output\n",
    "        y_hat = predict(xi,theta)\n",
    "      \n",
    "        loss = compute_loss(y_hat,yi)\n",
    "        \n",
    "        # compute mean of gradient\n",
    "        #gradient = np.multiply(xi,(y_hat - yi)) / yi.size ra matran\n",
    "        gradient = np.dot(xi.T,(y_hat - yi)) \n",
    "        \n",
    "        theta = theta - lr*gradient\n",
    "        \n",
    "        # for debug\n",
    "        if(i % 1 == 0):\n",
    "            #loss\n",
    "            #print(f'loss: {loss} \\t')\n",
    "            losses.append(loss)\n",
    "            \n",
    "\n",
    "        \n"
   ]
  },
  {
   "cell_type": "code",
   "execution_count": null,
   "id": "8206bc67-46ac-4348-9c49-7b30355a7430",
   "metadata": {},
   "outputs": [],
   "source": [
    "#     # compute accuracy\n",
    "# # xong 1 epoch thi co theta sau do lay ting sample ra\n",
    "#     for i in range(0,N):\n",
    "#         xi = X[i:i+1]\n",
    "#         yi = y[i:i+1]\n",
    "        \n",
    "#         # lay 1 sample ra tinh predict cua no\n",
    "#         pred = predict(xi,theta).round() # preds = 0 or 1\n",
    "        \n",
    "    \n",
    "#         preds.append(pred[0]) # list luu pred cua 100 sample\n",
    "#     #print(np.array(preds).shape)\n",
    "#     #print(y.shape)\n",
    "        \n",
    " \n",
    "     #accuracy = (np.array(preds) == y)\n",
    "#     accuracy = np.sum(accuracy)/N\n",
    "#     print(accuracy)\n",
    "  \n",
    "    \n",
    "#     accuracies.append(accuracy)"
   ]
  },
  {
   "cell_type": "code",
   "execution_count": 103,
   "id": "422f66a6-09b7-4cea-b7b7-8196f3281302",
   "metadata": {},
   "outputs": [
    {
     "name": "stdout",
     "output_type": "stream",
     "text": [
      "<class 'numpy.ndarray'>\n"
     ]
    }
   ],
   "source": [
    "print(type(y))"
   ]
  },
  {
   "cell_type": "code",
   "execution_count": 102,
   "id": "75ced179-901b-485c-bfbb-74599a6f73c8",
   "metadata": {},
   "outputs": [
    {
     "name": "stdout",
     "output_type": "stream",
     "text": [
      "<class 'list'>\n"
     ]
    }
   ],
   "source": [
    "print(type(preds))"
   ]
  },
  {
   "cell_type": "code",
   "execution_count": 104,
   "id": "99ae1812-5ecb-4a0e-9b43-11262ce7318a",
   "metadata": {},
   "outputs": [
    {
     "name": "stdout",
     "output_type": "stream",
     "text": [
      "<class 'numpy.ndarray'>\n"
     ]
    }
   ],
   "source": [
    "print(type(np.array(preds)))"
   ]
  },
  {
   "cell_type": "code",
   "execution_count": null,
   "id": "b00a86bc-4403-434c-9776-b92556ae281a",
   "metadata": {},
   "outputs": [],
   "source": [
    "import matplotlib.pyplot as plt\n",
    "plt.plot(accuracies)\n",
    "plt.show()"
   ]
  },
  {
   "cell_type": "code",
   "execution_count": 138,
   "id": "e1669a3a-190b-4de3-8dfc-b87333ceae34",
   "metadata": {},
   "outputs": [
    {
     "data": {
      "image/png": "[encoded data removed]",
      "text/plain": [
       "<Figure size 432x288 with 1 Axes>"
      ]
     },
     "metadata": {
      "needs_background": "light"
     },
     "output_type": "display_data"
    }
   ],
   "source": [
    "import matplotlib.pyplot as plt\n",
    "plt.plot(losses)\n",
    "plt.show()\n",
    "\n",
    "# do chi dung 1 sample -> nhieu rat nhieu"
   ]
  },
  {
   "cell_type": "code",
   "execution_count": 129,
   "id": "907e1811-5fd4-45fb-afbe-40ee5c699ac6",
   "metadata": {},
   "outputs": [
    {
     "data": {
      "text/plain": [
       "array([-0.35824524, -0.61168666, -2.3502956 ,  3.56446583,  1.43084169])"
      ]
     },
     "execution_count": 129,
     "metadata": {},
     "output_type": "execute_result"
    }
   ],
   "source": [
    "theta"
   ]
  },
  {
   "cell_type": "code",
   "execution_count": 94,
   "id": "dfbabf45-ff54-4c87-a66f-3731ed40fb1b",
   "metadata": {},
   "outputs": [],
   "source": [
    "# compute accuracy tren tap training\n",
    "preds = []\n",
    "for i in range(0,N):\n",
    "    xi = X[i:i+1]\n",
    "    yi = y[i:i+1]\n",
    "    \n",
    "    y_hat = predict(xi,theta).round()\n",
    "    # ham round: value > 0.5 => value = 1, value <= 0.5 => value = 0\n",
    "    preds.append(y_hat[0])\n",
    "    "
   ]
  },
  {
   "cell_type": "code",
   "execution_count": 95,
   "id": "681f3671-380c-45ab-a853-f853239648de",
   "metadata": {},
   "outputs": [
    {
     "data": {
      "text/plain": [
       "[0.0, 0.0, 1.0, 0.0, 1.0, 1.0, 0.0, 0.0, 0.0, 0.0, 1.0, 1.0, 1.0, 0.0, 1.0]"
      ]
     },
     "execution_count": 95,
     "metadata": {},
     "output_type": "execute_result"
    }
   ],
   "source": [
    "acc[:15]"
   ]
  },
  {
   "cell_type": "code",
   "execution_count": 96,
   "id": "1a5656bc-754d-4a50-b4f2-d4736ed61f54",
   "metadata": {},
   "outputs": [
    {
     "data": {
      "text/plain": [
       "array([0., 0., 1., 0., 1., 1., 0., 0., 0., 0., 1., 1., 1., 0., 1.])"
      ]
     },
     "execution_count": 96,
     "metadata": {},
     "output_type": "execute_result"
    }
   ],
   "source": [
    "y[:15]"
   ]
  },
  {
   "cell_type": "code",
   "execution_count": 97,
   "id": "ceba429d-df34-432e-9d32-4088d90f1a40",
   "metadata": {},
   "outputs": [
    {
     "name": "stdout",
     "output_type": "stream",
     "text": [
      "1.0\n"
     ]
    }
   ],
   "source": [
    "# so sanh y_hat voi i\n",
    "acc = (preds == y).mean()\n",
    "print(acc)"
   ]
  }
 ],
 "metadata": {
  "kernelspec": {
   "display_name": "Python 3",
   "language": "python",
   "name": "python3"
  },
  "language_info": {
   "codemirror_mode": {
    "name": "ipython",
    "version": 3
   },
   "file_extension": ".py",
   "mimetype": "text/x-python",
   "name": "python",
   "nbconvert_exporter": "python",
   "pygments_lexer": "ipython3",
   "version": "3.7.11"
  }
 },
 "nbformat": 4,
 "nbformat_minor": 5
}
