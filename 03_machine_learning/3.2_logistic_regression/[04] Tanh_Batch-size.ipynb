{
 "cells": [
  {
   "cell_type": "code",
   "execution_count": 19,
   "id": "bce8f746-be51-4d2e-8536-f2bac34164f4",
   "metadata": {},
   "outputs": [],
   "source": [
    "import numpy as np\n",
    "import matplotlib.pyplot as plt\n",
    "\n",
    "iris = np.genfromtxt('iris_full.csv', dtype=None, delimiter=',', skip_header=1) \n",
    "X = iris[:, :4]\n",
    "y = iris[:, 4]\n",
    "\n",
    "intercept = np.ones((X.shape[0], 1))\n",
    "X = np.concatenate((intercept, X), axis=1)\n",
    "\n",
    "\n",
    "# shuffle\n",
    "inds = np.arange(X.shape[0])\n",
    "np.random.shuffle(inds)\n",
    "\n",
    "X = X[inds]\n",
    "y = y[inds]"
   ]
  },
  {
   "cell_type": "code",
   "execution_count": 20,
   "id": "28b6671b-5234-4c4b-a08e-e87542a148c2",
   "metadata": {},
   "outputs": [
    {
     "name": "stdout",
     "output_type": "stream",
     "text": [
      "[[1.  4.5 2.3 1.3 0.3]\n",
      " [1.  4.9 3.1 1.5 0.1]\n",
      " [1.  5.5 2.3 4.  1.3]\n",
      " [1.  4.7 3.2 1.3 0.2]\n",
      " [1.  5.  3.4 1.6 0.4]]\n",
      "[0. 0. 1. 0. 0.]\n"
     ]
    }
   ],
   "source": [
    "print(X[:5])\n",
    "print(y[:5])"
   ]
  },
  {
   "cell_type": "code",
   "execution_count": 23,
   "id": "3ad5789c-ead8-4093-9886-ebda75992b7d",
   "metadata": {},
   "outputs": [],
   "source": [
    "def tanh_function(z):\n",
    "    return (np.exp(z) - np.exp(-z)) / (np.exp(z) + np.exp(-z))\n",
    "\n",
    "def loss_function(y_hat, y):\n",
    "    h_scale = (y_hat + 1)/2\n",
    "    return (-y * np.log(h_scale) - (1 - y) * np.log(1 - h_scale)).mean()\n",
    "\n",
    "def predict(X, theta):    \n",
    "    y_hat = tanh_function(np.dot(X, theta))\n",
    "    return y_hat\n",
    "\n",
    "def compute_gradient(X, y_hat, y):\n",
    "    return np.dot(X.T, (y_hat-y)*(1+y_hat)/y_hat) / y.size"
   ]
  },
  {
   "cell_type": "code",
   "execution_count": 24,
   "id": "1d7bb9d3-f86c-4bc9-90bd-af64f11e6cba",
   "metadata": {},
   "outputs": [],
   "source": [
    "lr=0.01\n",
    "num_iter=200\n",
    "\n",
    "theta = np.array([0.1, 0.5, 0.1, 0.5, -0.1])\n",
    "losses = []\n",
    "accs   = []\n",
    "\n",
    "for i in range(num_iter):\n",
    "    # predict output\n",
    "    y_hat = predict(X, theta)\n",
    "    \n",
    "    # compute loss\n",
    "    loss = loss_function(y_hat, y)\n",
    "\n",
    "    # compute mean of gradient\n",
    "    gradient = compute_gradient(X, y_hat, y)\n",
    "    \n",
    "    # update \n",
    "    theta -= lr*gradient    \n",
    "\n",
    "    # for debug\n",
    "    #if(i%1 == 0):\n",
    "    # loss\n",
    "    losses.append(loss)\n",
    "\n",
    "    # accuracy for training\n",
    "    preds = predict(X, theta).round()/2 + 0.5\n",
    "    acc = (preds == y).mean()\n",
    "    accs.append(acc)        \n"
   ]
  },
  {
   "cell_type": "code",
   "execution_count": 25,
   "id": "6b74e1d3-1102-472c-b8b2-c09aee66d20d",
   "metadata": {},
   "outputs": [
    {
     "data": {
      "image/png": "[encoded data removed]",
      "text/plain": [
       "<Figure size 432x288 with 1 Axes>"
      ]
     },
     "metadata": {
      "needs_background": "light"
     },
     "output_type": "display_data"
    }
   ],
   "source": [
    "# show figures\n",
    "plt.plot(losses)\n",
    "plt.show()"
   ]
  },
  {
   "cell_type": "code",
   "execution_count": 26,
   "id": "c003f393-4aa5-4b99-9ec6-546402c493bd",
   "metadata": {},
   "outputs": [
    {
     "data": {
      "image/png": "[encoded data removed]",
      "text/plain": [
       "<Figure size 432x288 with 1 Axes>"
      ]
     },
     "metadata": {
      "needs_background": "light"
     },
     "output_type": "display_data"
    }
   ],
   "source": [
    "plt.plot(accs)\n",
    "plt.show()"
   ]
  },
  {
   "cell_type": "code",
   "execution_count": null,
   "id": "bdf0f928-d37e-4e3a-8dd7-22f941afaadc",
   "metadata": {},
   "outputs": [],
   "source": [
    "# ham tanh hoi tu cham hon"
   ]
  },
  {
   "cell_type": "code",
   "execution_count": 27,
   "id": "cd2b8174-164a-44a8-b9aa-f3f7d0ec09c7",
   "metadata": {},
   "outputs": [
    {
     "name": "stdout",
     "output_type": "stream",
     "text": [
      "[0. 0. 1. 0. 0. 1. 1. 1. 1. 0. 1. 0. 1. 0. 0. 1. 0. 1. 0. 1. 1. 1. 0. 0.\n",
      " 0. 0. 0. 0. 1. 0. 0. 0. 0. 0. 1. 0. 1. 1. 0. 0. 0. 1. 1. 0. 1. 0. 1. 1.\n",
      " 1. 1. 1. 0. 1. 1. 0. 0. 0. 0. 1. 0. 0. 1. 1. 0. 1. 1. 1. 1. 1. 1. 1. 0.\n",
      " 1. 0. 0. 1. 1. 0. 1. 0. 0. 0. 1. 0. 0. 0. 1. 0. 1. 1. 1. 0. 1. 1. 1. 1.\n",
      " 0. 0. 1. 0.]\n",
      "[0. 0. 1. 0. 0. 1. 1. 1. 1. 0. 1. 0. 1. 0. 0. 1. 0. 1. 0. 1. 1. 1. 0. 0.\n",
      " 0. 0. 0. 0. 1. 0. 0. 0. 0. 0. 1. 0. 1. 1. 0. 0. 0. 1. 1. 0. 1. 0. 1. 1.\n",
      " 1. 1. 1. 0. 1. 1. 0. 0. 0. 0. 1. 0. 0. 1. 1. 0. 1. 1. 1. 1. 1. 1. 1. 0.\n",
      " 1. 0. 0. 1. 1. 0. 1. 0. 0. 0. 1. 0. 0. 0. 1. 0. 1. 1. 1. 0. 1. 1. 1. 1.\n",
      " 0. 0. 1. 0.]\n"
     ]
    }
   ],
   "source": [
    "preds = predict(X, theta).round()/2 + 0.5\n",
    "print(preds)\n",
    "print(y)"
   ]
  }
 ],
 "metadata": {
  "kernelspec": {
   "display_name": "Python 3",
   "language": "python",
   "name": "python3"
  },
  "language_info": {
   "codemirror_mode": {
    "name": "ipython",
    "version": 3
   },
   "file_extension": ".py",
   "mimetype": "text/x-python",
   "name": "python",
   "nbconvert_exporter": "python",
   "pygments_lexer": "ipython3",
   "version": "3.7.11"
  }
 },
 "nbformat": 4,
 "nbformat_minor": 5
}
