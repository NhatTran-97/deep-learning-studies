{
 "cells": [
  {
   "cell_type": "code",
   "execution_count": 52,
   "id": "0f47709b-5ade-45c7-9655-6a7d9d5d0847",
   "metadata": {},
   "outputs": [
    {
     "name": "stdout",
     "output_type": "stream",
     "text": [
      "size: 100\n",
      "(100, 5)\n",
      "shape X\n",
      " (100, 5)\n",
      "shape y\n",
      " (100,)\n",
      "shape theta\n",
      " (5,)\n"
     ]
    }
   ],
   "source": [
    "import numpy as np\n",
    "# 1. process data\n",
    "import numpy as np\n",
    "import matplotlib.pyplot as plt\n",
    "iris = np.genfromtxt('iris_full.csv', dtype = None ,delimiter = ',', skip_header = True)\n",
    "N = len(data_iris[:,0])\n",
    "#M = data_iris.shape[0]\n",
    "#print(M)\n",
    "print('size:',N)\n",
    "print(data_iris.shape)\n",
    "\n",
    "data_X = data_iris[:,:4]\n",
    "\n",
    "data_y = data_iris[:,4]\n",
    "#indices = np.random.permutation(N)\n",
    "#data_X = data_X[indices]\n",
    "#data_y = data_y[indices]\n",
    "\n",
    "X = np.c_[np.ones((N,1)),data_X]\n",
    "y = data_y\n",
    "theta = np.array([0.1,0.3,0.1,0.2,-0.1])\n",
    "print('shape X\\n', X.shape)\n",
    "print('shape y\\n',y.shape)\n",
    "print('shape theta\\n', theta.shape)"
   ]
  },
  {
   "cell_type": "code",
   "execution_count": 53,
   "id": "d31622a9-6597-4b87-858a-4c9b14d31562",
   "metadata": {},
   "outputs": [
    {
     "name": "stdout",
     "output_type": "stream",
     "text": [
      "[[1.  5.1 3.5 1.4 0.2]\n",
      " [1.  4.9 3.  1.4 0.2]\n",
      " [1.  4.7 3.2 1.3 0.2]\n",
      " [1.  4.6 3.1 1.5 0.2]\n",
      " [1.  5.  3.6 1.4 0.2]]\n",
      "[0. 0. 0. 0. 0.]\n",
      "theta\n",
      " [ 0.1  0.3  0.1  0.2 -0.1]\n"
     ]
    }
   ],
   "source": [
    "print(X[:5])\n",
    "print(y[:5])\n",
    "print('theta\\n',theta)"
   ]
  },
  {
   "cell_type": "code",
   "execution_count": 54,
   "id": "e28c20e0-d572-4309-bbd9-639ce5adfcc8",
   "metadata": {},
   "outputs": [],
   "source": [
    "import numpy as np\n",
    "\n",
    "def sigmoid(z):\n",
    "    return 1.0 / (1.0 + np.exp(-z) )\n",
    "\n",
    "def predict(x, theta):\n",
    "    z = x.dot(theta)\n",
    "    \n",
    "    y_hat = sigmoid(z)\n",
    "    return y_hat\n",
    "\n",
    "def compute_loss(y_hat,y):\n",
    "    return (-y*np.log(y_hat) - (1-y)*np.log(1-y_hat)).mean()"
   ]
  },
  {
   "cell_type": "code",
   "execution_count": 55,
   "id": "e32ce8d7-ecb3-4347-adb0-7189806b114c",
   "metadata": {},
   "outputs": [],
   "source": [
    "# training \n",
    "lr = 0.01\n",
    "num_iter = 100\n",
    "minibatch_size = 32\n",
    "theta = np.array([0.1,0.5,0.1,0.5,-0.1])\n",
    "losses = []\n",
    "accs = []\n",
    "for i in range(num_iter):\n",
    "    # moi 1 epoch shuffled 1 lan\n",
    "    shuffled_indices = np.random.permutation(N)\n",
    "    X_shuffled = X[shuffled_indices]\n",
    "    y_shuffled = y[shuffled_indices]\n",
    "    \n",
    "    for i in range(0,N,minibatch_size):\n",
    "        xi = X_shuffled[i: i+minibatch_size]\n",
    "        yi = y_shuffled[i: i+minibatch_size]\n",
    "        \n",
    "        # compute output\n",
    "        y_hat = predict(xi, theta)\n",
    "        #print(\"y_hat\",y_hat)\n",
    "        #print(y_hat.shape)\n",
    "        \n",
    "        #compute loss\n",
    "        \n",
    "        loss = compute_loss(y_hat,yi)\n",
    "        #print(\"loss\",loss)\n",
    "        #print(\"loss\",loss.shape)\n",
    "        \n",
    "        # compute gradient\n",
    "        gradients = np.dot(xi.T,(y_hat-yi))/yi.size\n",
    "        \n",
    "        # update theta\n",
    "        theta  -=  lr*gradients\n",
    "        \n",
    "        # loss\n",
    "        losses.append(loss)\n",
    "        \n",
    "        # accuracy\n",
    "        # tinh do chinh xac cho 1 lan minibatch: 32\n",
    "        preds = predict(xi, theta).round()\n",
    "        acc = (preds == yi).mean() # tra ve a array 32 gia tri True or false\n",
    "        accs.append(acc)\n",
    "       \n",
    "        "
   ]
  },
  {
   "cell_type": "code",
   "execution_count": null,
   "id": "9534902f-1f80-4ac7-8c9f-38b1ed08586c",
   "metadata": {},
   "outputs": [],
   "source": []
  },
  {
   "cell_type": "code",
   "execution_count": 46,
   "id": "88a4b36f-62be-42d6-9652-4a18c4368cb5",
   "metadata": {},
   "outputs": [
    {
     "data": {
      "image/png": "[encoded data removed]",
      "text/plain": [
       "<Figure size 432x288 with 1 Axes>"
      ]
     },
     "metadata": {
      "needs_background": "light"
     },
     "output_type": "display_data"
    }
   ],
   "source": [
    "import matplotlib.pyplot as plt\n",
    "plt.plot(accs)\n",
    "plt.show()"
   ]
  },
  {
   "cell_type": "code",
   "execution_count": 57,
   "id": "a90ab163-8193-4108-8e75-43371032d36e",
   "metadata": {},
   "outputs": [
    {
     "data": {
      "image/png": "[encoded data removed]",
      "text/plain": [
       "<Figure size 432x288 with 1 Axes>"
      ]
     },
     "metadata": {
      "needs_background": "light"
     },
     "output_type": "display_data"
    }
   ],
   "source": [
    "import matplotlib.pyplot as plt\n",
    "\n",
    "plt.plot(losses)\n",
    "plt.show()"
   ]
  }
 ],
 "metadata": {
  "kernelspec": {
   "display_name": "Python 3",
   "language": "python",
   "name": "python3"
  },
  "language_info": {
   "codemirror_mode": {
    "name": "ipython",
    "version": 3
   },
   "file_extension": ".py",
   "mimetype": "text/x-python",
   "name": "python",
   "nbconvert_exporter": "python",
   "pygments_lexer": "ipython3",
   "version": "3.7.11"
  }
 },
 "nbformat": 4,
 "nbformat_minor": 5
}
