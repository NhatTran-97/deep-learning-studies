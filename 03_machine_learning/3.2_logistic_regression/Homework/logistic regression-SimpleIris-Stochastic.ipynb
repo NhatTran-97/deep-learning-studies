{
 "cells": [
  {
   "cell_type": "code",
   "execution_count": 1,
   "metadata": {},
   "outputs": [
    {
     "name": "stdout",
     "output_type": "stream",
     "text": [
      "X_b [[1.  1.4 0.2]\n",
      " [1.  1.5 0.2]\n",
      " [1.  3.  1.1]\n",
      " [1.  4.1 1.3]]\n",
      "y [0. 0. 1. 1.]\n",
      "m 4\n"
     ]
    }
   ],
   "source": [
    "import numpy as np\n",
    "import matplotlib.pyplot as plt\n",
    "\n",
    "iris = np.genfromtxt('iris_demo.csv', dtype=None, delimiter=',', skip_header=1) \n",
    "X = iris[:, :2]\n",
    "y = iris[:, 2]\n",
    "\n",
    "plt.figure(figsize=(10, 6))\n",
    "plt.scatter(X[y == 0][:, 0], X[y == 0][:, 1], color='b', label='0')\n",
    "plt.scatter(X[y == 1][:, 0], X[y == 1][:, 1], color='r', label='1')\n",
    "plt.legend()\n",
    "\n",
    "intercept = np.ones((X.shape[0], 1))\n",
    "X_b = np.concatenate((intercept, X), axis=1)\n",
    "m = X.shape[0]\n",
    "\n",
    "print('X_b', X_b)\n",
    "print('y', y)\n",
    "print('m', m)"
   ]
  },
  {
   "cell_type": "code",
   "execution_count": 2,
   "metadata": {},
   "outputs": [
    {
     "name": "stdout",
     "output_type": "stream",
     "text": [
      "theta:  [ 0.1  0.5 -0.1]\n",
      "xi:  [[1.  1.4 0.2]]\n",
      "yi:  [0.]\n",
      "z:  [0.78]\n",
      "y_hat:  [0.68568011]\n",
      "loss:  1.1573440662232617\n",
      "(y_hat - y):  [0.68568011]\n",
      "gradient:  [0.68568011 0.95995216 0.13713602]\n",
      "new theta:  [ 0.0931432   0.49040048 -0.10137136]\n"
     ]
    }
   ],
   "source": [
    "def sigmoid_function(z):\n",
    "    return 1 / (1 + np.exp(-z))\n",
    "\n",
    "def loss_function(h, y):\n",
    "    return (-y * np.log(h) - (1 - y) * np.log(1 - h)).mean()\n",
    "\n",
    "def predict(X, theta):    \n",
    "    h = sigmoid_function(np.dot(X, theta))\n",
    "    return h.round()\n",
    "\n",
    "\n",
    "lr = 0.01\n",
    "num_iter = 1\n",
    "\n",
    "theta = np.array([0.1, 0.5, -0.1])\n",
    "#theta = np.array([0.09729751,0.49756867,-0.0998046])\n",
    "\n",
    "losses = []\n",
    "accs   = []\n",
    "\n",
    "\n",
    "for epoch in range(num_iter):    \n",
    "    print('theta: ', theta)\n",
    "    \n",
    "\n",
    "    for i in range(0, 4):\n",
    "        xi = X_b[i:i+1]\n",
    "        yi = y[i:i+1]\n",
    "        print('xi: ', xi)\n",
    "        print('yi: ', yi)\n",
    "    \n",
    "        z = np.dot(xi, theta)\n",
    "        print('z: ', z)\n",
    "        y_hat = sigmoid_function(z)\n",
    "        print('y_hat: ', y_hat)\n",
    "\n",
    "        loss = loss_function(y_hat, yi)\n",
    "        print('loss: ', loss)\n",
    "\n",
    "        # compute mean of gradient\n",
    "        gradient = np.dot(xi.T, (y_hat - yi)) / yi.size\n",
    "        print('(y_hat - y): ', (y_hat - yi))\n",
    "        print('gradient: ', gradient)\n",
    "\n",
    "        theta -= lr*gradient    \n",
    "        print('new theta: ', theta)\n",
    "\n",
    "        if(i % 1 == 0):\n",
    "            # loss\n",
    "            #print(f'loss: {loss} \\t')\n",
    "            losses.append(loss)\n",
    "\n",
    "            # accuracy\n",
    "            preds = predict(xi, theta)\n",
    "            acc = (preds == yi).mean()\n",
    "            #print(f'acc: {acc} \\t')\n",
    "            accs.append(acc)\n",
    "        break"
   ]
  },
  {
   "cell_type": "code",
   "execution_count": 3,
   "metadata": {},
   "outputs": [
    {
     "data": {
      "image/png": "[encoded data removed]",
      "text/plain": [
       "<Figure size 432x288 with 1 Axes>"
      ]
     },
     "metadata": {
      "needs_background": "light"
     },
     "output_type": "display_data"
    }
   ],
   "source": [
    "import matplotlib.pyplot as plt\n",
    "\n",
    "plt.plot(losses)\n",
    "plt.show()"
   ]
  },
  {
   "cell_type": "code",
   "execution_count": 4,
   "metadata": {},
   "outputs": [
    {
     "data": {
      "image/png": "[encoded data removed]",
      "text/plain": [
       "<Figure size 432x288 with 1 Axes>"
      ]
     },
     "metadata": {
      "needs_background": "light"
     },
     "output_type": "display_data"
    }
   ],
   "source": [
    "import matplotlib.pyplot as plt\n",
    "\n",
    "plt.plot(accs)\n",
    "plt.show()"
   ]
  },
  {
   "cell_type": "code",
   "execution_count": null,
   "metadata": {},
   "outputs": [],
   "source": []
  }
 ],
 "metadata": {
  "kernelspec": {
   "display_name": "Python 3",
   "language": "python",
   "name": "python3"
  },
  "language_info": {
   "codemirror_mode": {
    "name": "ipython",
    "version": 3
   },
   "file_extension": ".py",
   "mimetype": "text/x-python",
   "name": "python",
   "nbconvert_exporter": "python",
   "pygments_lexer": "ipython3",
   "version": "3.7.3"
  }
 },
 "nbformat": 4,
 "nbformat_minor": 2
}
