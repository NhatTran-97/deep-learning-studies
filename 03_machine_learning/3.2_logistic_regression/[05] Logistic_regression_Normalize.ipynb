{
 "cells": [
  {
   "cell_type": "code",
   "execution_count": 1,
   "id": "22df2dec-04ef-4100-a072-ca465d4f8b44",
   "metadata": {},
   "outputs": [
    {
     "name": "stdout",
     "output_type": "stream",
     "text": [
      "(100, 5)\n",
      "(100,)\n"
     ]
    }
   ],
   "source": [
    "import numpy as np\n",
    "import matplotlib.pyplot as plt\n",
    "\n",
    "iris = np.genfromtxt('iris_full.csv', dtype=None, delimiter=',', skip_header=1) \n",
    "X = iris[:, :4]\n",
    "y = iris[:, 4]\n",
    "\n",
    "maxi = np.max(X)\n",
    "mini = np.min(X)\n",
    "avg = np.mean(X)\n",
    "X = (X-avg) / (maxi-mini)\n",
    "\n",
    "intercept = np.ones((X.shape[0], 1))\n",
    "X = np.concatenate((intercept, X), axis=1)\n",
    "\n",
    "# shuffle\n",
    "inds = np.arange(X.shape[0])\n",
    "np.random.shuffle(inds)\n",
    "\n",
    "X = X[inds]\n",
    "y = y[inds]\n",
    "\n",
    "print(X.shape)\n",
    "print(y.shape)"
   ]
  },
  {
   "cell_type": "code",
   "execution_count": 2,
   "id": "1fbb075b-391b-4897-9946-7b422d56aae5",
   "metadata": {},
   "outputs": [],
   "source": [
    "def sigmoid_function(z):\n",
    "    return 1 / (1 + np.exp(-z))\n",
    "\n",
    "def loss_function(h, y):\n",
    "    return (-y*np.log(h) - (1-y)*np.log(1-h)).mean()\n",
    "\n",
    "def predict(X, theta):    \n",
    "    y_hat = sigmoid_function(np.dot(X, theta))\n",
    "    return y_hat\n",
    "\n",
    "def compute_gradient(X, y_hat, y):\n",
    "    return np.dot(X.T, (y_hat - y)) / y.size"
   ]
  },
  {
   "cell_type": "code",
   "execution_count": 3,
   "id": "22725881-92d1-44fb-bddb-274e4e417689",
   "metadata": {},
   "outputs": [],
   "source": [
    "# training\n",
    "lr=0.1\n",
    "num_iter=100\n",
    "\n",
    "theta = np.random.randn(5)/100.0\n",
    "losses = []\n",
    "accs   = []\n",
    "\n",
    "for i in range(num_iter):\n",
    "    # predict z\n",
    "    y_hat = predict(X, theta)\n",
    "    \n",
    "    # compute loss\n",
    "    loss = loss_function(y_hat, y)\n",
    "\n",
    "    # compute mean of gradient\n",
    "    gradient = compute_gradient(X, y_hat, y)\n",
    "    \n",
    "    theta -= lr*gradient    \n",
    "    #print('new theta: ', theta)\n",
    "\n",
    "    # for debug\n",
    "    if(i%1 == 0):\n",
    "        # loss\n",
    "        losses.append(loss)\n",
    "        \n",
    "        # accuracy for training\n",
    "        preds = predict(X, theta).round()\n",
    "        acc = (preds == y).mean()\n",
    "        accs.append(acc) "
   ]
  },
  {
   "cell_type": "code",
   "execution_count": 4,
   "id": "d26bd254-14b3-4cde-8c1b-8e43fdf72372",
   "metadata": {},
   "outputs": [
    {
     "data": {
      "image/png": "[encoded data removed]",
      "text/plain": [
       "<Figure size 432x288 with 1 Axes>"
      ]
     },
     "metadata": {
      "needs_background": "light"
     },
     "output_type": "display_data"
    }
   ],
   "source": [
    "# show figures\n",
    "plt.plot(losses)\n",
    "plt.show()"
   ]
  },
  {
   "cell_type": "code",
   "execution_count": 5,
   "id": "3e9bcf29-3186-4aba-affe-a231850813f8",
   "metadata": {},
   "outputs": [
    {
     "data": {
      "image/png": "[encoded data removed]",
      "text/plain": [
       "<Figure size 432x288 with 1 Axes>"
      ]
     },
     "metadata": {
      "needs_background": "light"
     },
     "output_type": "display_data"
    }
   ],
   "source": [
    "plt.plot(accs)\n",
    "plt.show()"
   ]
  },
  {
   "cell_type": "code",
   "execution_count": 6,
   "id": "ed741cb9-e4cd-4e06-b64d-6c42e79a14b5",
   "metadata": {},
   "outputs": [
    {
     "name": "stdout",
     "output_type": "stream",
     "text": [
      "[0. 0. 0. 0. 0. 1. 0. 1. 1. 1. 0. 0. 1. 0. 0. 1. 0. 1. 0. 1. 0. 0. 1. 1.\n",
      " 1. 1. 1. 1. 0. 1. 0. 1. 1. 1. 0. 0. 0. 0. 0. 0. 0. 0. 0. 1. 1. 1. 1. 0.\n",
      " 0. 0. 0. 1. 0. 0. 1. 0. 0. 0. 0. 0. 1. 1. 1. 1. 1. 0. 1. 1. 1. 0. 1. 1.\n",
      " 0. 1. 0. 0. 1. 1. 1. 1. 1. 0. 1. 0. 0. 1. 1. 0. 0. 1. 1. 1. 1. 0. 1. 1.\n",
      " 0. 0. 0. 1.]\n",
      "[0. 0. 0. 0. 0. 1. 0. 1. 1. 1. 0. 0. 1. 0. 0. 1. 0. 1. 0. 1. 0. 0. 1. 1.\n",
      " 1. 1. 1. 1. 0. 1. 0. 1. 1. 1. 0. 0. 0. 0. 0. 0. 0. 0. 0. 1. 1. 1. 1. 0.\n",
      " 0. 0. 0. 1. 0. 0. 1. 0. 0. 0. 0. 0. 1. 1. 1. 1. 1. 0. 1. 1. 1. 0. 1. 1.\n",
      " 0. 1. 0. 0. 1. 1. 1. 1. 1. 0. 1. 0. 0. 1. 1. 0. 0. 1. 1. 1. 1. 0. 1. 1.\n",
      " 0. 0. 0. 1.]\n"
     ]
    }
   ],
   "source": [
    "preds = predict(X, theta).round()\n",
    "print(preds)\n",
    "print(y)"
   ]
  }
 ],
 "metadata": {
  "kernelspec": {
   "display_name": "Python 3",
   "language": "python",
   "name": "python3"
  },
  "language_info": {
   "codemirror_mode": {
    "name": "ipython",
    "version": 3
   },
   "file_extension": ".py",
   "mimetype": "text/x-python",
   "name": "python",
   "nbconvert_exporter": "python",
   "pygments_lexer": "ipython3",
   "version": "3.7.11"
  }
 },
 "nbformat": 4,
 "nbformat_minor": 5
}
