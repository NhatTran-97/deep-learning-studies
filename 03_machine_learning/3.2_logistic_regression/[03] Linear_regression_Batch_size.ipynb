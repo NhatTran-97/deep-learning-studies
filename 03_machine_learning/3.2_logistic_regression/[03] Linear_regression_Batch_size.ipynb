{
 "cells": [
  {
   "cell_type": "code",
   "execution_count": 9,
   "id": "dde44273-5c7a-4d2d-85ba-a8ce8c6ed127",
   "metadata": {},
   "outputs": [
    {
     "name": "stdout",
     "output_type": "stream",
     "text": [
      "size: 100\n",
      "(100, 5)\n",
      "shape X\n",
      " (100, 5)\n",
      "shape y\n",
      " (100,)\n",
      "shape theta\n",
      " (5,)\n"
     ]
    }
   ],
   "source": [
    "import numpy as np\n",
    "# 1. process data\n",
    "import numpy as np\n",
    "import matplotlib.pyplot as plt\n",
    "iris = np.genfromtxt('iris_full.csv', dtype = None ,delimiter = ',', skip_header = True)\n",
    "N = len(iris[:,0])\n",
    "#M = data_iris.shape[0]\n",
    "#print(M)\n",
    "print('size:',N)\n",
    "print(iris.shape)\n",
    "\n",
    "data_X = iris[:,:4]\n",
    "\n",
    "data_y = iris[:,4]\n",
    "\n",
    "indices = np.random.permutation(N)\n",
    "data_X = data_X[indices]\n",
    "data_y = data_y[indices]\n",
    "\n",
    "X = np.c_[np.ones((N,1)),data_X]\n",
    "y = data_y\n",
    "theta = np.array([0.1,0.3,0.1,0.2,-0.1])\n",
    "print('shape X\\n', X.shape)\n",
    "print('shape y\\n',y.shape)\n",
    "print('shape theta\\n', theta.shape)"
   ]
  },
  {
   "cell_type": "code",
   "execution_count": 10,
   "id": "49182bc3-705f-43e1-b877-fdcbf53ab9f7",
   "metadata": {},
   "outputs": [],
   "source": [
    "import numpy as np\n",
    "\n",
    "def sigmoid(z):\n",
    "    return 1.0 / (1.0 + np.exp(-z) )\n",
    "\n",
    "def predict(x, theta):\n",
    "    z = x.dot(theta)\n",
    "    \n",
    "    y_hat = sigmoid(z)\n",
    "    return y_hat\n",
    "\n",
    "def compute_loss(y_hat,y):\n",
    "    return (-y*np.log(y_hat) - (1-y)*np.log(1-y_hat)).mean()"
   ]
  },
  {
   "cell_type": "code",
   "execution_count": 12,
   "id": "ce1900e9-8c9c-4b46-8a67-c2ad2a70363a",
   "metadata": {},
   "outputs": [],
   "source": [
    "# training \n",
    "lr = 0.01\n",
    "num_iter = 100\n",
    "\n",
    "theta = np.array([0.1,0.5,0.1,0.5,-0.1])\n",
    "losses = []\n",
    "accs = []\n",
    "for i in range(num_iter):\n",
    "    \n",
    "    \n",
    "        \n",
    "        # compute output\n",
    "        y_hat = predict(X, theta)\n",
    "        #print(\"y_hat\",y_hat)\n",
    "        #print(y_hat.shape)\n",
    "        \n",
    "        #compute loss\n",
    "        \n",
    "        loss = compute_loss(y_hat,y)\n",
    "        #print(\"loss\",loss)\n",
    "        #print(\"loss\",loss.shape)\n",
    "        \n",
    "        # compute gradient\n",
    "        gradients = np.dot(X.T,(y_hat-y))/y.size\n",
    "        \n",
    "        # update theta\n",
    "        theta  -=  lr*gradients\n",
    "        \n",
    "        # loss\n",
    "        losses.append(loss)\n",
    "        \n",
    "        # accuracy\n",
    "        # tinh do chinh xac cho 1 lan minibatch: 32\n",
    "        preds = predict(X, theta).round()\n",
    "        acc = (preds == y).mean() # tra ve a array 32 gia tri True or false\n",
    "        accs.append(acc)"
   ]
  },
  {
   "cell_type": "code",
   "execution_count": 13,
   "id": "1dce64c0-f122-426d-925a-cb5149785455",
   "metadata": {},
   "outputs": [
    {
     "data": {
      "image/png": "[encoded data removed]",
      "text/plain": [
       "<Figure size 432x288 with 1 Axes>"
      ]
     },
     "metadata": {
      "needs_background": "light"
     },
     "output_type": "display_data"
    }
   ],
   "source": [
    "import matplotlib.pyplot as plt\n",
    "plt.plot(accs)\n",
    "plt.show()"
   ]
  },
  {
   "cell_type": "code",
   "execution_count": 14,
   "id": "119dfff7-5e9a-4255-8da3-f38907f5b8b2",
   "metadata": {},
   "outputs": [
    {
     "data": {
      "image/png": "[encoded data removed]",
      "text/plain": [
       "<Figure size 432x288 with 1 Axes>"
      ]
     },
     "metadata": {
      "needs_background": "light"
     },
     "output_type": "display_data"
    }
   ],
   "source": [
    "import matplotlib.pyplot as plt\n",
    "\n",
    "plt.plot(losses)\n",
    "plt.show()"
   ]
  }
 ],
 "metadata": {
  "kernelspec": {
   "display_name": "Python 3",
   "language": "python",
   "name": "python3"
  },
  "language_info": {
   "codemirror_mode": {
    "name": "ipython",
    "version": 3
   },
   "file_extension": ".py",
   "mimetype": "text/x-python",
   "name": "python",
   "nbconvert_exporter": "python",
   "pygments_lexer": "ipython3",
   "version": "3.7.11"
  }
 },
 "nbformat": 4,
 "nbformat_minor": 5
}
