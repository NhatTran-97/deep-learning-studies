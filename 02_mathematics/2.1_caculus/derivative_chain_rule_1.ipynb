{
 "cells": [
  {
   "cell_type": "code",
   "execution_count": 1,
   "id": "0e8c8862",
   "metadata": {},
   "outputs": [],
   "source": [
    "'''\n",
    "f(x) = x^2\n",
    "g(u) = u^2 + x + 2\n",
    "\n",
    "compute the derivative of g(f(x))\n",
    "''' \n",
    "\n",
    "def f_func(x):\n",
    "    return x**2\n",
    "\n",
    "def g_func(x):\n",
    "    return x**2"
   ]
  },
  {
   "cell_type": "code",
   "execution_count": 2,
   "id": "fe6c3456",
   "metadata": {},
   "outputs": [
    {
     "data": {
      "image/png": "[encoded data removed]",
      "text/plain": [
       "<Figure size 432x288 with 1 Axes>"
      ]
     },
     "metadata": {
      "needs_background": "light"
     },
     "output_type": "display_data"
    }
   ],
   "source": [
    "# plot f_func\n",
    "\n",
    "import numpy as np\n",
    "import matplotlib.pyplot as plt\n",
    "\n",
    "x = np.arange(-50, 50, 0.1)\n",
    "f = f_func(x)\n",
    "\n",
    "plt.plot(x, f)\n",
    "plt.show()"
   ]
  },
  {
   "cell_type": "code",
   "execution_count": 3,
   "id": "ac72348b",
   "metadata": {},
   "outputs": [
    {
     "data": {
      "image/png": "[encoded data removed]",
      "text/plain": [
       "<Figure size 432x288 with 1 Axes>"
      ]
     },
     "metadata": {
      "needs_background": "light"
     },
     "output_type": "display_data"
    }
   ],
   "source": [
    "# plot g_func\n",
    "\n",
    "import numpy as np\n",
    "import matplotlib.pyplot as plt\n",
    "\n",
    "x = np.arange(-50, 50, 0.1)\n",
    "g = g_func(x)\n",
    "\n",
    "plt.plot(x, g)\n",
    "plt.show()"
   ]
  },
  {
   "cell_type": "code",
   "execution_count": 4,
   "id": "9f9fd3d3",
   "metadata": {},
   "outputs": [],
   "source": [
    "# đạo hàm trung tâm\n",
    "def gradient(func, x, e=1.0e-4):     \n",
    "    return (func(x + e/2) - func(x - e/2)) / e"
   ]
  },
  {
   "cell_type": "code",
   "execution_count": 5,
   "id": "0ae472bf",
   "metadata": {},
   "outputs": [
    {
     "name": "stdout",
     "output_type": "stream",
     "text": [
      "9.999999999976694\n",
      "-9.999999999976694\n",
      "0.0\n"
     ]
    }
   ],
   "source": [
    "print(gradient(f_func, 5))\n",
    "print(gradient(f_func, -5)) \n",
    "print(gradient(f_func, -0)) "
   ]
  },
  {
   "cell_type": "code",
   "execution_count": 8,
   "id": "bd2d2358",
   "metadata": {},
   "outputs": [
    {
     "name": "stdout",
     "output_type": "stream",
     "text": [
      "-46\n",
      "-36.0 1679616.0\n",
      "-26.0 456976.0\n",
      "-16.0 65536.0\n",
      "-6.0 1296.0\n",
      "4.0 256.0\n",
      "-6.0 1296.0\n",
      "4.0 256.0\n",
      "-6.0 1296.0\n",
      "4.0 256.0\n",
      "-6.0 1296.0\n",
      "4.0 256.0\n",
      "-6.0 1296.0\n",
      "4.0 256.0\n",
      "-6.0 1296.0\n",
      "4.0 256.0\n",
      "-6.0 1296.0\n",
      "4.0 256.0\n",
      "-6.0 1296.0\n",
      "4.0 256.0\n",
      "-6.0 1296.0\n",
      "4.0 256.0\n",
      "-6.0 1296.0\n",
      "4.0 256.0\n",
      "-6.0 1296.0\n",
      "4.0 256.0\n",
      "-6.0 1296.0\n",
      "4.0 256.0\n",
      "-6.0 1296.0\n",
      "4.0 256.0\n",
      "-6.0 1296.0\n",
      "4.0 256.0\n",
      "-6.0 1296.0\n",
      "4.0 256.0\n",
      "-6.0 1296.0\n",
      "4.0 256.0\n",
      "-6.0 1296.0\n",
      "4.0 256.0\n",
      "-6.0 1296.0\n",
      "4.0 256.0\n",
      "-6.0 1296.0\n",
      "4.0 256.0\n",
      "-6.0 1296.0\n",
      "4.0 256.0\n",
      "-6.0 1296.0\n",
      "4.0 256.0\n",
      "-6.0 1296.0\n",
      "4.0 256.0\n",
      "-6.0 1296.0\n",
      "4.0 256.0\n",
      "-6.0 1296.0\n",
      "4.0 256.0\n",
      "-6.0 1296.0\n",
      "4.0 256.0\n",
      "-6.0 1296.0\n",
      "4.0 256.0\n",
      "-6.0 1296.0\n",
      "4.0 256.0\n",
      "-6.0 1296.0\n",
      "4.0 256.0\n",
      "-6.0 1296.0\n",
      "4.0 256.0\n",
      "-6.0 1296.0\n",
      "4.0 256.0\n",
      "-6.0 1296.0\n",
      "4.0 256.0\n",
      "-6.0 1296.0\n",
      "4.0 256.0\n",
      "-6.0 1296.0\n",
      "4.0 256.0\n",
      "-6.0 1296.0\n",
      "4.0 256.0\n",
      "-6.0 1296.0\n",
      "4.0 256.0\n",
      "-6.0 1296.0\n",
      "4.0 256.0\n",
      "-6.0 1296.0\n",
      "4.0 256.0\n",
      "-6.0 1296.0\n",
      "4.0 256.0\n",
      "-6.0 1296.0\n"
     ]
    }
   ],
   "source": [
    "# minimize the composite function g(f(x))\n",
    "\n",
    "import random\n",
    "\n",
    "num_steps = 80\n",
    "step = 1 #10\n",
    "\n",
    "# 1. set x randomly\n",
    "x = random.randint(-100, 100)\n",
    "print(x)\n",
    "\n",
    "for _ in range(num_steps):\n",
    "    # 2. compute derivative\n",
    "    fx = f_func(x)    \n",
    "    df_dx = gradient(f_func, x)\n",
    "    dg_df = gradient(g_func, fx)\n",
    "    dg_dx = dg_df*df_dx\n",
    "    \n",
    "    # 3. get sign\n",
    "    sign = np.sign(dg_dx)\n",
    "    \n",
    "    # 4 update\n",
    "    x = x - sign*step\n",
    "    print(x, g_func(f_func(x)))"
   ]
  },
  {
   "cell_type": "code",
   "execution_count": null,
   "id": "204ab045",
   "metadata": {},
   "outputs": [],
   "source": []
  },
  {
   "cell_type": "code",
   "execution_count": null,
   "id": "90a06b9c",
   "metadata": {},
   "outputs": [],
   "source": []
  },
  {
   "cell_type": "code",
   "execution_count": null,
   "id": "0cd8b9a9",
   "metadata": {},
   "outputs": [],
   "source": []
  }
 ],
 "metadata": {
  "kernelspec": {
   "display_name": "Python 3",
   "language": "python",
   "name": "python3"
  },
  "language_info": {
   "codemirror_mode": {
    "name": "ipython",
    "version": 3
   },
   "file_extension": ".py",
   "mimetype": "text/x-python",
   "name": "python",
   "nbconvert_exporter": "python",
   "pygments_lexer": "ipython3",
   "version": "3.8.8"
  }
 },
 "nbformat": 4,
 "nbformat_minor": 5
}
