{
 "cells": [
  {
   "cell_type": "code",
   "execution_count": 1,
   "id": "91b03ad6",
   "metadata": {},
   "outputs": [],
   "source": [
    "# sphere function\n",
    "\n",
    "def func(x):\n",
    "    return x**2"
   ]
  },
  {
   "cell_type": "code",
   "execution_count": 2,
   "id": "51d749e0",
   "metadata": {},
   "outputs": [
    {
     "data": {
      "image/png": "[encoded data removed]",
      "text/plain": [
       "<Figure size 432x288 with 1 Axes>"
      ]
     },
     "metadata": {
      "needs_background": "light"
     },
     "output_type": "display_data"
    }
   ],
   "source": [
    "import numpy as np\n",
    "import matplotlib.pyplot as plt\n",
    "\n",
    "x = np.arange(-100, 100, 0.1)\n",
    "y = func(x)\n",
    "\n",
    "plt.plot(x, y)\n",
    "plt.show()"
   ]
  },
  {
   "cell_type": "code",
   "execution_count": 4,
   "id": "51f38498",
   "metadata": {},
   "outputs": [],
   "source": [
    "# đạo hàm trung tâm\n",
    "def gradient(f, x, epsilon=1.0e-4):     \n",
    "    return (f(x + epsilon/2) - f(x - epsilon/2)) / epsilon"
   ]
  },
  {
   "cell_type": "code",
   "execution_count": 5,
   "id": "b6ad2e5d",
   "metadata": {},
   "outputs": [
    {
     "name": "stdout",
     "output_type": "stream",
     "text": [
      "9.999999999976694\n",
      "0.0\n",
      "-9.999999999976694\n"
     ]
    }
   ],
   "source": [
    "print(gradient(func, 5))  # --> 10\n",
    "print(gradient(func, 0))  # --> 0\n",
    "print(gradient(func, -5)) # --> -10"
   ]
  },
  {
   "cell_type": "code",
   "execution_count": null,
   "id": "b675eb9f",
   "metadata": {},
   "outputs": [],
   "source": []
  },
  {
   "cell_type": "code",
   "execution_count": 7,
   "id": "25f0d84b",
   "metadata": {},
   "outputs": [
    {
     "name": "stdout",
     "output_type": "stream",
     "text": [
      "41\n"
     ]
    }
   ],
   "source": [
    "import random\n",
    "\n"
   ]
  },
  {
   "cell_type": "code",
   "execution_count": 11,
   "id": "57983367",
   "metadata": {},
   "outputs": [
    {
     "name": "stdout",
     "output_type": "stream",
     "text": [
      "51\n",
      "50.0 2500.0\n",
      "49.0 2401.0\n",
      "48.0 2304.0\n",
      "47.0 2209.0\n",
      "46.0 2116.0\n",
      "45.0 2025.0\n",
      "44.0 1936.0\n",
      "43.0 1849.0\n",
      "42.0 1764.0\n",
      "41.0 1681.0\n",
      "40.0 1600.0\n",
      "39.0 1521.0\n",
      "38.0 1444.0\n",
      "37.0 1369.0\n",
      "36.0 1296.0\n",
      "35.0 1225.0\n",
      "34.0 1156.0\n",
      "33.0 1089.0\n",
      "32.0 1024.0\n",
      "31.0 961.0\n",
      "30.0 900.0\n",
      "29.0 841.0\n",
      "28.0 784.0\n",
      "27.0 729.0\n",
      "26.0 676.0\n",
      "25.0 625.0\n",
      "24.0 576.0\n",
      "23.0 529.0\n",
      "22.0 484.0\n",
      "21.0 441.0\n",
      "20.0 400.0\n",
      "19.0 361.0\n",
      "18.0 324.0\n",
      "17.0 289.0\n",
      "16.0 256.0\n",
      "15.0 225.0\n",
      "14.0 196.0\n",
      "13.0 169.0\n",
      "12.0 144.0\n",
      "11.0 121.0\n",
      "10.0 100.0\n",
      "9.0 81.0\n",
      "8.0 64.0\n",
      "7.0 49.0\n",
      "6.0 36.0\n",
      "5.0 25.0\n",
      "4.0 16.0\n",
      "3.0 9.0\n",
      "2.0 4.0\n",
      "1.0 1.0\n",
      "0.0 0.0\n",
      "0.0 0.0\n",
      "0.0 0.0\n",
      "0.0 0.0\n",
      "0.0 0.0\n",
      "0.0 0.0\n",
      "0.0 0.0\n",
      "0.0 0.0\n",
      "0.0 0.0\n",
      "0.0 0.0\n",
      "0.0 0.0\n",
      "0.0 0.0\n",
      "0.0 0.0\n",
      "0.0 0.0\n",
      "0.0 0.0\n",
      "0.0 0.0\n",
      "0.0 0.0\n",
      "0.0 0.0\n",
      "0.0 0.0\n",
      "0.0 0.0\n",
      "0.0 0.0\n",
      "0.0 0.0\n",
      "0.0 0.0\n",
      "0.0 0.0\n",
      "0.0 0.0\n",
      "0.0 0.0\n",
      "0.0 0.0\n",
      "0.0 0.0\n",
      "0.0 0.0\n",
      "0.0 0.0\n"
     ]
    }
   ],
   "source": [
    "num_steps = 80\n",
    "step = 1\n",
    "\n",
    "# 1. set x randomly\n",
    "x = random.randint(-100, 100)\n",
    "print(x)\n",
    "\n",
    "for _ in range(num_steps):\n",
    "    # 2. compute derivative\n",
    "    dx = gradient(func, x)\n",
    "    \n",
    "    # 3. get sign\n",
    "    sign = np.sign(dx)\n",
    "    \n",
    "    # 4 update\n",
    "    x = x - sign*step\n",
    "    print(x, func(x))"
   ]
  },
  {
   "cell_type": "code",
   "execution_count": null,
   "id": "5a87c7b8",
   "metadata": {},
   "outputs": [],
   "source": []
  },
  {
   "cell_type": "code",
   "execution_count": null,
   "id": "08ecbec3",
   "metadata": {},
   "outputs": [],
   "source": []
  },
  {
   "cell_type": "code",
   "execution_count": null,
   "id": "0edd072e",
   "metadata": {},
   "outputs": [],
   "source": []
  },
  {
   "cell_type": "code",
   "execution_count": null,
   "id": "c78fcef5",
   "metadata": {},
   "outputs": [],
   "source": []
  },
  {
   "cell_type": "code",
   "execution_count": null,
   "id": "8bdc2730",
   "metadata": {},
   "outputs": [],
   "source": []
  },
  {
   "cell_type": "code",
   "execution_count": null,
   "id": "55e177e5",
   "metadata": {},
   "outputs": [],
   "source": []
  },
  {
   "cell_type": "code",
   "execution_count": null,
   "id": "bbac766f",
   "metadata": {},
   "outputs": [],
   "source": []
  },
  {
   "cell_type": "code",
   "execution_count": null,
   "id": "20eab0c0",
   "metadata": {},
   "outputs": [],
   "source": []
  },
  {
   "cell_type": "code",
   "execution_count": null,
   "id": "79ba6994",
   "metadata": {},
   "outputs": [],
   "source": []
  },
  {
   "cell_type": "code",
   "execution_count": null,
   "id": "9a3ea4ee",
   "metadata": {},
   "outputs": [],
   "source": []
  },
  {
   "cell_type": "code",
   "execution_count": null,
   "id": "69a13f26",
   "metadata": {},
   "outputs": [],
   "source": [
    "# sphere function\n",
    "def func(x):\n",
    "    return x**2\n",
    "\n",
    "# đạo hàm trung tâm\n",
    "def gradient(f, x, e=1.0e-4):     \n",
    "    return (f(x + e/2) - f(x - e/2)) / e"
   ]
  },
  {
   "cell_type": "code",
   "execution_count": null,
   "id": "201a0b71",
   "metadata": {},
   "outputs": [],
   "source": []
  },
  {
   "cell_type": "code",
   "execution_count": null,
   "id": "99a61cff",
   "metadata": {},
   "outputs": [],
   "source": [
    "x"
   ]
  },
  {
   "cell_type": "code",
   "execution_count": null,
   "id": "f561d96a",
   "metadata": {},
   "outputs": [],
   "source": [
    "import random\n",
    "\n",
    "# set x randomly\n",
    "x = random.randint(-100, 100)\n",
    "\n",
    "# params\n",
    "num_iterations = 50\n",
    "step = 1\n",
    "\n",
    "# optimize\n",
    "for _ in range(num_iterations):\n",
    "    # compute the derivative at x\n",
    "    dx = gradient(func, x)\n",
    "    \n",
    "    # get sign\n",
    "    sign = 1\n",
    "    if (dx < 0.0):\n",
    "        sign = -1\n",
    "    elif (dx == 0.0):\n",
    "        sign = 0\n",
    "        \n",
    "    # update\n",
    "    x = x - sign*step"
   ]
  },
  {
   "cell_type": "code",
   "execution_count": null,
   "id": "93f4b4bc",
   "metadata": {},
   "outputs": [],
   "source": []
  },
  {
   "cell_type": "code",
   "execution_count": null,
   "id": "ae362bb8",
   "metadata": {},
   "outputs": [],
   "source": []
  },
  {
   "cell_type": "code",
   "execution_count": null,
   "id": "bea52717",
   "metadata": {},
   "outputs": [],
   "source": []
  },
  {
   "cell_type": "code",
   "execution_count": null,
   "id": "ed044bf5",
   "metadata": {},
   "outputs": [],
   "source": []
  },
  {
   "cell_type": "code",
   "execution_count": null,
   "id": "63516ace",
   "metadata": {},
   "outputs": [],
   "source": []
  }
 ],
 "metadata": {
  "kernelspec": {
   "display_name": "Python 3",
   "language": "python",
   "name": "python3"
  },
  "language_info": {
   "codemirror_mode": {
    "name": "ipython",
    "version": 3
   },
   "file_extension": ".py",
   "mimetype": "text/x-python",
   "name": "python",
   "nbconvert_exporter": "python",
   "pygments_lexer": "ipython3",
   "version": "3.8.8"
  }
 },
 "nbformat": 4,
 "nbformat_minor": 5
}
