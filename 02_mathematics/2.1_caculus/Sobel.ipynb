{
 "cells": [
  {
   "cell_type": "code",
   "execution_count": 8,
   "metadata": {},
   "outputs": [
    {
     "name": "stdout",
     "output_type": "stream",
     "text": [
      "<class 'numpy.ndarray'>\n"
     ]
    },
    {
     "data": {
      "text/plain": [
       "True"
      ]
     },
     "execution_count": 8,
     "metadata": {},
     "output_type": "execute_result"
    }
   ],
   "source": [
    "import numpy as np\n",
    "import cv2\n",
    "\n",
    "# read image and convert to grayscale\n",
    "img = cv2.imread('vn.jpeg', 0)\n",
    "\n",
    "# compute sobel-x\n",
    "sobelx = cv2.Sobel(img, cv2.CV_64F, 1, 0)\n",
    "print(type(sobelx))\n",
    "\n",
    "# compute sobel-y\n",
    "sobely = cv2.Sobel(img, cv2.CV_64F, 0, 1)\n",
    "\n",
    "# save results\n",
    "cv2.imwrite('hcm_edge_x.jpg', sobelx)\n",
    "cv2.imwrite('hcm_edge_y.jpg', sobely)"
   ]
  },
  {
   "cell_type": "code",
   "execution_count": null,
   "metadata": {},
   "outputs": [],
   "source": []
  },
  {
   "cell_type": "code",
   "execution_count": 1,
   "metadata": {},
   "outputs": [
    {
     "name": "stdout",
     "output_type": "stream",
     "text": [
      "<class 'numpy.ndarray'>\n"
     ]
    },
    {
     "data": {
      "text/plain": [
       "True"
      ]
     },
     "execution_count": 1,
     "metadata": {},
     "output_type": "execute_result"
    }
   ],
   "source": [
    "import numpy as np\n",
    "import cv2\n",
    "\n",
    "# read image and convert to grayscale\n",
    "img = cv2.imread('nature.png', 0)\n",
    "\n",
    "# compute sobel-x\n",
    "sobelx = cv2.Sobel(img, cv2.CV_64F,1,0)\n",
    "print(type(sobelx))\n",
    "\n",
    "# compute sobel-y\n",
    "sobely = cv2.Sobel(img, cv2.CV_64F,0,1)\n",
    "\n",
    "# save results\n",
    "cv2.imwrite('nature_edge_x.jpg', sobelx)\n",
    "cv2.imwrite('nature_edge_y.jpg', sobely)"
   ]
  },
  {
   "cell_type": "code",
   "execution_count": null,
   "metadata": {},
   "outputs": [],
   "source": []
  }
 ],
 "metadata": {
  "kernelspec": {
   "display_name": "Python 3",
   "language": "python",
   "name": "python3"
  },
  "language_info": {
   "codemirror_mode": {
    "name": "ipython",
    "version": 3
   },
   "file_extension": ".py",
   "mimetype": "text/x-python",
   "name": "python",
   "nbconvert_exporter": "python",
   "pygments_lexer": "ipython3",
   "version": "3.8.8"
  }
 },
 "nbformat": 4,
 "nbformat_minor": 2
}
