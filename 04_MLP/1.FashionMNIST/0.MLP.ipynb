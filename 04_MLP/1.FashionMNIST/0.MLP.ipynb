{
 "cells": [
  {
   "cell_type": "markdown",
   "metadata": {
    "id": "d7i5sXVw-vcD"
   },
   "source": [
    "# **Multi-layer Perceptron**"
   ]
  },
  {
   "cell_type": "code",
   "execution_count": null,
   "metadata": {
    "id": "0CZtkIh5rF75"
   },
   "outputs": [],
   "source": [
    "import torch\n",
    "import torch.nn as nn\n",
    "import torch.optim as optim\n",
    "from torchsummary import summary"
   ]
  },
  {
   "cell_type": "markdown",
   "metadata": {
    "id": "vJTWlufa-4Fo"
   },
   "source": [
    "## **MLP Basic**"
   ]
  },
  {
   "cell_type": "markdown",
   "metadata": {
    "id": "MeR-kYd2iEk3"
   },
   "source": [
    "**Model**"
   ]
  },
  {
   "cell_type": "code",
   "execution_count": null,
   "metadata": {
    "colab": {
     "base_uri": "https://localhost:8080/"
    },
    "executionInfo": {
     "elapsed": 1,
     "status": "ok",
     "timestamp": 1730799335021,
     "user": {
      "displayName": "Thái Nguyễn Quốc",
      "userId": "04072932238722635186"
     },
     "user_tz": -420
    },
    "id": "jve9pmkiqG9O",
    "outputId": "4f84269b-1e95-4a0e-e4ae-fbca877dad81"
   },
   "outputs": [
    {
     "name": "stdout",
     "output_type": "stream",
     "text": [
      "Sequential(\n",
      "  (0): Linear(in_features=1, out_features=1, bias=True)\n",
      "  (1): Linear(in_features=1, out_features=1, bias=True)\n",
      "  (2): Sigmoid()\n",
      ")\n"
     ]
    }
   ],
   "source": [
    "print(model)"
   ]
  },
  {
   "cell_type": "code",
   "execution_count": null,
   "metadata": {
    "id": "uqqm6BANiEMZ"
   },
   "outputs": [],
   "source": [
    "model = nn.Sequential(\n",
    "    nn.Linear(1, 1),\n",
    "    nn.Linear(1, 1),\n",
    "    nn.Sigmoid()\n",
    ")"
   ]
  },
  {
   "cell_type": "code",
   "execution_count": null,
   "metadata": {
    "colab": {
     "base_uri": "https://localhost:8080/"
    },
    "executionInfo": {
     "elapsed": 2,
     "status": "ok",
     "timestamp": 1730799336752,
     "user": {
      "displayName": "Thái Nguyễn Quốc",
      "userId": "04072932238722635186"
     },
     "user_tz": -420
    },
    "id": "-Hab35xQi4Ck",
    "outputId": "7f638a41-ca2f-48a8-a1fa-8aebf915810a"
   },
   "outputs": [
    {
     "name": "stdout",
     "output_type": "stream",
     "text": [
      "----------------------------------------------------------------\n",
      "        Layer (type)               Output Shape         Param #\n",
      "================================================================\n",
      "            Linear-1                 [-1, 1, 1]               2\n",
      "            Linear-2                 [-1, 1, 1]               2\n",
      "           Sigmoid-3                 [-1, 1, 1]               0\n",
      "================================================================\n",
      "Total params: 4\n",
      "Trainable params: 4\n",
      "Non-trainable params: 0\n",
      "----------------------------------------------------------------\n",
      "Input size (MB): 0.00\n",
      "Forward/backward pass size (MB): 0.00\n",
      "Params size (MB): 0.00\n",
      "Estimated Total Size (MB): 0.00\n",
      "----------------------------------------------------------------\n"
     ]
    }
   ],
   "source": [
    "summary(model, (1, 1))"
   ]
  },
  {
   "cell_type": "code",
   "execution_count": null,
   "metadata": {
    "colab": {
     "base_uri": "https://localhost:8080/"
    },
    "executionInfo": {
     "elapsed": 2,
     "status": "ok",
     "timestamp": 1730799338025,
     "user": {
      "displayName": "Thái Nguyễn Quốc",
      "userId": "04072932238722635186"
     },
     "user_tz": -420
    },
    "id": "-6m3UBb1oCd5",
    "outputId": "3eabf95a-2544-484f-e21f-0f05f4027d2a"
   },
   "outputs": [
    {
     "name": "stdout",
     "output_type": "stream",
     "text": [
      "OrderedDict([('weight', tensor([[-0.1094]])), ('bias', tensor([0.2590]))])\n",
      "OrderedDict([('weight', tensor([[0.6766]])), ('bias', tensor([-0.4089]))])\n",
      "OrderedDict()\n"
     ]
    }
   ],
   "source": [
    "for layer in model.children():\n",
    "    print(layer.state_dict())"
   ]
  },
  {
   "cell_type": "code",
   "execution_count": null,
   "metadata": {
    "id": "Sk0MOGx-k8o3"
   },
   "outputs": [],
   "source": [
    "model = nn.Sequential(\n",
    "    nn.Linear(2, 2),\n",
    "    nn.Linear(2, 2),\n",
    "    nn.Sigmoid()\n",
    ")"
   ]
  },
  {
   "cell_type": "code",
   "execution_count": null,
   "metadata": {
    "colab": {
     "base_uri": "https://localhost:8080/"
    },
    "executionInfo": {
     "elapsed": 3508,
     "status": "ok",
     "timestamp": 1730799347339,
     "user": {
      "displayName": "Thái Nguyễn Quốc",
      "userId": "04072932238722635186"
     },
     "user_tz": -420
    },
    "id": "LzNk0PEqlhsH",
    "outputId": "de955995-8082-4e5e-baba-34e916d65074"
   },
   "outputs": [
    {
     "name": "stdout",
     "output_type": "stream",
     "text": [
      "----------------------------------------------------------------\n",
      "        Layer (type)               Output Shape         Param #\n",
      "================================================================\n",
      "            Linear-1          [-1, 10000000, 2]               6\n",
      "            Linear-2          [-1, 10000000, 2]               6\n",
      "           Sigmoid-3          [-1, 10000000, 2]               0\n",
      "================================================================\n",
      "Total params: 12\n",
      "Trainable params: 12\n",
      "Non-trainable params: 0\n",
      "----------------------------------------------------------------\n",
      "Input size (MB): 76.29\n",
      "Forward/backward pass size (MB): 457.76\n",
      "Params size (MB): 0.00\n",
      "Estimated Total Size (MB): 534.06\n",
      "----------------------------------------------------------------\n"
     ]
    }
   ],
   "source": [
    "summary(model, (10000000, 2))"
   ]
  },
  {
   "cell_type": "code",
   "execution_count": null,
   "metadata": {
    "colab": {
     "base_uri": "https://localhost:8080/"
    },
    "executionInfo": {
     "elapsed": 1,
     "status": "ok",
     "timestamp": 1730799347339,
     "user": {
      "displayName": "Thái Nguyễn Quốc",
      "userId": "04072932238722635186"
     },
     "user_tz": -420
    },
    "id": "Cj3ktiK7qFp3",
    "outputId": "75208e02-6c56-40b9-a756-cef9da10ee3c"
   },
   "outputs": [
    {
     "name": "stdout",
     "output_type": "stream",
     "text": [
      "OrderedDict([('weight', tensor([[ 0.5307,  0.3464],\n",
      "        [ 0.2720, -0.1979]])), ('bias', tensor([0.5808, 0.1628]))])\n",
      "OrderedDict([('weight', tensor([[0.1242, 0.0053],\n",
      "        [0.6397, 0.2538]])), ('bias', tensor([-0.3213, -0.4534]))])\n",
      "OrderedDict()\n"
     ]
    }
   ],
   "source": [
    "for layer in model.children():\n",
    "    print(layer.state_dict())"
   ]
  },
  {
   "cell_type": "markdown",
   "metadata": {
    "id": "RMc3CJ82iJ9D"
   },
   "source": [
    "**Sample**"
   ]
  },
  {
   "cell_type": "code",
   "execution_count": null,
   "metadata": {
    "id": "xfojDfA0rUjT"
   },
   "outputs": [],
   "source": [
    "x = torch.tensor([1.0, 2.0])\n",
    "y = torch.tensor([0.0])"
   ]
  },
  {
   "cell_type": "code",
   "execution_count": null,
   "metadata": {
    "colab": {
     "base_uri": "https://localhost:8080/"
    },
    "executionInfo": {
     "elapsed": 2,
     "status": "ok",
     "timestamp": 1730799350386,
     "user": {
      "displayName": "Thái Nguyễn Quốc",
      "userId": "04072932238722635186"
     },
     "user_tz": -420
    },
    "id": "QUZL2gZyriyH",
    "outputId": "1b3b2f09-4c43-4ee7-f7ae-8c4bb0a14be1"
   },
   "outputs": [
    {
     "data": {
      "text/plain": [
       "(tensor([1., 2.]), tensor([0.]))"
      ]
     },
     "execution_count": 11,
     "metadata": {},
     "output_type": "execute_result"
    }
   ],
   "source": [
    "x, y"
   ]
  },
  {
   "cell_type": "markdown",
   "metadata": {
    "id": "tiD9GH_x_BSO"
   },
   "source": [
    "### BCELoss"
   ]
  },
  {
   "cell_type": "code",
   "execution_count": null,
   "metadata": {
    "id": "rzHCx1L_rmcX"
   },
   "outputs": [],
   "source": [
    "model = nn.Sequential(\n",
    "    nn.Linear(2, 2),\n",
    "    nn.Linear(2, 1),\n",
    "    nn.Sigmoid()\n",
    ")"
   ]
  },
  {
   "cell_type": "code",
   "execution_count": null,
   "metadata": {
    "colab": {
     "base_uri": "https://localhost:8080/"
    },
    "executionInfo": {
     "elapsed": 479,
     "status": "ok",
     "timestamp": 1730799354683,
     "user": {
      "displayName": "Thái Nguyễn Quốc",
      "userId": "04072932238722635186"
     },
     "user_tz": -420
    },
    "id": "alffCQqKr18S",
    "outputId": "349bd8a0-8a97-45ce-a794-b4f2fa2be63c"
   },
   "outputs": [
    {
     "name": "stdout",
     "output_type": "stream",
     "text": [
      "Sequential(\n",
      "  (0): Linear(in_features=2, out_features=2, bias=True)\n",
      "  (1): Linear(in_features=2, out_features=1, bias=True)\n",
      "  (2): Sigmoid()\n",
      ")\n"
     ]
    }
   ],
   "source": [
    "print(model)"
   ]
  },
  {
   "cell_type": "code",
   "execution_count": null,
   "metadata": {
    "colab": {
     "base_uri": "https://localhost:8080/"
    },
    "executionInfo": {
     "elapsed": 2,
     "status": "ok",
     "timestamp": 1730799356449,
     "user": {
      "displayName": "Thái Nguyễn Quốc",
      "userId": "04072932238722635186"
     },
     "user_tz": -420
    },
    "id": "LM5ifinFsB5p",
    "outputId": "efa31d4e-a5d3-4777-c529-6d43b12929f9"
   },
   "outputs": [
    {
     "name": "stdout",
     "output_type": "stream",
     "text": [
      "----------------------------------------------------------------\n",
      "        Layer (type)               Output Shape         Param #\n",
      "================================================================\n",
      "            Linear-1                 [-1, 1, 2]               6\n",
      "            Linear-2                 [-1, 1, 1]               3\n",
      "           Sigmoid-3                 [-1, 1, 1]               0\n",
      "================================================================\n",
      "Total params: 9\n",
      "Trainable params: 9\n",
      "Non-trainable params: 0\n",
      "----------------------------------------------------------------\n",
      "Input size (MB): 0.00\n",
      "Forward/backward pass size (MB): 0.00\n",
      "Params size (MB): 0.00\n",
      "Estimated Total Size (MB): 0.00\n",
      "----------------------------------------------------------------\n"
     ]
    }
   ],
   "source": [
    "summary(model, (1, 2))"
   ]
  },
  {
   "cell_type": "code",
   "execution_count": null,
   "metadata": {
    "colab": {
     "base_uri": "https://localhost:8080/"
    },
    "executionInfo": {
     "elapsed": 527,
     "status": "ok",
     "timestamp": 1730799358873,
     "user": {
      "displayName": "Thái Nguyễn Quốc",
      "userId": "04072932238722635186"
     },
     "user_tz": -420
    },
    "id": "u7luO011EQn7",
    "outputId": "2c84f69b-ad62-45fa-c37e-4c5dab212284"
   },
   "outputs": [
    {
     "name": "stdout",
     "output_type": "stream",
     "text": [
      "OrderedDict([('weight', tensor([[ 0.0407,  0.5425],\n",
      "        [-0.1439, -0.3547]])), ('bias', tensor([-0.0699,  0.6974]))])\n",
      "OrderedDict([('weight', tensor([[0.4153, 0.3386]])), ('bias', tensor([0.0457]))])\n",
      "OrderedDict()\n"
     ]
    }
   ],
   "source": [
    "for layer in model.children():\n",
    "    print(layer.state_dict())"
   ]
  },
  {
   "cell_type": "code",
   "execution_count": null,
   "metadata": {
    "id": "CV2eSGRPER0V"
   },
   "outputs": [],
   "source": [
    "for p in model.parameters():\n",
    "    nn.init.constant_(p, 0.1)"
   ]
  },
  {
   "cell_type": "code",
   "execution_count": null,
   "metadata": {
    "colab": {
     "base_uri": "https://localhost:8080/"
    },
    "executionInfo": {
     "elapsed": 2,
     "status": "ok",
     "timestamp": 1730799363724,
     "user": {
      "displayName": "Thái Nguyễn Quốc",
      "userId": "04072932238722635186"
     },
     "user_tz": -420
    },
    "id": "rVbK-xlXEYoj",
    "outputId": "aff15a94-2d0d-4621-9c12-234cd9dff9a1"
   },
   "outputs": [
    {
     "name": "stdout",
     "output_type": "stream",
     "text": [
      "OrderedDict([('weight', tensor([[0.1000, 0.1000],\n",
      "        [0.1000, 0.1000]])), ('bias', tensor([0.1000, 0.1000]))])\n",
      "OrderedDict([('weight', tensor([[0.1000, 0.1000]])), ('bias', tensor([0.1000]))])\n",
      "OrderedDict()\n"
     ]
    }
   ],
   "source": [
    "for layer in model.children():\n",
    "    print(layer.state_dict())"
   ]
  },
  {
   "cell_type": "code",
   "execution_count": null,
   "metadata": {
    "colab": {
     "base_uri": "https://localhost:8080/"
    },
    "executionInfo": {
     "elapsed": 467,
     "status": "ok",
     "timestamp": 1730799367420,
     "user": {
      "displayName": "Thái Nguyễn Quốc",
      "userId": "04072932238722635186"
     },
     "user_tz": -420
    },
    "id": "mi3B2sDDswqp",
    "outputId": "e8b9bfb9-325f-4fe6-b1f6-ee7172f47c97"
   },
   "outputs": [
    {
     "data": {
      "text/plain": [
       "tensor([0.5449], grad_fn=<SigmoidBackward0>)"
      ]
     },
     "execution_count": 18,
     "metadata": {},
     "output_type": "execute_result"
    }
   ],
   "source": [
    "y_pred = model(x)\n",
    "y_pred"
   ]
  },
  {
   "cell_type": "markdown",
   "metadata": {
    "id": "6PtoMz-ySPRF"
   },
   "source": [
    "**Activation**"
   ]
  },
  {
   "cell_type": "code",
   "execution_count": null,
   "metadata": {
    "colab": {
     "base_uri": "https://localhost:8080/"
    },
    "executionInfo": {
     "elapsed": 511,
     "status": "ok",
     "timestamp": 1730799369745,
     "user": {
      "displayName": "Thái Nguyễn Quốc",
      "userId": "04072932238722635186"
     },
     "user_tz": -420
    },
    "id": "JWbI8osQKqhd",
    "outputId": "4c2d8175-97c8-4379-c0a0-162945dd8b4e"
   },
   "outputs": [
    {
     "data": {
      "text/plain": [
       "tensor([0.5449, 0.4551])"
      ]
     },
     "execution_count": 19,
     "metadata": {},
     "output_type": "execute_result"
    }
   ],
   "source": [
    "import torch.nn as nn\n",
    "\n",
    "act = nn.Sigmoid()\n",
    "input = torch.tensor([0.18, -0.18])\n",
    "act(input)"
   ]
  },
  {
   "cell_type": "code",
   "execution_count": null,
   "metadata": {
    "id": "Xqd7sdTXW0S-"
   },
   "outputs": [],
   "source": [
    "model = nn.Sequential(\n",
    "    nn.Linear(2, 2),\n",
    "    nn.Sigmoid(),\n",
    "    nn.Linear(2, 1),\n",
    "    nn.Sigmoid()\n",
    ")"
   ]
  },
  {
   "cell_type": "code",
   "execution_count": null,
   "metadata": {
    "colab": {
     "base_uri": "https://localhost:8080/"
    },
    "executionInfo": {
     "elapsed": 1,
     "status": "ok",
     "timestamp": 1730799375418,
     "user": {
      "displayName": "Thái Nguyễn Quốc",
      "userId": "04072932238722635186"
     },
     "user_tz": -420
    },
    "id": "bnFfThUeW6_v",
    "outputId": "28cb978a-6f26-4625-bed3-e6e629b5ef86"
   },
   "outputs": [
    {
     "name": "stdout",
     "output_type": "stream",
     "text": [
      "----------------------------------------------------------------\n",
      "        Layer (type)               Output Shape         Param #\n",
      "================================================================\n",
      "            Linear-1                 [-1, 1, 2]               6\n",
      "           Sigmoid-2                 [-1, 1, 2]               0\n",
      "            Linear-3                 [-1, 1, 1]               3\n",
      "           Sigmoid-4                 [-1, 1, 1]               0\n",
      "================================================================\n",
      "Total params: 9\n",
      "Trainable params: 9\n",
      "Non-trainable params: 0\n",
      "----------------------------------------------------------------\n",
      "Input size (MB): 0.00\n",
      "Forward/backward pass size (MB): 0.00\n",
      "Params size (MB): 0.00\n",
      "Estimated Total Size (MB): 0.00\n",
      "----------------------------------------------------------------\n"
     ]
    }
   ],
   "source": [
    "summary(model, (1, 2))"
   ]
  },
  {
   "cell_type": "code",
   "execution_count": null,
   "metadata": {
    "colab": {
     "base_uri": "https://localhost:8080/"
    },
    "executionInfo": {
     "elapsed": 610,
     "status": "ok",
     "timestamp": 1730799378670,
     "user": {
      "displayName": "Thái Nguyễn Quốc",
      "userId": "04072932238722635186"
     },
     "user_tz": -420
    },
    "id": "oAE7kD0UQ4kQ",
    "outputId": "ce8d73a1-0ef0-43ab-a2c0-e9c44a226098"
   },
   "outputs": [
    {
     "data": {
      "text/plain": [
       "tensor([ 0.1781, -0.1781])"
      ]
     },
     "execution_count": 22,
     "metadata": {},
     "output_type": "execute_result"
    }
   ],
   "source": [
    "import torch.nn as nn\n",
    "\n",
    "act = nn.Tanh()\n",
    "input = torch.tensor([0.18, -0.18])\n",
    "act(input)"
   ]
  },
  {
   "cell_type": "code",
   "execution_count": null,
   "metadata": {
    "id": "-_XG6hl_W_DU"
   },
   "outputs": [],
   "source": [
    "model = nn.Sequential(\n",
    "    nn.Linear(2, 2),\n",
    "    nn.Tanh(),\n",
    "    nn.Linear(2, 1),\n",
    "    nn.Sigmoid()\n",
    ")"
   ]
  },
  {
   "cell_type": "code",
   "execution_count": null,
   "metadata": {
    "colab": {
     "base_uri": "https://localhost:8080/"
    },
    "executionInfo": {
     "elapsed": 723,
     "status": "ok",
     "timestamp": 1730799384428,
     "user": {
      "displayName": "Thái Nguyễn Quốc",
      "userId": "04072932238722635186"
     },
     "user_tz": -420
    },
    "id": "xcW--tEzXG4v",
    "outputId": "5a1a6c6b-9ad1-4f70-a504-d787d409889a"
   },
   "outputs": [
    {
     "name": "stdout",
     "output_type": "stream",
     "text": [
      "----------------------------------------------------------------\n",
      "        Layer (type)               Output Shape         Param #\n",
      "================================================================\n",
      "            Linear-1                 [-1, 1, 2]               6\n",
      "              Tanh-2                 [-1, 1, 2]               0\n",
      "            Linear-3                 [-1, 1, 1]               3\n",
      "           Sigmoid-4                 [-1, 1, 1]               0\n",
      "================================================================\n",
      "Total params: 9\n",
      "Trainable params: 9\n",
      "Non-trainable params: 0\n",
      "----------------------------------------------------------------\n",
      "Input size (MB): 0.00\n",
      "Forward/backward pass size (MB): 0.00\n",
      "Params size (MB): 0.00\n",
      "Estimated Total Size (MB): 0.00\n",
      "----------------------------------------------------------------\n"
     ]
    }
   ],
   "source": [
    "summary(model, (1, 2))"
   ]
  },
  {
   "cell_type": "code",
   "execution_count": null,
   "metadata": {
    "colab": {
     "base_uri": "https://localhost:8080/"
    },
    "executionInfo": {
     "elapsed": 541,
     "status": "ok",
     "timestamp": 1730799387457,
     "user": {
      "displayName": "Thái Nguyễn Quốc",
      "userId": "04072932238722635186"
     },
     "user_tz": -420
    },
    "id": "z87aV3_4Q8_V",
    "outputId": "6abd94ab-e8f5-4670-bc22-5101450d0042"
   },
   "outputs": [
    {
     "data": {
      "text/plain": [
       "tensor([0.1800, 0.0000])"
      ]
     },
     "execution_count": 25,
     "metadata": {},
     "output_type": "execute_result"
    }
   ],
   "source": [
    "import torch.nn as nn\n",
    "\n",
    "act = nn.ReLU()\n",
    "input = torch.tensor([0.18, -0.18])\n",
    "act(input)"
   ]
  },
  {
   "cell_type": "code",
   "execution_count": null,
   "metadata": {
    "id": "95TlMx4bXK2H"
   },
   "outputs": [],
   "source": [
    "model = nn.Sequential(\n",
    "    nn.Linear(2, 2),\n",
    "    nn.ReLU(),\n",
    "    nn.Linear(2, 1),\n",
    "    nn.Sigmoid()\n",
    ")"
   ]
  },
  {
   "cell_type": "code",
   "execution_count": null,
   "metadata": {
    "colab": {
     "base_uri": "https://localhost:8080/"
    },
    "executionInfo": {
     "elapsed": 2,
     "status": "ok",
     "timestamp": 1730799391025,
     "user": {
      "displayName": "Thái Nguyễn Quốc",
      "userId": "04072932238722635186"
     },
     "user_tz": -420
    },
    "id": "N91hWPRYXPNk",
    "outputId": "539fa94d-57f2-47ae-9e3a-9fd4a6648aae"
   },
   "outputs": [
    {
     "name": "stdout",
     "output_type": "stream",
     "text": [
      "----------------------------------------------------------------\n",
      "        Layer (type)               Output Shape         Param #\n",
      "================================================================\n",
      "            Linear-1                 [-1, 1, 2]               6\n",
      "              ReLU-2                 [-1, 1, 2]               0\n",
      "            Linear-3                 [-1, 1, 1]               3\n",
      "           Sigmoid-4                 [-1, 1, 1]               0\n",
      "================================================================\n",
      "Total params: 9\n",
      "Trainable params: 9\n",
      "Non-trainable params: 0\n",
      "----------------------------------------------------------------\n",
      "Input size (MB): 0.00\n",
      "Forward/backward pass size (MB): 0.00\n",
      "Params size (MB): 0.00\n",
      "Estimated Total Size (MB): 0.00\n",
      "----------------------------------------------------------------\n"
     ]
    }
   ],
   "source": [
    "summary(model, (1, 2))"
   ]
  },
  {
   "cell_type": "markdown",
   "metadata": {
    "id": "mGG6DEArTPOD"
   },
   "source": [
    "**Loss**"
   ]
  },
  {
   "cell_type": "code",
   "execution_count": null,
   "metadata": {
    "colab": {
     "base_uri": "https://localhost:8080/"
    },
    "executionInfo": {
     "elapsed": 538,
     "status": "ok",
     "timestamp": 1730799677484,
     "user": {
      "displayName": "Thái Nguyễn Quốc",
      "userId": "04072932238722635186"
     },
     "user_tz": -420
    },
    "id": "gx4YWLxEsx0m",
    "outputId": "eb96065b-bc91-4523-e10e-13b3777ca08d"
   },
   "outputs": [
    {
     "data": {
      "text/plain": [
       "tensor([1., 2.])"
      ]
     },
     "execution_count": 36,
     "metadata": {},
     "output_type": "execute_result"
    }
   ],
   "source": [
    "x"
   ]
  },
  {
   "cell_type": "code",
   "execution_count": null,
   "metadata": {
    "id": "eHmpfk8ssuhW"
   },
   "outputs": [],
   "source": [
    "model = nn.Sequential(\n",
    "    nn.Linear(2, 2),\n",
    "    nn.ReLU(),\n",
    "    nn.Linear(2, 1),\n",
    "    nn.Sigmoid()\n",
    ")"
   ]
  },
  {
   "cell_type": "code",
   "execution_count": null,
   "metadata": {
    "id": "WS-Xl04ks3Tr"
   },
   "outputs": [],
   "source": [
    "for p in model.parameters():\n",
    "    nn.init.constant_(p, 0.1)"
   ]
  },
  {
   "cell_type": "code",
   "execution_count": null,
   "metadata": {
    "colab": {
     "base_uri": "https://localhost:8080/"
    },
    "executionInfo": {
     "elapsed": 479,
     "status": "ok",
     "timestamp": 1730799713774,
     "user": {
      "displayName": "Thái Nguyễn Quốc",
      "userId": "04072932238722635186"
     },
     "user_tz": -420
    },
    "id": "F53aIFHps7T6",
    "outputId": "e43868e8-7440-4557-f096-74e9af5f56bf"
   },
   "outputs": [
    {
     "name": "stdout",
     "output_type": "stream",
     "text": [
      "OrderedDict([('weight', tensor([[0.1000, 0.1000],\n",
      "        [0.1000, 0.1000]])), ('bias', tensor([0.1000, 0.1000]))])\n",
      "OrderedDict()\n",
      "OrderedDict([('weight', tensor([[0.1000, 0.1000]])), ('bias', tensor([0.1000]))])\n",
      "OrderedDict()\n"
     ]
    }
   ],
   "source": [
    "for layer in model.children():\n",
    "    print(layer.state_dict())"
   ]
  },
  {
   "cell_type": "code",
   "execution_count": null,
   "metadata": {
    "id": "R4wt3YK-slZY"
   },
   "outputs": [],
   "source": [
    "import torch.nn as nn\n",
    "loss_fn = nn.BCELoss()"
   ]
  },
  {
   "cell_type": "code",
   "execution_count": null,
   "metadata": {
    "colab": {
     "base_uri": "https://localhost:8080/"
    },
    "executionInfo": {
     "elapsed": 471,
     "status": "ok",
     "timestamp": 1730799717704,
     "user": {
      "displayName": "Thái Nguyễn Quốc",
      "userId": "04072932238722635186"
     },
     "user_tz": -420
    },
    "id": "jN-Xjz7bsxSq",
    "outputId": "9bd283ad-7da9-49e0-8da8-8295f0f5dbb8"
   },
   "outputs": [
    {
     "data": {
      "text/plain": [
       "tensor([0.5449], grad_fn=<SigmoidBackward0>)"
      ]
     },
     "execution_count": 42,
     "metadata": {},
     "output_type": "execute_result"
    }
   ],
   "source": [
    "y_pred = model(x)\n",
    "y_pred"
   ]
  },
  {
   "cell_type": "code",
   "execution_count": null,
   "metadata": {
    "colab": {
     "base_uri": "https://localhost:8080/"
    },
    "executionInfo": {
     "elapsed": 477,
     "status": "ok",
     "timestamp": 1730799723548,
     "user": {
      "displayName": "Thái Nguyễn Quốc",
      "userId": "04072932238722635186"
     },
     "user_tz": -420
    },
    "id": "o_kV3M4bVBBW",
    "outputId": "5682dda0-e30d-4a08-801a-51682f40ebd2"
   },
   "outputs": [
    {
     "data": {
      "text/plain": [
       "tensor([0.])"
      ]
     },
     "execution_count": 44,
     "metadata": {},
     "output_type": "execute_result"
    }
   ],
   "source": [
    "y"
   ]
  },
  {
   "cell_type": "code",
   "execution_count": null,
   "metadata": {
    "colab": {
     "base_uri": "https://localhost:8080/"
    },
    "executionInfo": {
     "elapsed": 848,
     "status": "ok",
     "timestamp": 1730799727664,
     "user": {
      "displayName": "Thái Nguyễn Quốc",
      "userId": "04072932238722635186"
     },
     "user_tz": -420
    },
    "id": "HjGPvMCestTw",
    "outputId": "0b27f326-7121-4c76-b8e9-7e96f5973a2a"
   },
   "outputs": [
    {
     "data": {
      "text/plain": [
       "tensor(0.7872, grad_fn=<BinaryCrossEntropyBackward0>)"
      ]
     },
     "execution_count": 45,
     "metadata": {},
     "output_type": "execute_result"
    }
   ],
   "source": [
    "loss = loss_fn(y_pred, y)\n",
    "loss"
   ]
  },
  {
   "cell_type": "code",
   "execution_count": null,
   "metadata": {
    "id": "e7pDQoVw0WAT"
   },
   "outputs": [],
   "source": [
    "learning_rate = 0.1\n",
    "optimizer = optim.SGD(model.parameters(), learning_rate)"
   ]
  },
  {
   "cell_type": "code",
   "execution_count": null,
   "metadata": {
    "colab": {
     "base_uri": "https://localhost:8080/"
    },
    "executionInfo": {
     "elapsed": 511,
     "status": "ok",
     "timestamp": 1730799740252,
     "user": {
      "displayName": "Thái Nguyễn Quốc",
      "userId": "04072932238722635186"
     },
     "user_tz": -420
    },
    "id": "2k1IcFyMW6zr",
    "outputId": "c40bd740-db2a-47e0-cbb2-3041b9f40596"
   },
   "outputs": [
    {
     "name": "stdout",
     "output_type": "stream",
     "text": [
      "OrderedDict([('weight', tensor([[0.1000, 0.1000],\n",
      "        [0.1000, 0.1000]])), ('bias', tensor([0.1000, 0.1000]))])\n",
      "OrderedDict()\n",
      "OrderedDict([('weight', tensor([[0.1000, 0.1000]])), ('bias', tensor([0.1000]))])\n",
      "OrderedDict()\n"
     ]
    }
   ],
   "source": [
    "for layer in model.children():\n",
    "    print(layer.state_dict())"
   ]
  },
  {
   "cell_type": "code",
   "execution_count": null,
   "metadata": {
    "id": "Ihj22f8800S9"
   },
   "outputs": [],
   "source": [
    "loss.backward()"
   ]
  },
  {
   "cell_type": "code",
   "execution_count": null,
   "metadata": {
    "id": "kHRiR-LD01dB"
   },
   "outputs": [],
   "source": [
    "optimizer.step()"
   ]
  },
  {
   "cell_type": "code",
   "execution_count": null,
   "metadata": {
    "colab": {
     "base_uri": "https://localhost:8080/"
    },
    "executionInfo": {
     "elapsed": 483,
     "status": "ok",
     "timestamp": 1730799750975,
     "user": {
      "displayName": "Thái Nguyễn Quốc",
      "userId": "04072932238722635186"
     },
     "user_tz": -420
    },
    "id": "xV0I5Zzl04qE",
    "outputId": "7c9526e6-3de5-4cfb-8880-d3180fbd1563"
   },
   "outputs": [
    {
     "name": "stdout",
     "output_type": "stream",
     "text": [
      "OrderedDict([('weight', tensor([[0.0946, 0.0891],\n",
      "        [0.0946, 0.0891]])), ('bias', tensor([0.0946, 0.0946]))])\n",
      "OrderedDict()\n",
      "OrderedDict([('weight', tensor([[0.0782, 0.0782]])), ('bias', tensor([0.0455]))])\n",
      "OrderedDict()\n"
     ]
    }
   ],
   "source": [
    "for layer in model.children():\n",
    "    print(layer.state_dict())"
   ]
  },
  {
   "cell_type": "markdown",
   "metadata": {
    "id": "Q1Pmzaa8_LF2"
   },
   "source": [
    "###CrossEntropyLoss"
   ]
  },
  {
   "cell_type": "code",
   "execution_count": null,
   "metadata": {
    "id": "KMy_J_8XAxXD"
   },
   "outputs": [],
   "source": [
    "x = torch.tensor([1.0, 2.0])\n",
    "y = torch.tensor(0)"
   ]
  },
  {
   "cell_type": "code",
   "execution_count": null,
   "metadata": {
    "colab": {
     "base_uri": "https://localhost:8080/"
    },
    "executionInfo": {
     "elapsed": 2,
     "status": "ok",
     "timestamp": 1730799762110,
     "user": {
      "displayName": "Thái Nguyễn Quốc",
      "userId": "04072932238722635186"
     },
     "user_tz": -420
    },
    "id": "U09rh_r8_Tg6",
    "outputId": "e6b2778d-9582-4c53-d373-98be2c5ebb25"
   },
   "outputs": [
    {
     "name": "stdout",
     "output_type": "stream",
     "text": [
      "Sequential(\n",
      "  (0): Linear(in_features=2, out_features=2, bias=True)\n",
      "  (1): ReLU()\n",
      "  (2): Linear(in_features=2, out_features=2, bias=True)\n",
      ")\n"
     ]
    }
   ],
   "source": [
    "print(model)"
   ]
  },
  {
   "cell_type": "code",
   "execution_count": null,
   "metadata": {
    "id": "ymrGtDor_N3h"
   },
   "outputs": [],
   "source": [
    "model = nn.Sequential(\n",
    "    nn.Linear(2, 2),\n",
    "    nn.ReLU(),\n",
    "    nn.Linear(2, 2),\n",
    ")"
   ]
  },
  {
   "cell_type": "code",
   "execution_count": null,
   "metadata": {
    "colab": {
     "base_uri": "https://localhost:8080/"
    },
    "executionInfo": {
     "elapsed": 471,
     "status": "ok",
     "timestamp": 1730799765760,
     "user": {
      "displayName": "Thái Nguyễn Quốc",
      "userId": "04072932238722635186"
     },
     "user_tz": -420
    },
    "id": "UX2P9I-N_Wnb",
    "outputId": "ebcc053e-a018-4e6f-f1ad-5ec3fbbcc228"
   },
   "outputs": [
    {
     "name": "stdout",
     "output_type": "stream",
     "text": [
      "----------------------------------------------------------------\n",
      "        Layer (type)               Output Shape         Param #\n",
      "================================================================\n",
      "            Linear-1                 [-1, 1, 2]               6\n",
      "              ReLU-2                 [-1, 1, 2]               0\n",
      "            Linear-3                 [-1, 1, 2]               6\n",
      "================================================================\n",
      "Total params: 12\n",
      "Trainable params: 12\n",
      "Non-trainable params: 0\n",
      "----------------------------------------------------------------\n",
      "Input size (MB): 0.00\n",
      "Forward/backward pass size (MB): 0.00\n",
      "Params size (MB): 0.00\n",
      "Estimated Total Size (MB): 0.00\n",
      "----------------------------------------------------------------\n"
     ]
    }
   ],
   "source": [
    "summary(model, (1, 2))"
   ]
  },
  {
   "cell_type": "code",
   "execution_count": null,
   "metadata": {
    "colab": {
     "base_uri": "https://localhost:8080/"
    },
    "executionInfo": {
     "elapsed": 522,
     "status": "ok",
     "timestamp": 1730799769353,
     "user": {
      "displayName": "Thái Nguyễn Quốc",
      "userId": "04072932238722635186"
     },
     "user_tz": -420
    },
    "id": "tfkD1a2y_fkz",
    "outputId": "7aa9e243-5263-4608-a460-aac2f12a7924"
   },
   "outputs": [
    {
     "data": {
      "text/plain": [
       "tensor([ 0.9005, -0.1670], grad_fn=<ViewBackward0>)"
      ]
     },
     "execution_count": 55,
     "metadata": {},
     "output_type": "execute_result"
    }
   ],
   "source": [
    "y_pred = model(x)\n",
    "y_pred"
   ]
  },
  {
   "cell_type": "code",
   "execution_count": null,
   "metadata": {
    "id": "JMsinHSl_ojo"
   },
   "outputs": [],
   "source": [
    "import torch.nn as nn\n",
    "loss_fn = nn.CrossEntropyLoss()"
   ]
  },
  {
   "cell_type": "code",
   "execution_count": null,
   "metadata": {
    "colab": {
     "base_uri": "https://localhost:8080/"
    },
    "executionInfo": {
     "elapsed": 2,
     "status": "ok",
     "timestamp": 1730799773123,
     "user": {
      "displayName": "Thái Nguyễn Quốc",
      "userId": "04072932238722635186"
     },
     "user_tz": -420
    },
    "id": "LeONyWMz_uB4",
    "outputId": "94c08ea7-9bc1-4218-aff5-d563bd3b8213"
   },
   "outputs": [
    {
     "data": {
      "text/plain": [
       "tensor(0)"
      ]
     },
     "execution_count": 57,
     "metadata": {},
     "output_type": "execute_result"
    }
   ],
   "source": [
    "y = torch.tensor(0)\n",
    "y"
   ]
  },
  {
   "cell_type": "code",
   "execution_count": null,
   "metadata": {
    "colab": {
     "base_uri": "https://localhost:8080/"
    },
    "executionInfo": {
     "elapsed": 491,
     "status": "ok",
     "timestamp": 1730799775659,
     "user": {
      "displayName": "Thái Nguyễn Quốc",
      "userId": "04072932238722635186"
     },
     "user_tz": -420
    },
    "id": "GmvthVAH_9_N",
    "outputId": "0aa997ba-9a15-4ed7-a6bc-619796483ed0"
   },
   "outputs": [
    {
     "data": {
      "text/plain": [
       "tensor([ 0.9005, -0.1670], grad_fn=<ViewBackward0>)"
      ]
     },
     "execution_count": 58,
     "metadata": {},
     "output_type": "execute_result"
    }
   ],
   "source": [
    "y_pred"
   ]
  },
  {
   "cell_type": "code",
   "execution_count": null,
   "metadata": {
    "colab": {
     "base_uri": "https://localhost:8080/"
    },
    "executionInfo": {
     "elapsed": 589,
     "status": "ok",
     "timestamp": 1730799779881,
     "user": {
      "displayName": "Thái Nguyễn Quốc",
      "userId": "04072932238722635186"
     },
     "user_tz": -420
    },
    "id": "gfIujA5G_pe4",
    "outputId": "e70567cf-9fde-4426-c7aa-b27af4cde764"
   },
   "outputs": [
    {
     "data": {
      "text/plain": [
       "tensor(0.2955, grad_fn=<NllLossBackward0>)"
      ]
     },
     "execution_count": 59,
     "metadata": {},
     "output_type": "execute_result"
    }
   ],
   "source": [
    "loss_fn(y_pred, y)"
   ]
  },
  {
   "cell_type": "markdown",
   "metadata": {
    "id": "diE_R78z_YRO"
   },
   "source": [
    "## **Classification using MLP**"
   ]
  },
  {
   "cell_type": "code",
   "execution_count": null,
   "metadata": {
    "id": "nHLIzzZV2szS"
   },
   "outputs": [],
   "source": [
    "from sklearn.datasets import load_iris\n",
    "from sklearn.model_selection import train_test_split"
   ]
  },
  {
   "cell_type": "code",
   "execution_count": null,
   "metadata": {
    "id": "zhszekVP2ujW"
   },
   "outputs": [],
   "source": [
    "data = load_iris()"
   ]
  },
  {
   "cell_type": "code",
   "execution_count": null,
   "metadata": {
    "colab": {
     "base_uri": "https://localhost:8080/"
    },
    "executionInfo": {
     "elapsed": 470,
     "status": "ok",
     "timestamp": 1730801504738,
     "user": {
      "displayName": "Thái Nguyễn Quốc",
      "userId": "04072932238722635186"
     },
     "user_tz": -420
    },
    "id": "BSy1DfIg2wJG",
    "outputId": "b1760468-fcbf-43f4-8ea5-c373a9f04a12"
   },
   "outputs": [
    {
     "data": {
      "text/plain": [
       "(150, 4)"
      ]
     },
     "execution_count": 4,
     "metadata": {},
     "output_type": "execute_result"
    }
   ],
   "source": [
    "data.data.shape"
   ]
  },
  {
   "cell_type": "code",
   "execution_count": null,
   "metadata": {
    "colab": {
     "base_uri": "https://localhost:8080/"
    },
    "executionInfo": {
     "elapsed": 4,
     "status": "ok",
     "timestamp": 1730801506861,
     "user": {
      "displayName": "Thái Nguyễn Quốc",
      "userId": "04072932238722635186"
     },
     "user_tz": -420
    },
    "id": "wGJO8N7v2066",
    "outputId": "33323e92-5aa1-4602-83a2-d179859de8f0"
   },
   "outputs": [
    {
     "data": {
      "text/plain": [
       "(150,)"
      ]
     },
     "execution_count": 5,
     "metadata": {},
     "output_type": "execute_result"
    }
   ],
   "source": [
    "data.target.shape"
   ]
  },
  {
   "cell_type": "code",
   "execution_count": null,
   "metadata": {
    "id": "UnqkcdC1284t"
   },
   "outputs": [],
   "source": [
    "X_train, X_test, Y_train, Y_test = train_test_split(\n",
    "    data.data,\n",
    "    data.target,\n",
    "    test_size=0.4,\n",
    "    random_state=7\n",
    ")"
   ]
  },
  {
   "cell_type": "code",
   "execution_count": null,
   "metadata": {
    "id": "eTMtYMLCI38j"
   },
   "outputs": [],
   "source": [
    "X_valid, X_test, Y_valid, Y_test = train_test_split(\n",
    "    X_test,\n",
    "    Y_test,\n",
    "    test_size=0.5,\n",
    "    random_state=7\n",
    ")"
   ]
  },
  {
   "cell_type": "code",
   "execution_count": null,
   "metadata": {
    "colab": {
     "base_uri": "https://localhost:8080/"
    },
    "executionInfo": {
     "elapsed": 740,
     "status": "ok",
     "timestamp": 1730801512150,
     "user": {
      "displayName": "Thái Nguyễn Quốc",
      "userId": "04072932238722635186"
     },
     "user_tz": -420
    },
    "id": "G_utljwbJBvX",
    "outputId": "9dee3ae2-7697-481e-b998-f74f489ea52f"
   },
   "outputs": [
    {
     "data": {
      "text/plain": [
       "((90, 4), (30, 4), (30, 4))"
      ]
     },
     "execution_count": 8,
     "metadata": {},
     "output_type": "execute_result"
    }
   ],
   "source": [
    "X_train.shape, X_valid.shape, X_test.shape"
   ]
  },
  {
   "cell_type": "code",
   "execution_count": null,
   "metadata": {
    "id": "AV7jZZPuQACX"
   },
   "outputs": [],
   "source": [
    "from sklearn.preprocessing import StandardScaler"
   ]
  },
  {
   "cell_type": "code",
   "execution_count": null,
   "metadata": {
    "id": "iOkxNr2LQDC2"
   },
   "outputs": [],
   "source": [
    "scaler = StandardScaler()"
   ]
  },
  {
   "cell_type": "code",
   "execution_count": null,
   "metadata": {
    "colab": {
     "base_uri": "https://localhost:8080/",
     "height": 80
    },
    "executionInfo": {
     "elapsed": 3,
     "status": "ok",
     "timestamp": 1730801517125,
     "user": {
      "displayName": "Thái Nguyễn Quốc",
      "userId": "04072932238722635186"
     },
     "user_tz": -420
    },
    "id": "K1PPjtWmQHTs",
    "outputId": "5471ac3e-6051-4d38-c747-4fdc7b201bc3"
   },
   "outputs": [
    {
     "data": {
      "text/html": [
       "<style>#sk-container-id-1 {\n",
       "  /* Definition of color scheme common for light and dark mode */\n",
       "  --sklearn-color-text: black;\n",
       "  --sklearn-color-line: gray;\n",
       "  /* Definition of color scheme for unfitted estimators */\n",
       "  --sklearn-color-unfitted-level-0: #fff5e6;\n",
       "  --sklearn-color-unfitted-level-1: #f6e4d2;\n",
       "  --sklearn-color-unfitted-level-2: #ffe0b3;\n",
       "  --sklearn-color-unfitted-level-3: chocolate;\n",
       "  /* Definition of color scheme for fitted estimators */\n",
       "  --sklearn-color-fitted-level-0: #f0f8ff;\n",
       "  --sklearn-color-fitted-level-1: #d4ebff;\n",
       "  --sklearn-color-fitted-level-2: #b3dbfd;\n",
       "  --sklearn-color-fitted-level-3: cornflowerblue;\n",
       "\n",
       "  /* Specific color for light theme */\n",
       "  --sklearn-color-text-on-default-background: var(--sg-text-color, var(--theme-code-foreground, var(--jp-content-font-color1, black)));\n",
       "  --sklearn-color-background: var(--sg-background-color, var(--theme-background, var(--jp-layout-color0, white)));\n",
       "  --sklearn-color-border-box: var(--sg-text-color, var(--theme-code-foreground, var(--jp-content-font-color1, black)));\n",
       "  --sklearn-color-icon: #696969;\n",
       "\n",
       "  @media (prefers-color-scheme: dark) {\n",
       "    /* Redefinition of color scheme for dark theme */\n",
       "    --sklearn-color-text-on-default-background: var(--sg-text-color, var(--theme-code-foreground, var(--jp-content-font-color1, white)));\n",
       "    --sklearn-color-background: var(--sg-background-color, var(--theme-background, var(--jp-layout-color0, #111)));\n",
       "    --sklearn-color-border-box: var(--sg-text-color, var(--theme-code-foreground, var(--jp-content-font-color1, white)));\n",
       "    --sklearn-color-icon: #878787;\n",
       "  }\n",
       "}\n",
       "\n",
       "#sk-container-id-1 {\n",
       "  color: var(--sklearn-color-text);\n",
       "}\n",
       "\n",
       "#sk-container-id-1 pre {\n",
       "  padding: 0;\n",
       "}\n",
       "\n",
       "#sk-container-id-1 input.sk-hidden--visually {\n",
       "  border: 0;\n",
       "  clip: rect(1px 1px 1px 1px);\n",
       "  clip: rect(1px, 1px, 1px, 1px);\n",
       "  height: 1px;\n",
       "  margin: -1px;\n",
       "  overflow: hidden;\n",
       "  padding: 0;\n",
       "  position: absolute;\n",
       "  width: 1px;\n",
       "}\n",
       "\n",
       "#sk-container-id-1 div.sk-dashed-wrapped {\n",
       "  border: 1px dashed var(--sklearn-color-line);\n",
       "  margin: 0 0.4em 0.5em 0.4em;\n",
       "  box-sizing: border-box;\n",
       "  padding-bottom: 0.4em;\n",
       "  background-color: var(--sklearn-color-background);\n",
       "}\n",
       "\n",
       "#sk-container-id-1 div.sk-container {\n",
       "  /* jupyter's `normalize.less` sets `[hidden] { display: none; }`\n",
       "     but bootstrap.min.css set `[hidden] { display: none !important; }`\n",
       "     so we also need the `!important` here to be able to override the\n",
       "     default hidden behavior on the sphinx rendered scikit-learn.org.\n",
       "     See: https://github.com/scikit-learn/scikit-learn/issues/21755 */\n",
       "  display: inline-block !important;\n",
       "  position: relative;\n",
       "}\n",
       "\n",
       "#sk-container-id-1 div.sk-text-repr-fallback {\n",
       "  display: none;\n",
       "}\n",
       "\n",
       "div.sk-parallel-item,\n",
       "div.sk-serial,\n",
       "div.sk-item {\n",
       "  /* draw centered vertical line to link estimators */\n",
       "  background-image: linear-gradient(var(--sklearn-color-text-on-default-background), var(--sklearn-color-text-on-default-background));\n",
       "  background-size: 2px 100%;\n",
       "  background-repeat: no-repeat;\n",
       "  background-position: center center;\n",
       "}\n",
       "\n",
       "/* Parallel-specific style estimator block */\n",
       "\n",
       "#sk-container-id-1 div.sk-parallel-item::after {\n",
       "  content: \"\";\n",
       "  width: 100%;\n",
       "  border-bottom: 2px solid var(--sklearn-color-text-on-default-background);\n",
       "  flex-grow: 1;\n",
       "}\n",
       "\n",
       "#sk-container-id-1 div.sk-parallel {\n",
       "  display: flex;\n",
       "  align-items: stretch;\n",
       "  justify-content: center;\n",
       "  background-color: var(--sklearn-color-background);\n",
       "  position: relative;\n",
       "}\n",
       "\n",
       "#sk-container-id-1 div.sk-parallel-item {\n",
       "  display: flex;\n",
       "  flex-direction: column;\n",
       "}\n",
       "\n",
       "#sk-container-id-1 div.sk-parallel-item:first-child::after {\n",
       "  align-self: flex-end;\n",
       "  width: 50%;\n",
       "}\n",
       "\n",
       "#sk-container-id-1 div.sk-parallel-item:last-child::after {\n",
       "  align-self: flex-start;\n",
       "  width: 50%;\n",
       "}\n",
       "\n",
       "#sk-container-id-1 div.sk-parallel-item:only-child::after {\n",
       "  width: 0;\n",
       "}\n",
       "\n",
       "/* Serial-specific style estimator block */\n",
       "\n",
       "#sk-container-id-1 div.sk-serial {\n",
       "  display: flex;\n",
       "  flex-direction: column;\n",
       "  align-items: center;\n",
       "  background-color: var(--sklearn-color-background);\n",
       "  padding-right: 1em;\n",
       "  padding-left: 1em;\n",
       "}\n",
       "\n",
       "\n",
       "/* Toggleable style: style used for estimator/Pipeline/ColumnTransformer box that is\n",
       "clickable and can be expanded/collapsed.\n",
       "- Pipeline and ColumnTransformer use this feature and define the default style\n",
       "- Estimators will overwrite some part of the style using the `sk-estimator` class\n",
       "*/\n",
       "\n",
       "/* Pipeline and ColumnTransformer style (default) */\n",
       "\n",
       "#sk-container-id-1 div.sk-toggleable {\n",
       "  /* Default theme specific background. It is overwritten whether we have a\n",
       "  specific estimator or a Pipeline/ColumnTransformer */\n",
       "  background-color: var(--sklearn-color-background);\n",
       "}\n",
       "\n",
       "/* Toggleable label */\n",
       "#sk-container-id-1 label.sk-toggleable__label {\n",
       "  cursor: pointer;\n",
       "  display: block;\n",
       "  width: 100%;\n",
       "  margin-bottom: 0;\n",
       "  padding: 0.5em;\n",
       "  box-sizing: border-box;\n",
       "  text-align: center;\n",
       "}\n",
       "\n",
       "#sk-container-id-1 label.sk-toggleable__label-arrow:before {\n",
       "  /* Arrow on the left of the label */\n",
       "  content: \"▸\";\n",
       "  float: left;\n",
       "  margin-right: 0.25em;\n",
       "  color: var(--sklearn-color-icon);\n",
       "}\n",
       "\n",
       "#sk-container-id-1 label.sk-toggleable__label-arrow:hover:before {\n",
       "  color: var(--sklearn-color-text);\n",
       "}\n",
       "\n",
       "/* Toggleable content - dropdown */\n",
       "\n",
       "#sk-container-id-1 div.sk-toggleable__content {\n",
       "  max-height: 0;\n",
       "  max-width: 0;\n",
       "  overflow: hidden;\n",
       "  text-align: left;\n",
       "  /* unfitted */\n",
       "  background-color: var(--sklearn-color-unfitted-level-0);\n",
       "}\n",
       "\n",
       "#sk-container-id-1 div.sk-toggleable__content.fitted {\n",
       "  /* fitted */\n",
       "  background-color: var(--sklearn-color-fitted-level-0);\n",
       "}\n",
       "\n",
       "#sk-container-id-1 div.sk-toggleable__content pre {\n",
       "  margin: 0.2em;\n",
       "  border-radius: 0.25em;\n",
       "  color: var(--sklearn-color-text);\n",
       "  /* unfitted */\n",
       "  background-color: var(--sklearn-color-unfitted-level-0);\n",
       "}\n",
       "\n",
       "#sk-container-id-1 div.sk-toggleable__content.fitted pre {\n",
       "  /* unfitted */\n",
       "  background-color: var(--sklearn-color-fitted-level-0);\n",
       "}\n",
       "\n",
       "#sk-container-id-1 input.sk-toggleable__control:checked~div.sk-toggleable__content {\n",
       "  /* Expand drop-down */\n",
       "  max-height: 200px;\n",
       "  max-width: 100%;\n",
       "  overflow: auto;\n",
       "}\n",
       "\n",
       "#sk-container-id-1 input.sk-toggleable__control:checked~label.sk-toggleable__label-arrow:before {\n",
       "  content: \"▾\";\n",
       "}\n",
       "\n",
       "/* Pipeline/ColumnTransformer-specific style */\n",
       "\n",
       "#sk-container-id-1 div.sk-label input.sk-toggleable__control:checked~label.sk-toggleable__label {\n",
       "  color: var(--sklearn-color-text);\n",
       "  background-color: var(--sklearn-color-unfitted-level-2);\n",
       "}\n",
       "\n",
       "#sk-container-id-1 div.sk-label.fitted input.sk-toggleable__control:checked~label.sk-toggleable__label {\n",
       "  background-color: var(--sklearn-color-fitted-level-2);\n",
       "}\n",
       "\n",
       "/* Estimator-specific style */\n",
       "\n",
       "/* Colorize estimator box */\n",
       "#sk-container-id-1 div.sk-estimator input.sk-toggleable__control:checked~label.sk-toggleable__label {\n",
       "  /* unfitted */\n",
       "  background-color: var(--sklearn-color-unfitted-level-2);\n",
       "}\n",
       "\n",
       "#sk-container-id-1 div.sk-estimator.fitted input.sk-toggleable__control:checked~label.sk-toggleable__label {\n",
       "  /* fitted */\n",
       "  background-color: var(--sklearn-color-fitted-level-2);\n",
       "}\n",
       "\n",
       "#sk-container-id-1 div.sk-label label.sk-toggleable__label,\n",
       "#sk-container-id-1 div.sk-label label {\n",
       "  /* The background is the default theme color */\n",
       "  color: var(--sklearn-color-text-on-default-background);\n",
       "}\n",
       "\n",
       "/* On hover, darken the color of the background */\n",
       "#sk-container-id-1 div.sk-label:hover label.sk-toggleable__label {\n",
       "  color: var(--sklearn-color-text);\n",
       "  background-color: var(--sklearn-color-unfitted-level-2);\n",
       "}\n",
       "\n",
       "/* Label box, darken color on hover, fitted */\n",
       "#sk-container-id-1 div.sk-label.fitted:hover label.sk-toggleable__label.fitted {\n",
       "  color: var(--sklearn-color-text);\n",
       "  background-color: var(--sklearn-color-fitted-level-2);\n",
       "}\n",
       "\n",
       "/* Estimator label */\n",
       "\n",
       "#sk-container-id-1 div.sk-label label {\n",
       "  font-family: monospace;\n",
       "  font-weight: bold;\n",
       "  display: inline-block;\n",
       "  line-height: 1.2em;\n",
       "}\n",
       "\n",
       "#sk-container-id-1 div.sk-label-container {\n",
       "  text-align: center;\n",
       "}\n",
       "\n",
       "/* Estimator-specific */\n",
       "#sk-container-id-1 div.sk-estimator {\n",
       "  font-family: monospace;\n",
       "  border: 1px dotted var(--sklearn-color-border-box);\n",
       "  border-radius: 0.25em;\n",
       "  box-sizing: border-box;\n",
       "  margin-bottom: 0.5em;\n",
       "  /* unfitted */\n",
       "  background-color: var(--sklearn-color-unfitted-level-0);\n",
       "}\n",
       "\n",
       "#sk-container-id-1 div.sk-estimator.fitted {\n",
       "  /* fitted */\n",
       "  background-color: var(--sklearn-color-fitted-level-0);\n",
       "}\n",
       "\n",
       "/* on hover */\n",
       "#sk-container-id-1 div.sk-estimator:hover {\n",
       "  /* unfitted */\n",
       "  background-color: var(--sklearn-color-unfitted-level-2);\n",
       "}\n",
       "\n",
       "#sk-container-id-1 div.sk-estimator.fitted:hover {\n",
       "  /* fitted */\n",
       "  background-color: var(--sklearn-color-fitted-level-2);\n",
       "}\n",
       "\n",
       "/* Specification for estimator info (e.g. \"i\" and \"?\") */\n",
       "\n",
       "/* Common style for \"i\" and \"?\" */\n",
       "\n",
       ".sk-estimator-doc-link,\n",
       "a:link.sk-estimator-doc-link,\n",
       "a:visited.sk-estimator-doc-link {\n",
       "  float: right;\n",
       "  font-size: smaller;\n",
       "  line-height: 1em;\n",
       "  font-family: monospace;\n",
       "  background-color: var(--sklearn-color-background);\n",
       "  border-radius: 1em;\n",
       "  height: 1em;\n",
       "  width: 1em;\n",
       "  text-decoration: none !important;\n",
       "  margin-left: 1ex;\n",
       "  /* unfitted */\n",
       "  border: var(--sklearn-color-unfitted-level-1) 1pt solid;\n",
       "  color: var(--sklearn-color-unfitted-level-1);\n",
       "}\n",
       "\n",
       ".sk-estimator-doc-link.fitted,\n",
       "a:link.sk-estimator-doc-link.fitted,\n",
       "a:visited.sk-estimator-doc-link.fitted {\n",
       "  /* fitted */\n",
       "  border: var(--sklearn-color-fitted-level-1) 1pt solid;\n",
       "  color: var(--sklearn-color-fitted-level-1);\n",
       "}\n",
       "\n",
       "/* On hover */\n",
       "div.sk-estimator:hover .sk-estimator-doc-link:hover,\n",
       ".sk-estimator-doc-link:hover,\n",
       "div.sk-label-container:hover .sk-estimator-doc-link:hover,\n",
       ".sk-estimator-doc-link:hover {\n",
       "  /* unfitted */\n",
       "  background-color: var(--sklearn-color-unfitted-level-3);\n",
       "  color: var(--sklearn-color-background);\n",
       "  text-decoration: none;\n",
       "}\n",
       "\n",
       "div.sk-estimator.fitted:hover .sk-estimator-doc-link.fitted:hover,\n",
       ".sk-estimator-doc-link.fitted:hover,\n",
       "div.sk-label-container:hover .sk-estimator-doc-link.fitted:hover,\n",
       ".sk-estimator-doc-link.fitted:hover {\n",
       "  /* fitted */\n",
       "  background-color: var(--sklearn-color-fitted-level-3);\n",
       "  color: var(--sklearn-color-background);\n",
       "  text-decoration: none;\n",
       "}\n",
       "\n",
       "/* Span, style for the box shown on hovering the info icon */\n",
       ".sk-estimator-doc-link span {\n",
       "  display: none;\n",
       "  z-index: 9999;\n",
       "  position: relative;\n",
       "  font-weight: normal;\n",
       "  right: .2ex;\n",
       "  padding: .5ex;\n",
       "  margin: .5ex;\n",
       "  width: min-content;\n",
       "  min-width: 20ex;\n",
       "  max-width: 50ex;\n",
       "  color: var(--sklearn-color-text);\n",
       "  box-shadow: 2pt 2pt 4pt #999;\n",
       "  /* unfitted */\n",
       "  background: var(--sklearn-color-unfitted-level-0);\n",
       "  border: .5pt solid var(--sklearn-color-unfitted-level-3);\n",
       "}\n",
       "\n",
       ".sk-estimator-doc-link.fitted span {\n",
       "  /* fitted */\n",
       "  background: var(--sklearn-color-fitted-level-0);\n",
       "  border: var(--sklearn-color-fitted-level-3);\n",
       "}\n",
       "\n",
       ".sk-estimator-doc-link:hover span {\n",
       "  display: block;\n",
       "}\n",
       "\n",
       "/* \"?\"-specific style due to the `<a>` HTML tag */\n",
       "\n",
       "#sk-container-id-1 a.estimator_doc_link {\n",
       "  float: right;\n",
       "  font-size: 1rem;\n",
       "  line-height: 1em;\n",
       "  font-family: monospace;\n",
       "  background-color: var(--sklearn-color-background);\n",
       "  border-radius: 1rem;\n",
       "  height: 1rem;\n",
       "  width: 1rem;\n",
       "  text-decoration: none;\n",
       "  /* unfitted */\n",
       "  color: var(--sklearn-color-unfitted-level-1);\n",
       "  border: var(--sklearn-color-unfitted-level-1) 1pt solid;\n",
       "}\n",
       "\n",
       "#sk-container-id-1 a.estimator_doc_link.fitted {\n",
       "  /* fitted */\n",
       "  border: var(--sklearn-color-fitted-level-1) 1pt solid;\n",
       "  color: var(--sklearn-color-fitted-level-1);\n",
       "}\n",
       "\n",
       "/* On hover */\n",
       "#sk-container-id-1 a.estimator_doc_link:hover {\n",
       "  /* unfitted */\n",
       "  background-color: var(--sklearn-color-unfitted-level-3);\n",
       "  color: var(--sklearn-color-background);\n",
       "  text-decoration: none;\n",
       "}\n",
       "\n",
       "#sk-container-id-1 a.estimator_doc_link.fitted:hover {\n",
       "  /* fitted */\n",
       "  background-color: var(--sklearn-color-fitted-level-3);\n",
       "}\n",
       "</style><div id=\"sk-container-id-1\" class=\"sk-top-container\"><div class=\"sk-text-repr-fallback\"><pre>StandardScaler()</pre><b>In a Jupyter environment, please rerun this cell to show the HTML representation or trust the notebook. <br />On GitHub, the HTML representation is unable to render, please try loading this page with nbviewer.org.</b></div><div class=\"sk-container\" hidden><div class=\"sk-item\"><div class=\"sk-estimator fitted sk-toggleable\"><input class=\"sk-toggleable__control sk-hidden--visually\" id=\"sk-estimator-id-1\" type=\"checkbox\" checked><label for=\"sk-estimator-id-1\" class=\"sk-toggleable__label fitted sk-toggleable__label-arrow fitted\">&nbsp;&nbsp;StandardScaler<a class=\"sk-estimator-doc-link fitted\" rel=\"noreferrer\" target=\"_blank\" href=\"https://scikit-learn.org/1.5/modules/generated/sklearn.preprocessing.StandardScaler.html\">?<span>Documentation for StandardScaler</span></a><span class=\"sk-estimator-doc-link fitted\">i<span>Fitted</span></span></label><div class=\"sk-toggleable__content fitted\"><pre>StandardScaler()</pre></div> </div></div></div></div>"
      ],
      "text/plain": [
       "StandardScaler()"
      ]
     },
     "execution_count": 11,
     "metadata": {},
     "output_type": "execute_result"
    }
   ],
   "source": [
    "scaler.fit(X_train)"
   ]
  },
  {
   "cell_type": "code",
   "execution_count": null,
   "metadata": {
    "id": "-PryqD25QPFH"
   },
   "outputs": [],
   "source": [
    "X_train = scaler.transform(X_train)\n",
    "X_valid = scaler.transform(X_valid)\n",
    "X_test = scaler.transform(X_test)"
   ]
  },
  {
   "cell_type": "code",
   "execution_count": null,
   "metadata": {
    "colab": {
     "base_uri": "https://localhost:8080/"
    },
    "executionInfo": {
     "elapsed": 511,
     "status": "ok",
     "timestamp": 1730801520830,
     "user": {
      "displayName": "Thái Nguyễn Quốc",
      "userId": "04072932238722635186"
     },
     "user_tz": -420
    },
    "id": "du-3lMPJHmq7",
    "outputId": "a24d2b28-941a-4a75-d16e-1786be72adb0"
   },
   "outputs": [
    {
     "data": {
      "text/plain": [
       "array([[5.1, 3.5, 1.4, 0.2],\n",
       "       [4.9, 3. , 1.4, 0.2],\n",
       "       [4.7, 3.2, 1.3, 0.2],\n",
       "       [4.6, 3.1, 1.5, 0.2],\n",
       "       [5. , 3.6, 1.4, 0.2],\n",
       "       [5.4, 3.9, 1.7, 0.4],\n",
       "       [4.6, 3.4, 1.4, 0.3],\n",
       "       [5. , 3.4, 1.5, 0.2],\n",
       "       [4.4, 2.9, 1.4, 0.2],\n",
       "       [4.9, 3.1, 1.5, 0.1],\n",
       "       [5.4, 3.7, 1.5, 0.2],\n",
       "       [4.8, 3.4, 1.6, 0.2],\n",
       "       [4.8, 3. , 1.4, 0.1],\n",
       "       [4.3, 3. , 1.1, 0.1],\n",
       "       [5.8, 4. , 1.2, 0.2],\n",
       "       [5.7, 4.4, 1.5, 0.4],\n",
       "       [5.4, 3.9, 1.3, 0.4],\n",
       "       [5.1, 3.5, 1.4, 0.3],\n",
       "       [5.7, 3.8, 1.7, 0.3],\n",
       "       [5.1, 3.8, 1.5, 0.3],\n",
       "       [5.4, 3.4, 1.7, 0.2],\n",
       "       [5.1, 3.7, 1.5, 0.4],\n",
       "       [4.6, 3.6, 1. , 0.2],\n",
       "       [5.1, 3.3, 1.7, 0.5],\n",
       "       [4.8, 3.4, 1.9, 0.2],\n",
       "       [5. , 3. , 1.6, 0.2],\n",
       "       [5. , 3.4, 1.6, 0.4],\n",
       "       [5.2, 3.5, 1.5, 0.2],\n",
       "       [5.2, 3.4, 1.4, 0.2],\n",
       "       [4.7, 3.2, 1.6, 0.2],\n",
       "       [4.8, 3.1, 1.6, 0.2],\n",
       "       [5.4, 3.4, 1.5, 0.4],\n",
       "       [5.2, 4.1, 1.5, 0.1],\n",
       "       [5.5, 4.2, 1.4, 0.2],\n",
       "       [4.9, 3.1, 1.5, 0.2],\n",
       "       [5. , 3.2, 1.2, 0.2],\n",
       "       [5.5, 3.5, 1.3, 0.2],\n",
       "       [4.9, 3.6, 1.4, 0.1],\n",
       "       [4.4, 3. , 1.3, 0.2],\n",
       "       [5.1, 3.4, 1.5, 0.2],\n",
       "       [5. , 3.5, 1.3, 0.3],\n",
       "       [4.5, 2.3, 1.3, 0.3],\n",
       "       [4.4, 3.2, 1.3, 0.2],\n",
       "       [5. , 3.5, 1.6, 0.6],\n",
       "       [5.1, 3.8, 1.9, 0.4],\n",
       "       [4.8, 3. , 1.4, 0.3],\n",
       "       [5.1, 3.8, 1.6, 0.2],\n",
       "       [4.6, 3.2, 1.4, 0.2],\n",
       "       [5.3, 3.7, 1.5, 0.2],\n",
       "       [5. , 3.3, 1.4, 0.2],\n",
       "       [7. , 3.2, 4.7, 1.4],\n",
       "       [6.4, 3.2, 4.5, 1.5],\n",
       "       [6.9, 3.1, 4.9, 1.5],\n",
       "       [5.5, 2.3, 4. , 1.3],\n",
       "       [6.5, 2.8, 4.6, 1.5],\n",
       "       [5.7, 2.8, 4.5, 1.3],\n",
       "       [6.3, 3.3, 4.7, 1.6],\n",
       "       [4.9, 2.4, 3.3, 1. ],\n",
       "       [6.6, 2.9, 4.6, 1.3],\n",
       "       [5.2, 2.7, 3.9, 1.4],\n",
       "       [5. , 2. , 3.5, 1. ],\n",
       "       [5.9, 3. , 4.2, 1.5],\n",
       "       [6. , 2.2, 4. , 1. ],\n",
       "       [6.1, 2.9, 4.7, 1.4],\n",
       "       [5.6, 2.9, 3.6, 1.3],\n",
       "       [6.7, 3.1, 4.4, 1.4],\n",
       "       [5.6, 3. , 4.5, 1.5],\n",
       "       [5.8, 2.7, 4.1, 1. ],\n",
       "       [6.2, 2.2, 4.5, 1.5],\n",
       "       [5.6, 2.5, 3.9, 1.1],\n",
       "       [5.9, 3.2, 4.8, 1.8],\n",
       "       [6.1, 2.8, 4. , 1.3],\n",
       "       [6.3, 2.5, 4.9, 1.5],\n",
       "       [6.1, 2.8, 4.7, 1.2],\n",
       "       [6.4, 2.9, 4.3, 1.3],\n",
       "       [6.6, 3. , 4.4, 1.4],\n",
       "       [6.8, 2.8, 4.8, 1.4],\n",
       "       [6.7, 3. , 5. , 1.7],\n",
       "       [6. , 2.9, 4.5, 1.5],\n",
       "       [5.7, 2.6, 3.5, 1. ],\n",
       "       [5.5, 2.4, 3.8, 1.1],\n",
       "       [5.5, 2.4, 3.7, 1. ],\n",
       "       [5.8, 2.7, 3.9, 1.2],\n",
       "       [6. , 2.7, 5.1, 1.6],\n",
       "       [5.4, 3. , 4.5, 1.5],\n",
       "       [6. , 3.4, 4.5, 1.6],\n",
       "       [6.7, 3.1, 4.7, 1.5],\n",
       "       [6.3, 2.3, 4.4, 1.3],\n",
       "       [5.6, 3. , 4.1, 1.3],\n",
       "       [5.5, 2.5, 4. , 1.3],\n",
       "       [5.5, 2.6, 4.4, 1.2],\n",
       "       [6.1, 3. , 4.6, 1.4],\n",
       "       [5.8, 2.6, 4. , 1.2],\n",
       "       [5. , 2.3, 3.3, 1. ],\n",
       "       [5.6, 2.7, 4.2, 1.3],\n",
       "       [5.7, 3. , 4.2, 1.2],\n",
       "       [5.7, 2.9, 4.2, 1.3],\n",
       "       [6.2, 2.9, 4.3, 1.3],\n",
       "       [5.1, 2.5, 3. , 1.1],\n",
       "       [5.7, 2.8, 4.1, 1.3],\n",
       "       [6.3, 3.3, 6. , 2.5],\n",
       "       [5.8, 2.7, 5.1, 1.9],\n",
       "       [7.1, 3. , 5.9, 2.1],\n",
       "       [6.3, 2.9, 5.6, 1.8],\n",
       "       [6.5, 3. , 5.8, 2.2],\n",
       "       [7.6, 3. , 6.6, 2.1],\n",
       "       [4.9, 2.5, 4.5, 1.7],\n",
       "       [7.3, 2.9, 6.3, 1.8],\n",
       "       [6.7, 2.5, 5.8, 1.8],\n",
       "       [7.2, 3.6, 6.1, 2.5],\n",
       "       [6.5, 3.2, 5.1, 2. ],\n",
       "       [6.4, 2.7, 5.3, 1.9],\n",
       "       [6.8, 3. , 5.5, 2.1],\n",
       "       [5.7, 2.5, 5. , 2. ],\n",
       "       [5.8, 2.8, 5.1, 2.4],\n",
       "       [6.4, 3.2, 5.3, 2.3],\n",
       "       [6.5, 3. , 5.5, 1.8],\n",
       "       [7.7, 3.8, 6.7, 2.2],\n",
       "       [7.7, 2.6, 6.9, 2.3],\n",
       "       [6. , 2.2, 5. , 1.5],\n",
       "       [6.9, 3.2, 5.7, 2.3],\n",
       "       [5.6, 2.8, 4.9, 2. ],\n",
       "       [7.7, 2.8, 6.7, 2. ],\n",
       "       [6.3, 2.7, 4.9, 1.8],\n",
       "       [6.7, 3.3, 5.7, 2.1],\n",
       "       [7.2, 3.2, 6. , 1.8],\n",
       "       [6.2, 2.8, 4.8, 1.8],\n",
       "       [6.1, 3. , 4.9, 1.8],\n",
       "       [6.4, 2.8, 5.6, 2.1],\n",
       "       [7.2, 3. , 5.8, 1.6],\n",
       "       [7.4, 2.8, 6.1, 1.9],\n",
       "       [7.9, 3.8, 6.4, 2. ],\n",
       "       [6.4, 2.8, 5.6, 2.2],\n",
       "       [6.3, 2.8, 5.1, 1.5],\n",
       "       [6.1, 2.6, 5.6, 1.4],\n",
       "       [7.7, 3. , 6.1, 2.3],\n",
       "       [6.3, 3.4, 5.6, 2.4],\n",
       "       [6.4, 3.1, 5.5, 1.8],\n",
       "       [6. , 3. , 4.8, 1.8],\n",
       "       [6.9, 3.1, 5.4, 2.1],\n",
       "       [6.7, 3.1, 5.6, 2.4],\n",
       "       [6.9, 3.1, 5.1, 2.3],\n",
       "       [5.8, 2.7, 5.1, 1.9],\n",
       "       [6.8, 3.2, 5.9, 2.3],\n",
       "       [6.7, 3.3, 5.7, 2.5],\n",
       "       [6.7, 3. , 5.2, 2.3],\n",
       "       [6.3, 2.5, 5. , 1.9],\n",
       "       [6.5, 3. , 5.2, 2. ],\n",
       "       [6.2, 3.4, 5.4, 2.3],\n",
       "       [5.9, 3. , 5.1, 1.8]])"
      ]
     },
     "execution_count": 13,
     "metadata": {},
     "output_type": "execute_result"
    }
   ],
   "source": [
    "data.data"
   ]
  },
  {
   "cell_type": "code",
   "execution_count": null,
   "metadata": {
    "colab": {
     "base_uri": "https://localhost:8080/"
    },
    "executionInfo": {
     "elapsed": 495,
     "status": "ok",
     "timestamp": 1730801526139,
     "user": {
      "displayName": "Thái Nguyễn Quốc",
      "userId": "04072932238722635186"
     },
     "user_tz": -420
    },
    "id": "LeuB2B_GQfVC",
    "outputId": "78078a6f-056c-41d8-8f95-a3a895d000f7"
   },
   "outputs": [
    {
     "data": {
      "text/plain": [
       "array([[-1.03412082,  0.99571559, -1.20196482, -0.77770727],\n",
       "       [ 1.02069068,  0.08360971,  0.54282282,  0.39755931],\n",
       "       [ 1.74591826, -0.37244324,  1.44335838,  0.78931484],\n",
       "       [-0.4297645 , -1.05652265,  0.3739724 ,  0.00580379],\n",
       "       [-0.79237829, -0.82849618,  0.09255504,  0.26697414],\n",
       "       [-0.18802197,  3.04795383, -1.25824829, -1.03887762],\n",
       "       [ 1.625047  ,  0.31163618,  1.27450796,  0.78931484],\n",
       "       [-0.55063576,  0.76768912, -1.14568135, -1.30004797],\n",
       "       [-0.0671507 ,  2.13584794, -1.42709871, -1.30004797],\n",
       "       [ 0.29546309, -1.05652265,  1.04937407,  0.26697414],\n",
       "       [-0.18802197, -1.28454912,  0.71167324,  1.05048519],\n",
       "       [-1.27586335, -0.14441676, -1.31453176, -1.43063314],\n",
       "       [ 0.77894815, -0.14441676,  1.16194102,  1.31165554],\n",
       "       [-1.51760588,  0.31163618, -1.31453176, -1.30004797],\n",
       "       [ 0.89981941, -0.37244324,  0.48653935,  0.13638896],\n",
       "       [ 1.02069068, -0.14441676,  0.82424018,  1.44224071],\n",
       "       [ 0.29546309, -0.14441676,  0.48653935,  0.26697414],\n",
       "       [-0.18802197,  1.679795  , -1.14568135, -1.16946279],\n",
       "       [ 1.38330447,  0.31163618,  0.54282282,  0.26697414],\n",
       "       [-1.39673461,  0.31163618, -1.37081523, -1.30004797],\n",
       "       [ 0.77894815, -0.14441676,  0.82424018,  1.05048519],\n",
       "       [ 2.22940332, -1.05652265,  1.78105921,  1.44224071],\n",
       "       [-1.15499208, -1.51257559, -0.24514579, -0.25536656],\n",
       "       [-1.27586335,  0.08360971, -1.20196482, -1.30004797],\n",
       "       [-0.4297645 ,  2.59190089, -1.31453176, -1.30004797],\n",
       "       [-0.30889323, -0.14441676,  0.20512199,  0.13638896],\n",
       "       [ 0.65807688,  0.31163618,  0.88052365,  1.44224071],\n",
       "       [-0.79237829,  0.99571559, -1.25824829, -1.30004797],\n",
       "       [ 2.47114585,  1.679795  ,  1.49964185,  1.05048519],\n",
       "       [-0.0671507 , -0.60046971,  0.76795671,  1.57282589],\n",
       "       [-0.18802197, -0.37244324,  0.26140546,  0.13638896],\n",
       "       [-0.91324955,  1.45176853, -1.25824829, -1.03887762],\n",
       "       [-0.91324955, -1.28454912, -0.41399621, -0.12478139],\n",
       "       [-1.03412082,  0.76768912, -1.25824829, -1.30004797],\n",
       "       [ 2.22940332, -0.60046971,  1.66849227,  1.05048519],\n",
       "       [ 2.10853206, -0.14441676,  1.61220879,  1.18107036],\n",
       "       [-1.03412082,  0.31163618, -1.42709871, -1.30004797],\n",
       "       [-0.55063576,  1.45176853, -1.25824829, -1.30004797],\n",
       "       [ 1.02069068,  0.53966265,  1.10565754,  1.70341106],\n",
       "       [ 0.29546309, -0.60046971,  0.14883852,  0.13638896],\n",
       "       [ 0.53720562, -1.28454912,  0.71167324,  0.91990001],\n",
       "       [ 1.86678953, -0.60046971,  1.33079143,  0.91990001],\n",
       "       [-1.03412082, -1.74060206, -0.24514579, -0.25536656],\n",
       "       [-0.55063576,  0.76768912, -1.25824829, -1.03887762],\n",
       "       [-0.55063576,  1.90782147, -1.37081523, -1.03887762],\n",
       "       [-0.30889323, -0.60046971,  0.65538977,  1.05048519],\n",
       "       [-1.15499208, -0.14441676, -1.31453176, -1.30004797],\n",
       "       [-0.67150702,  1.45176853, -1.25824829, -1.30004797],\n",
       "       [ 0.17459183, -0.82849618,  0.76795671,  0.52814449],\n",
       "       [ 1.14156194,  0.31163618,  1.21822449,  1.44224071],\n",
       "       [ 0.41633436,  0.76768912,  0.93680713,  1.44224071],\n",
       "       [-0.18802197, -0.60046971,  0.20512199,  0.13638896],\n",
       "       [ 0.53720562, -1.74060206,  0.3739724 ,  0.13638896],\n",
       "       [-1.15499208,  0.08360971, -1.25824829, -1.43063314],\n",
       "       [ 1.26243321,  0.08360971,  0.76795671,  1.44224071],\n",
       "       [-1.03412082,  1.22374206, -1.31453176, -1.30004797],\n",
       "       [-1.7593484 , -0.14441676, -1.37081523, -1.30004797],\n",
       "       [ 0.17459183, -0.37244324,  0.43025588,  0.39755931],\n",
       "       [ 0.29546309, -0.60046971,  0.54282282,  0.00580379],\n",
       "       [ 0.65807688, -0.60046971,  1.04937407,  1.18107036],\n",
       "       [-1.15499208,  0.08360971, -1.25824829, -1.30004797],\n",
       "       [-0.30889323, -0.37244324, -0.07629537,  0.13638896],\n",
       "       [ 0.05372056, -0.14441676,  0.26140546,  0.39755931],\n",
       "       [ 0.53720562, -0.82849618,  0.65538977,  0.78931484],\n",
       "       [ 1.14156194, -0.14441676,  0.9930906 ,  1.18107036],\n",
       "       [-0.4297645 , -1.74060206,  0.14883852,  0.13638896],\n",
       "       [ 0.53720562, -0.60046971,  0.76795671,  0.39755931],\n",
       "       [-1.27586335,  0.76768912, -1.0331144 , -1.30004797],\n",
       "       [ 0.53720562,  0.53966265,  0.54282282,  0.52814449],\n",
       "       [-0.30889323, -1.28454912,  0.09255504, -0.12478139],\n",
       "       [-0.91324955,  1.679795  , -1.0331144 , -1.03887762],\n",
       "       [-0.91324955,  1.679795  , -1.25824829, -1.16946279],\n",
       "       [-1.51760588,  0.76768912, -1.31453176, -1.16946279],\n",
       "       [-0.18802197, -0.60046971,  0.43025588,  0.13638896],\n",
       "       [ 0.89981941, -0.14441676,  0.3739724 ,  0.26697414],\n",
       "       [-0.91324955,  0.99571559, -1.31453176, -1.30004797],\n",
       "       [ 2.22940332, -0.14441676,  1.33079143,  1.44224071],\n",
       "       [ 0.29546309, -0.14441676,  0.65538977,  0.78931484],\n",
       "       [ 0.41633436, -1.96862853,  0.43025588,  0.39755931],\n",
       "       [ 0.53720562,  0.76768912,  1.04937407,  1.57282589],\n",
       "       [-1.7593484 ,  0.31163618, -1.37081523, -1.30004797],\n",
       "       [ 0.77894815,  0.31163618,  0.76795671,  1.05048519],\n",
       "       [-0.4297645 , -1.28454912,  0.14883852,  0.13638896],\n",
       "       [ 0.53720562, -1.28454912,  0.65538977,  0.39755931],\n",
       "       [-0.91324955,  0.53966265, -1.14568135, -0.90829244],\n",
       "       [-0.0671507 , -0.82849618,  0.76795671,  0.91990001],\n",
       "       [-0.0671507 , -1.05652265,  0.14883852,  0.00580379],\n",
       "       [ 0.53720562, -0.37244324,  1.04937407,  0.78931484],\n",
       "       [-0.0671507 , -0.82849618,  0.20512199, -0.25536656],\n",
       "       [-1.03412082, -0.14441676, -1.20196482, -1.30004797]])"
      ]
     },
     "execution_count": 14,
     "metadata": {},
     "output_type": "execute_result"
    }
   ],
   "source": [
    "X_train"
   ]
  },
  {
   "cell_type": "code",
   "execution_count": null,
   "metadata": {
    "colab": {
     "base_uri": "https://localhost:8080/"
    },
    "executionInfo": {
     "elapsed": 448,
     "status": "ok",
     "timestamp": 1730801529983,
     "user": {
      "displayName": "Thái Nguyễn Quốc",
      "userId": "04072932238722635186"
     },
     "user_tz": -420
    },
    "id": "JfbDpAytQhEI",
    "outputId": "a9f5e0db-c04b-46dc-c9aa-c75d9a5cf5e3"
   },
   "outputs": [
    {
     "data": {
      "text/plain": [
       "array([[-0.18802197, -1.05652265, -0.13257885, -0.25536656],\n",
       "       [-0.0671507 , -0.82849618,  0.09255504,  0.00580379],\n",
       "       [-1.7593484 , -0.37244324, -1.31453176, -1.30004797],\n",
       "       [ 0.65807688,  0.08360971,  0.9930906 ,  0.78931484],\n",
       "       [ 1.02069068, -0.14441676,  0.71167324,  0.65872966],\n",
       "       [-0.18802197, -0.14441676,  0.26140546,  0.00580379],\n",
       "       [ 0.65807688, -0.37244324,  0.31768893,  0.13638896],\n",
       "       [ 0.05372056,  0.31163618,  0.59910629,  0.78931484],\n",
       "       [ 1.26243321,  0.31163618,  1.10565754,  1.44224071],\n",
       "       [ 0.41633436, -0.60046971,  0.59910629,  0.78931484],\n",
       "       [-0.55063576,  1.90782147, -1.14568135, -1.03887762],\n",
       "       [-1.03412082,  0.53966265, -1.31453176, -1.30004797],\n",
       "       [-0.79237829,  2.36387441, -1.25824829, -1.43063314],\n",
       "       [ 1.625047  ,  1.22374206,  1.33079143,  1.70341106],\n",
       "       [-0.4297645 , -1.51257559,  0.03627157, -0.12478139],\n",
       "       [-0.91324955,  1.679795  , -1.20196482, -1.30004797],\n",
       "       [-1.51760588,  1.22374206, -1.53966565, -1.30004797],\n",
       "       [-0.55063576, -0.14441676,  0.43025588,  0.39755931],\n",
       "       [ 1.02069068, -1.28454912,  1.16194102,  0.78931484],\n",
       "       [-1.27586335, -0.14441676, -1.31453176, -1.16946279],\n",
       "       [ 0.77894815, -0.14441676,  0.9930906 ,  0.78931484],\n",
       "       [ 0.29546309, -0.37244324,  0.54282282,  0.26697414],\n",
       "       [-0.4297645 , -1.51257559, -0.0200119 , -0.25536656],\n",
       "       [-1.39673461,  0.31163618, -1.20196482, -1.30004797],\n",
       "       [ 1.02069068,  0.08360971,  1.04937407,  1.57282589],\n",
       "       [-0.91324955,  0.76768912, -1.25824829, -1.30004797],\n",
       "       [ 1.02069068,  0.53966265,  1.10565754,  1.18107036],\n",
       "       [-0.4297645 ,  0.99571559, -1.37081523, -1.30004797],\n",
       "       [-1.51760588,  0.08360971, -1.25824829, -1.30004797],\n",
       "       [ 0.65807688,  0.31163618,  0.43025588,  0.39755931]])"
      ]
     },
     "execution_count": 15,
     "metadata": {},
     "output_type": "execute_result"
    }
   ],
   "source": [
    "X_test"
   ]
  },
  {
   "cell_type": "code",
   "execution_count": null,
   "metadata": {
    "id": "qDGs-hTCHtX5"
   },
   "outputs": [],
   "source": [
    "X_train = torch.tensor(X_train, dtype=torch.float32)\n",
    "Y_train = torch.tensor(Y_train)\n",
    "X_valid = torch.tensor(X_valid, dtype=torch.float32)\n",
    "Y_valid = torch.tensor(Y_valid)\n",
    "X_test = torch.tensor(X_test, dtype=torch.float32)\n",
    "Y_test = torch.tensor(Y_test)"
   ]
  },
  {
   "cell_type": "code",
   "execution_count": null,
   "metadata": {
    "colab": {
     "base_uri": "https://localhost:8080/"
    },
    "executionInfo": {
     "elapsed": 1,
     "status": "ok",
     "timestamp": 1730801536936,
     "user": {
      "displayName": "Thái Nguyễn Quốc",
      "userId": "04072932238722635186"
     },
     "user_tz": -420
    },
    "id": "FyckHt4zHx5W",
    "outputId": "adaca398-2305-4548-fdcd-fe80883790a6"
   },
   "outputs": [
    {
     "data": {
      "text/plain": [
       "tensor([[-1.0341,  0.9957, -1.2020, -0.7777],\n",
       "        [ 1.0207,  0.0836,  0.5428,  0.3976],\n",
       "        [ 1.7459, -0.3724,  1.4434,  0.7893],\n",
       "        [-0.4298, -1.0565,  0.3740,  0.0058],\n",
       "        [-0.7924, -0.8285,  0.0926,  0.2670],\n",
       "        [-0.1880,  3.0480, -1.2582, -1.0389],\n",
       "        [ 1.6250,  0.3116,  1.2745,  0.7893],\n",
       "        [-0.5506,  0.7677, -1.1457, -1.3000],\n",
       "        [-0.0672,  2.1358, -1.4271, -1.3000],\n",
       "        [ 0.2955, -1.0565,  1.0494,  0.2670],\n",
       "        [-0.1880, -1.2845,  0.7117,  1.0505],\n",
       "        [-1.2759, -0.1444, -1.3145, -1.4306],\n",
       "        [ 0.7789, -0.1444,  1.1619,  1.3117],\n",
       "        [-1.5176,  0.3116, -1.3145, -1.3000],\n",
       "        [ 0.8998, -0.3724,  0.4865,  0.1364],\n",
       "        [ 1.0207, -0.1444,  0.8242,  1.4422],\n",
       "        [ 0.2955, -0.1444,  0.4865,  0.2670],\n",
       "        [-0.1880,  1.6798, -1.1457, -1.1695],\n",
       "        [ 1.3833,  0.3116,  0.5428,  0.2670],\n",
       "        [-1.3967,  0.3116, -1.3708, -1.3000],\n",
       "        [ 0.7789, -0.1444,  0.8242,  1.0505],\n",
       "        [ 2.2294, -1.0565,  1.7811,  1.4422],\n",
       "        [-1.1550, -1.5126, -0.2451, -0.2554],\n",
       "        [-1.2759,  0.0836, -1.2020, -1.3000],\n",
       "        [-0.4298,  2.5919, -1.3145, -1.3000],\n",
       "        [-0.3089, -0.1444,  0.2051,  0.1364],\n",
       "        [ 0.6581,  0.3116,  0.8805,  1.4422],\n",
       "        [-0.7924,  0.9957, -1.2582, -1.3000],\n",
       "        [ 2.4711,  1.6798,  1.4996,  1.0505],\n",
       "        [-0.0672, -0.6005,  0.7680,  1.5728],\n",
       "        [-0.1880, -0.3724,  0.2614,  0.1364],\n",
       "        [-0.9132,  1.4518, -1.2582, -1.0389],\n",
       "        [-0.9132, -1.2845, -0.4140, -0.1248],\n",
       "        [-1.0341,  0.7677, -1.2582, -1.3000],\n",
       "        [ 2.2294, -0.6005,  1.6685,  1.0505],\n",
       "        [ 2.1085, -0.1444,  1.6122,  1.1811],\n",
       "        [-1.0341,  0.3116, -1.4271, -1.3000],\n",
       "        [-0.5506,  1.4518, -1.2582, -1.3000],\n",
       "        [ 1.0207,  0.5397,  1.1057,  1.7034],\n",
       "        [ 0.2955, -0.6005,  0.1488,  0.1364],\n",
       "        [ 0.5372, -1.2845,  0.7117,  0.9199],\n",
       "        [ 1.8668, -0.6005,  1.3308,  0.9199],\n",
       "        [-1.0341, -1.7406, -0.2451, -0.2554],\n",
       "        [-0.5506,  0.7677, -1.2582, -1.0389],\n",
       "        [-0.5506,  1.9078, -1.3708, -1.0389],\n",
       "        [-0.3089, -0.6005,  0.6554,  1.0505],\n",
       "        [-1.1550, -0.1444, -1.3145, -1.3000],\n",
       "        [-0.6715,  1.4518, -1.2582, -1.3000],\n",
       "        [ 0.1746, -0.8285,  0.7680,  0.5281],\n",
       "        [ 1.1416,  0.3116,  1.2182,  1.4422],\n",
       "        [ 0.4163,  0.7677,  0.9368,  1.4422],\n",
       "        [-0.1880, -0.6005,  0.2051,  0.1364],\n",
       "        [ 0.5372, -1.7406,  0.3740,  0.1364],\n",
       "        [-1.1550,  0.0836, -1.2582, -1.4306],\n",
       "        [ 1.2624,  0.0836,  0.7680,  1.4422],\n",
       "        [-1.0341,  1.2237, -1.3145, -1.3000],\n",
       "        [-1.7593, -0.1444, -1.3708, -1.3000],\n",
       "        [ 0.1746, -0.3724,  0.4303,  0.3976],\n",
       "        [ 0.2955, -0.6005,  0.5428,  0.0058],\n",
       "        [ 0.6581, -0.6005,  1.0494,  1.1811],\n",
       "        [-1.1550,  0.0836, -1.2582, -1.3000],\n",
       "        [-0.3089, -0.3724, -0.0763,  0.1364],\n",
       "        [ 0.0537, -0.1444,  0.2614,  0.3976],\n",
       "        [ 0.5372, -0.8285,  0.6554,  0.7893],\n",
       "        [ 1.1416, -0.1444,  0.9931,  1.1811],\n",
       "        [-0.4298, -1.7406,  0.1488,  0.1364],\n",
       "        [ 0.5372, -0.6005,  0.7680,  0.3976],\n",
       "        [-1.2759,  0.7677, -1.0331, -1.3000],\n",
       "        [ 0.5372,  0.5397,  0.5428,  0.5281],\n",
       "        [-0.3089, -1.2845,  0.0926, -0.1248],\n",
       "        [-0.9132,  1.6798, -1.0331, -1.0389],\n",
       "        [-0.9132,  1.6798, -1.2582, -1.1695],\n",
       "        [-1.5176,  0.7677, -1.3145, -1.1695],\n",
       "        [-0.1880, -0.6005,  0.4303,  0.1364],\n",
       "        [ 0.8998, -0.1444,  0.3740,  0.2670],\n",
       "        [-0.9132,  0.9957, -1.3145, -1.3000],\n",
       "        [ 2.2294, -0.1444,  1.3308,  1.4422],\n",
       "        [ 0.2955, -0.1444,  0.6554,  0.7893],\n",
       "        [ 0.4163, -1.9686,  0.4303,  0.3976],\n",
       "        [ 0.5372,  0.7677,  1.0494,  1.5728],\n",
       "        [-1.7593,  0.3116, -1.3708, -1.3000],\n",
       "        [ 0.7789,  0.3116,  0.7680,  1.0505],\n",
       "        [-0.4298, -1.2845,  0.1488,  0.1364],\n",
       "        [ 0.5372, -1.2845,  0.6554,  0.3976],\n",
       "        [-0.9132,  0.5397, -1.1457, -0.9083],\n",
       "        [-0.0672, -0.8285,  0.7680,  0.9199],\n",
       "        [-0.0672, -1.0565,  0.1488,  0.0058],\n",
       "        [ 0.5372, -0.3724,  1.0494,  0.7893],\n",
       "        [-0.0672, -0.8285,  0.2051, -0.2554],\n",
       "        [-1.0341, -0.1444, -1.2020, -1.3000]])"
      ]
     },
     "execution_count": 17,
     "metadata": {},
     "output_type": "execute_result"
    }
   ],
   "source": [
    "X_train"
   ]
  },
  {
   "cell_type": "code",
   "execution_count": null,
   "metadata": {
    "colab": {
     "base_uri": "https://localhost:8080/"
    },
    "executionInfo": {
     "elapsed": 460,
     "status": "ok",
     "timestamp": 1730801539705,
     "user": {
      "displayName": "Thái Nguyễn Quốc",
      "userId": "04072932238722635186"
     },
     "user_tz": -420
    },
    "id": "mnCN_AlvH80O",
    "outputId": "6ddd6abd-d420-44eb-d6cc-f37bab36e7e4"
   },
   "outputs": [
    {
     "data": {
      "text/plain": [
       "tensor([0, 1, 2, 1, 1, 0, 2, 0, 0, 2, 2, 0, 2, 0, 1, 2, 1, 0, 1, 0, 2, 2, 1, 0,\n",
       "        0, 1, 2, 0, 2, 2, 1, 0, 1, 0, 2, 2, 0, 0, 2, 1, 2, 2, 1, 0, 0, 2, 0, 0,\n",
       "        1, 2, 2, 1, 1, 0, 2, 0, 0, 1, 1, 2, 0, 1, 1, 2, 2, 1, 2, 0, 1, 1, 0, 0,\n",
       "        0, 1, 1, 0, 2, 2, 1, 2, 0, 2, 1, 1, 0, 2, 1, 2, 1, 0])"
      ]
     },
     "execution_count": 18,
     "metadata": {},
     "output_type": "execute_result"
    }
   ],
   "source": [
    "Y_train"
   ]
  },
  {
   "cell_type": "code",
   "execution_count": null,
   "metadata": {
    "id": "sCU9MDm43jmk"
   },
   "outputs": [],
   "source": [
    "model_classifier = nn.Sequential(\n",
    "    nn.Linear(4, 8),\n",
    "    nn.ReLU(),\n",
    "    nn.Linear(8, 3)\n",
    ")"
   ]
  },
  {
   "cell_type": "code",
   "execution_count": null,
   "metadata": {
    "colab": {
     "base_uri": "https://localhost:8080/"
    },
    "executionInfo": {
     "elapsed": 457,
     "status": "ok",
     "timestamp": 1730801546699,
     "user": {
      "displayName": "Thái Nguyễn Quốc",
      "userId": "04072932238722635186"
     },
     "user_tz": -420
    },
    "id": "cknQZodUQr94",
    "outputId": "622906bc-4bc5-457c-bbf9-4c24fb923ba6"
   },
   "outputs": [
    {
     "name": "stdout",
     "output_type": "stream",
     "text": [
      "----------------------------------------------------------------\n",
      "        Layer (type)               Output Shape         Param #\n",
      "================================================================\n",
      "            Linear-1                 [-1, 1, 8]              40\n",
      "              ReLU-2                 [-1, 1, 8]               0\n",
      "            Linear-3                 [-1, 1, 3]              27\n",
      "================================================================\n",
      "Total params: 67\n",
      "Trainable params: 67\n",
      "Non-trainable params: 0\n",
      "----------------------------------------------------------------\n",
      "Input size (MB): 0.00\n",
      "Forward/backward pass size (MB): 0.00\n",
      "Params size (MB): 0.00\n",
      "Estimated Total Size (MB): 0.00\n",
      "----------------------------------------------------------------\n"
     ]
    }
   ],
   "source": [
    "summary(model_classifier, (1, 4))"
   ]
  },
  {
   "cell_type": "code",
   "execution_count": null,
   "metadata": {
    "colab": {
     "base_uri": "https://localhost:8080/"
    },
    "executionInfo": {
     "elapsed": 494,
     "status": "ok",
     "timestamp": 1730801543988,
     "user": {
      "displayName": "Thái Nguyễn Quốc",
      "userId": "04072932238722635186"
     },
     "user_tz": -420
    },
    "id": "GdEARU3Q3wVI",
    "outputId": "ac9f68f4-07fa-40ad-b108-dfc682ffdd62"
   },
   "outputs": [
    {
     "data": {
      "text/plain": [
       "Sequential(\n",
       "  (0): Linear(in_features=4, out_features=8, bias=True)\n",
       "  (1): ReLU()\n",
       "  (2): Linear(in_features=8, out_features=3, bias=True)\n",
       ")"
      ]
     },
     "execution_count": 20,
     "metadata": {},
     "output_type": "execute_result"
    }
   ],
   "source": [
    "model_classifier"
   ]
  },
  {
   "cell_type": "code",
   "execution_count": null,
   "metadata": {
    "colab": {
     "base_uri": "https://localhost:8080/"
    },
    "executionInfo": {
     "elapsed": 2,
     "status": "ok",
     "timestamp": 1730801549303,
     "user": {
      "displayName": "Thái Nguyễn Quốc",
      "userId": "04072932238722635186"
     },
     "user_tz": -420
    },
    "id": "InBlr-Rr4Jua",
    "outputId": "521c3c37-3e91-4b87-c13e-03a0523b920f"
   },
   "outputs": [
    {
     "data": {
      "text/plain": [
       "tensor([-1.0341,  0.9957, -1.2020, -0.7777])"
      ]
     },
     "execution_count": 22,
     "metadata": {},
     "output_type": "execute_result"
    }
   ],
   "source": [
    "X_train[0]"
   ]
  },
  {
   "cell_type": "code",
   "execution_count": null,
   "metadata": {
    "colab": {
     "base_uri": "https://localhost:8080/"
    },
    "executionInfo": {
     "elapsed": 2,
     "status": "ok",
     "timestamp": 1730801550439,
     "user": {
      "displayName": "Thái Nguyễn Quốc",
      "userId": "04072932238722635186"
     },
     "user_tz": -420
    },
    "id": "hqcgm8gZ4C17",
    "outputId": "e6967afa-83b4-40d2-dff4-94e888b5f8f5"
   },
   "outputs": [
    {
     "data": {
      "text/plain": [
       "tensor([ 0.1499,  0.0141, -0.4355], grad_fn=<ViewBackward0>)"
      ]
     },
     "execution_count": 23,
     "metadata": {},
     "output_type": "execute_result"
    }
   ],
   "source": [
    "y_pred = model_classifier(X_train[0])\n",
    "y_pred"
   ]
  },
  {
   "cell_type": "code",
   "execution_count": null,
   "metadata": {
    "id": "yJmpOr4y52a_"
   },
   "outputs": [],
   "source": [
    "loss_fn = nn.CrossEntropyLoss()"
   ]
  },
  {
   "cell_type": "code",
   "execution_count": null,
   "metadata": {
    "colab": {
     "base_uri": "https://localhost:8080/"
    },
    "executionInfo": {
     "elapsed": 467,
     "status": "ok",
     "timestamp": 1730801554890,
     "user": {
      "displayName": "Thái Nguyễn Quốc",
      "userId": "04072932238722635186"
     },
     "user_tz": -420
    },
    "id": "D8Y5mcVK6CCq",
    "outputId": "83602fb8-315a-4bf0-de5a-f516988cb65e"
   },
   "outputs": [
    {
     "data": {
      "text/plain": [
       "tensor(0.8878, grad_fn=<NllLossBackward0>)"
      ]
     },
     "execution_count": 25,
     "metadata": {},
     "output_type": "execute_result"
    }
   ],
   "source": [
    "loss = loss_fn(y_pred, Y_train[0])\n",
    "loss"
   ]
  },
  {
   "cell_type": "code",
   "execution_count": null,
   "metadata": {
    "colab": {
     "base_uri": "https://localhost:8080/"
    },
    "executionInfo": {
     "elapsed": 828,
     "status": "ok",
     "timestamp": 1730801557732,
     "user": {
      "displayName": "Thái Nguyễn Quốc",
      "userId": "04072932238722635186"
     },
     "user_tz": -420
    },
    "id": "zObTCe0v8_GI",
    "outputId": "869ad8bd-9f72-47fd-898a-ecc8726a8bab"
   },
   "outputs": [
    {
     "data": {
      "text/plain": [
       "0.8878384828567505"
      ]
     },
     "execution_count": 26,
     "metadata": {},
     "output_type": "execute_result"
    }
   ],
   "source": [
    "loss.item()"
   ]
  },
  {
   "cell_type": "code",
   "execution_count": null,
   "metadata": {
    "id": "uTecytfN55nG"
   },
   "outputs": [],
   "source": [
    "learning_rate = 0.01\n",
    "\n",
    "optimizer = optim.SGD(\n",
    "    model_classifier.parameters(),\n",
    "    learning_rate\n",
    ")"
   ]
  },
  {
   "cell_type": "code",
   "execution_count": null,
   "metadata": {
    "id": "cYfcu-SKJZia"
   },
   "outputs": [],
   "source": [
    "def evaluate(model_classifier, X_valid, Y_valid):\n",
    "    with torch.no_grad():\n",
    "        Y_pred = model_classifier(X_valid)\n",
    "\n",
    "    Y_pred = torch.argmax(Y_pred, dim=1)\n",
    "    return sum(Y_pred == Y_valid)/len(Y_valid)"
   ]
  },
  {
   "cell_type": "code",
   "execution_count": null,
   "metadata": {
    "colab": {
     "base_uri": "https://localhost:8080/"
    },
    "executionInfo": {
     "elapsed": 446,
     "status": "ok",
     "timestamp": 1730801569507,
     "user": {
      "displayName": "Thái Nguyễn Quốc",
      "userId": "04072932238722635186"
     },
     "user_tz": -420
    },
    "id": "lq0GAUxTJuaP",
    "outputId": "9e477fed-e922-421e-d437-cbbce71e153a"
   },
   "outputs": [
    {
     "data": {
      "text/plain": [
       "tensor(0.5000)"
      ]
     },
     "execution_count": 29,
     "metadata": {},
     "output_type": "execute_result"
    }
   ],
   "source": [
    "evaluate(model_classifier, X_valid, Y_valid)"
   ]
  },
  {
   "cell_type": "code",
   "execution_count": null,
   "metadata": {
    "colab": {
     "base_uri": "https://localhost:8080/"
    },
    "executionInfo": {
     "elapsed": 1868,
     "status": "ok",
     "timestamp": 1730801578994,
     "user": {
      "displayName": "Thái Nguyễn Quốc",
      "userId": "04072932238722635186"
     },
     "user_tz": -420
    },
    "id": "U7011Dm-5vnw",
    "outputId": "e38c1da4-d027-42c0-8127-79325d21d1d6"
   },
   "outputs": [
    {
     "name": "stdout",
     "output_type": "stream",
     "text": [
      "1.0095625638961792 -- 0.6000000238418579\n",
      "0.818809684448772 -- 0.6666666865348816\n",
      "0.641085204978784 -- 0.699999988079071\n",
      "0.5172737292945385 -- 0.7333333492279053\n",
      "0.4383059697018729 -- 0.7666666507720947\n",
      "0.38455223745356004 -- 0.7666666507720947\n",
      "0.3457096125827067 -- 0.7333333492279053\n",
      "0.31627391715430553 -- 0.7333333492279053\n",
      "0.29315664073348874 -- 0.7333333492279053\n",
      "0.27442682819803144 -- 0.7333333492279053\n",
      "0.25867093672148056 -- 0.7333333492279053\n",
      "0.24499973835320107 -- 0.7333333492279053\n",
      "0.23278310322332094 -- 0.7666666507720947\n",
      "0.2216730286522458 -- 0.7666666507720947\n",
      "0.21139325921475474 -- 0.7666666507720947\n",
      "0.20179211201353206 -- 0.800000011920929\n",
      "0.19276142589838452 -- 0.800000011920929\n",
      "0.18424310129420418 -- 0.800000011920929\n",
      "0.17618259065331787 -- 0.8333333134651184\n",
      "0.16855647248287117 -- 0.8333333134651184\n"
     ]
    }
   ],
   "source": [
    "num_epochs = 20\n",
    "losses = []\n",
    "for epoch in range(num_epochs):\n",
    "    epoch_loss = []\n",
    "    for x_train, y_train in zip(X_train, Y_train):\n",
    "        y_pred = model_classifier(x_train)\n",
    "        loss = loss_fn(y_pred, y_train)\n",
    "        epoch_loss.append(loss.item())\n",
    "\n",
    "        optimizer.zero_grad()\n",
    "        loss.backward()\n",
    "        optimizer.step()\n",
    "    avg_loss = sum(epoch_loss)/len(epoch_loss)\n",
    "    losses.append(avg_loss)\n",
    "    acc = evaluate(model_classifier, X_valid, Y_valid)\n",
    "    print(f\"{avg_loss} -- {acc}\")"
   ]
  },
  {
   "cell_type": "code",
   "execution_count": null,
   "metadata": {
    "colab": {
     "base_uri": "https://localhost:8080/"
    },
    "executionInfo": {
     "elapsed": 560,
     "status": "ok",
     "timestamp": 1730801589561,
     "user": {
      "displayName": "Thái Nguyễn Quốc",
      "userId": "04072932238722635186"
     },
     "user_tz": -420
    },
    "id": "qfrKOE8V52MG",
    "outputId": "18280dca-e647-4e7c-ce42-e6572a03c735"
   },
   "outputs": [
    {
     "data": {
      "text/plain": [
       "[1.0095625638961792,\n",
       " 0.818809684448772,\n",
       " 0.641085204978784,\n",
       " 0.5172737292945385,\n",
       " 0.4383059697018729,\n",
       " 0.38455223745356004,\n",
       " 0.3457096125827067,\n",
       " 0.31627391715430553,\n",
       " 0.29315664073348874,\n",
       " 0.27442682819803144,\n",
       " 0.25867093672148056,\n",
       " 0.24499973835320107,\n",
       " 0.23278310322332094,\n",
       " 0.2216730286522458,\n",
       " 0.21139325921475474,\n",
       " 0.20179211201353206,\n",
       " 0.19276142589838452,\n",
       " 0.18424310129420418,\n",
       " 0.17618259065331787,\n",
       " 0.16855647248287117]"
      ]
     },
     "execution_count": 31,
     "metadata": {},
     "output_type": "execute_result"
    }
   ],
   "source": [
    "losses"
   ]
  },
  {
   "cell_type": "code",
   "execution_count": null,
   "metadata": {
    "id": "np5-sppT9ojM"
   },
   "outputs": [],
   "source": [
    "with torch.no_grad():\n",
    "    Y_pred = model_classifier(X_test)"
   ]
  },
  {
   "cell_type": "code",
   "execution_count": null,
   "metadata": {
    "id": "en_D2sAR9tWk"
   },
   "outputs": [],
   "source": [
    "Y_pred = torch.argmax(Y_pred, dim=1)"
   ]
  },
  {
   "cell_type": "code",
   "execution_count": null,
   "metadata": {
    "colab": {
     "base_uri": "https://localhost:8080/"
    },
    "executionInfo": {
     "elapsed": 465,
     "status": "ok",
     "timestamp": 1730801608564,
     "user": {
      "displayName": "Thái Nguyễn Quốc",
      "userId": "04072932238722635186"
     },
     "user_tz": -420
    },
    "id": "AciUI7rv920-",
    "outputId": "67eb9f01-3bd9-4cbd-8202-ceb263972461"
   },
   "outputs": [
    {
     "data": {
      "text/plain": [
       "tensor(0.9000)"
      ]
     },
     "execution_count": 35,
     "metadata": {},
     "output_type": "execute_result"
    }
   ],
   "source": [
    "sum(Y_pred == Y_test)/len(Y_test)"
   ]
  },
  {
   "cell_type": "code",
   "execution_count": null,
   "metadata": {
    "colab": {
     "base_uri": "https://localhost:8080/"
    },
    "executionInfo": {
     "elapsed": 465,
     "status": "ok",
     "timestamp": 1730801605546,
     "user": {
      "displayName": "Thái Nguyễn Quốc",
      "userId": "04072932238722635186"
     },
     "user_tz": -420
    },
    "id": "QwjpA6eB91vu",
    "outputId": "26145837-7aaa-4506-d61a-75ed64e39bcb"
   },
   "outputs": [
    {
     "data": {
      "text/plain": [
       "tensor([1, 1, 0, 2, 2, 1, 1, 2, 2, 2, 0, 0, 0, 2, 1, 0, 0, 1, 2, 0, 2, 1, 1, 0,\n",
       "        2, 0, 2, 0, 0, 2])"
      ]
     },
     "execution_count": 34,
     "metadata": {},
     "output_type": "execute_result"
    }
   ],
   "source": [
    "Y_pred"
   ]
  }
 ],
 "metadata": {
  "colab": {
   "authorship_tag": "ABX9TyO+2fjrBcWDo2I8er8icJoa",
   "provenance": []
  },
  "kernelspec": {
   "display_name": "Python 3 (ipykernel)",
   "language": "python",
   "name": "python3"
  },
  "language_info": {
   "codemirror_mode": {
    "name": "ipython",
    "version": 3
   },
   "file_extension": ".py",
   "mimetype": "text/x-python",
   "name": "python",
   "nbconvert_exporter": "python",
   "pygments_lexer": "ipython3",
   "version": "3.10.16"
  }
 },
 "nbformat": 4,
 "nbformat_minor": 4
}
