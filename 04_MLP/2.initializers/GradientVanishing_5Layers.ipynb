{
 "cells": [
  {
   "cell_type": "code",
   "execution_count": 53,
   "metadata": {},
   "outputs": [],
   "source": [
    "import numpy as np\n",
    "import torch\n",
    "import torch.nn as nn\n",
    "import torch.optim as optim\n",
    "import torch.nn.init as init\n",
    "\n",
    "# Load data\n",
    "X = torch.tensor([[2.4]], dtype=torch.float32)\n",
    "y = torch.tensor([0], dtype=torch.int64)"
   ]
  },
  {
   "cell_type": "code",
   "execution_count": 54,
   "metadata": {},
   "outputs": [
    {
     "name": "stdout",
     "output_type": "stream",
     "text": [
      "tensor([[2.4000]])\n",
      "tensor([0])\n"
     ]
    }
   ],
   "source": [
    "print(X)\n",
    "print(y)"
   ]
  },
  {
   "cell_type": "code",
   "execution_count": null,
   "metadata": {},
   "outputs": [],
   "source": []
  },
  {
   "cell_type": "code",
   "execution_count": 55,
   "metadata": {},
   "outputs": [],
   "source": [
    "# Define the model\n",
    "class SoftmaxRegression(nn.Module):\n",
    "    def __init__(self):\n",
    "        super(SoftmaxRegression, self).__init__()\n",
    "        self.linear1 = nn.Linear(1, 1)\n",
    "        self.linear2 = nn.Linear(1, 1)\n",
    "        self.linear3 = nn.Linear(1, 1)\n",
    "        self.linear4 = nn.Linear(1, 1)\n",
    "        self.linear5 = nn.Linear(1, 2)\n",
    "        self.sigmoid = nn.Sigmoid()\n",
    "\n",
    "        # Initialize weights\n",
    "        init.normal_(self.linear1.weight, mean=0, std=1)\n",
    "        init.normal_(self.linear2.weight, mean=0, std=1)\n",
    "        init.normal_(self.linear3.weight, mean=0, std=1)\n",
    "        init.normal_(self.linear4.weight, mean=0, std=1)\n",
    "        init.normal_(self.linear5.weight, mean=0, std=1)\n",
    "\n",
    "        # If you also want to initialize the biases to zero (this is optional)\n",
    "        init.zeros_(self.linear1.bias)\n",
    "        init.zeros_(self.linear2.bias)\n",
    "        init.zeros_(self.linear3.bias)\n",
    "        init.zeros_(self.linear4.bias)\n",
    "        init.zeros_(self.linear5.bias)\n",
    "        \n",
    "        # set value (for illustration)\n",
    "        #self.linear.weight.data = torch.Tensor([[0.2], [-0.1]])\n",
    "        #self.linear.bias.data = torch.Tensor([0.1, 0.05])\n",
    "        \n",
    "    def forward(self, x):\n",
    "        x = self.linear1(x)\n",
    "        x = self.sigmoid(x)\n",
    "        x = self.linear2(x)\n",
    "        x = self.sigmoid(x)\n",
    "        x = self.linear3(x)\n",
    "        x = self.sigmoid(x)\n",
    "        x = self.linear4(x)\n",
    "        x = self.sigmoid(x)\n",
    "        x = self.linear5(x)\n",
    "        return x\n",
    "\n",
    "model = SoftmaxRegression()"
   ]
  },
  {
   "cell_type": "code",
   "execution_count": 56,
   "metadata": {},
   "outputs": [
    {
     "name": "stdout",
     "output_type": "stream",
     "text": [
      "Parameter containing:\n",
      "tensor([[0.9197]], requires_grad=True)\n",
      "Parameter containing:\n",
      "tensor([0.], requires_grad=True)\n"
     ]
    }
   ],
   "source": [
    "print(model.linear1.weight)\n",
    "print(model.linear1.bias)"
   ]
  },
  {
   "cell_type": "code",
   "execution_count": 57,
   "metadata": {},
   "outputs": [
    {
     "name": "stdout",
     "output_type": "stream",
     "text": [
      "Parameter containing:\n",
      "tensor([[-0.8128]], requires_grad=True)\n",
      "Parameter containing:\n",
      "tensor([0.], requires_grad=True)\n"
     ]
    }
   ],
   "source": [
    "print(model.linear2.weight)\n",
    "print(model.linear2.bias)"
   ]
  },
  {
   "cell_type": "code",
   "execution_count": 58,
   "metadata": {},
   "outputs": [
    {
     "name": "stdout",
     "output_type": "stream",
     "text": [
      "Parameter containing:\n",
      "tensor([[1.4712]], requires_grad=True)\n",
      "Parameter containing:\n",
      "tensor([0.], requires_grad=True)\n"
     ]
    }
   ],
   "source": [
    "print(model.linear3.weight)\n",
    "print(model.linear3.bias)"
   ]
  },
  {
   "cell_type": "code",
   "execution_count": 59,
   "metadata": {},
   "outputs": [
    {
     "name": "stdout",
     "output_type": "stream",
     "text": [
      "Parameter containing:\n",
      "tensor([[-0.7767]], requires_grad=True)\n",
      "Parameter containing:\n",
      "tensor([0.], requires_grad=True)\n"
     ]
    }
   ],
   "source": [
    "print(model.linear4.weight)\n",
    "print(model.linear4.bias)"
   ]
  },
  {
   "cell_type": "code",
   "execution_count": 60,
   "metadata": {},
   "outputs": [
    {
     "name": "stdout",
     "output_type": "stream",
     "text": [
      "Parameter containing:\n",
      "tensor([[-0.3096],\n",
      "        [ 1.1333]], requires_grad=True)\n",
      "Parameter containing:\n",
      "tensor([0., 0.], requires_grad=True)\n"
     ]
    }
   ],
   "source": [
    "print(model.linear5.weight)\n",
    "print(model.linear5.bias)"
   ]
  },
  {
   "cell_type": "code",
   "execution_count": null,
   "metadata": {},
   "outputs": [],
   "source": []
  },
  {
   "cell_type": "code",
   "execution_count": null,
   "metadata": {},
   "outputs": [],
   "source": []
  },
  {
   "cell_type": "code",
   "execution_count": 61,
   "metadata": {},
   "outputs": [
    {
     "name": "stdout",
     "output_type": "stream",
     "text": [
      "xi: tensor([[2.4000]])\n",
      "yi: tensor([0])\n",
      "outputs: tensor([[-0.1184,  0.4334]])\n",
      "loss: 1.0066215991973877\n"
     ]
    }
   ],
   "source": [
    "# Loss and optimizer\n",
    "criterion = nn.CrossEntropyLoss()\n",
    "optimizer = optim.SGD(model.parameters(), lr=0.01)\n",
    "\n",
    "# Training loop\n",
    "max_epoch = 1\n",
    "for epoch in range(max_epoch):\n",
    "    xi = X[0].unsqueeze(0)\n",
    "    yi = y[0].unsqueeze(0)\n",
    "\n",
    "    print(f'xi: {xi}')\n",
    "    print(f'yi: {yi}')\n",
    "    \n",
    "    # Zero the gradients\n",
    "    optimizer.zero_grad()\n",
    "    \n",
    "    # Forward pass\n",
    "    outputs = model(xi)\n",
    "    print(f'outputs: {outputs.data}')\n",
    "    \n",
    "    loss = criterion(outputs, yi)\n",
    "    print(f'loss: {loss}')\n",
    "    \n",
    "    # Backward pass and optimization\n",
    "    loss.backward()\n",
    "    optimizer.step()\n",
    "    break"
   ]
  },
  {
   "cell_type": "code",
   "execution_count": null,
   "metadata": {},
   "outputs": [],
   "source": []
  },
  {
   "cell_type": "code",
   "execution_count": 62,
   "metadata": {},
   "outputs": [
    {
     "name": "stdout",
     "output_type": "stream",
     "text": [
      "tensor([[0.0022]])\n",
      "tensor([0.0009])\n"
     ]
    }
   ],
   "source": [
    "print(model.linear1.weight.grad)\n",
    "print(model.linear1.bias.grad)"
   ]
  },
  {
   "cell_type": "code",
   "execution_count": 63,
   "metadata": {},
   "outputs": [
    {
     "name": "stdout",
     "output_type": "stream",
     "text": [
      "tensor([[-0.0115]])\n",
      "tensor([-0.0128])\n"
     ]
    }
   ],
   "source": [
    "print(model.linear2.weight.grad)\n",
    "print(model.linear2.bias.grad)"
   ]
  },
  {
   "cell_type": "code",
   "execution_count": 64,
   "metadata": {},
   "outputs": [
    {
     "name": "stdout",
     "output_type": "stream",
     "text": [
      "tensor([[-0.0129]])\n",
      "tensor([-0.0397])\n"
     ]
    }
   ],
   "source": [
    "print(model.linear3.weight.grad)\n",
    "print(model.linear3.bias.grad)"
   ]
  },
  {
   "cell_type": "code",
   "execution_count": 65,
   "metadata": {},
   "outputs": [
    {
     "name": "stdout",
     "output_type": "stream",
     "text": [
      "tensor([[0.1335]])\n",
      "tensor([0.2162])\n"
     ]
    }
   ],
   "source": [
    "print(model.linear4.weight.grad)\n",
    "print(model.linear4.bias.grad)"
   ]
  },
  {
   "cell_type": "code",
   "execution_count": 66,
   "metadata": {},
   "outputs": [
    {
     "name": "stdout",
     "output_type": "stream",
     "text": [
      "tensor([[-0.2427],\n",
      "        [ 0.2427]])\n",
      "tensor([-0.6345,  0.6345])\n"
     ]
    }
   ],
   "source": [
    "print(model.linear5.weight.grad)\n",
    "print(model.linear5.bias.grad)"
   ]
  },
  {
   "cell_type": "code",
   "execution_count": null,
   "metadata": {},
   "outputs": [],
   "source": []
  },
  {
   "cell_type": "code",
   "execution_count": 67,
   "metadata": {},
   "outputs": [
    {
     "name": "stdout",
     "output_type": "stream",
     "text": [
      "Parameter containing:\n",
      "tensor([[0.9197]], requires_grad=True)\n",
      "Parameter containing:\n",
      "tensor([-9.2881e-06], requires_grad=True)\n"
     ]
    }
   ],
   "source": [
    "print(model.linear1.weight)\n",
    "print(model.linear1.bias)"
   ]
  },
  {
   "cell_type": "code",
   "execution_count": 68,
   "metadata": {},
   "outputs": [
    {
     "name": "stdout",
     "output_type": "stream",
     "text": [
      "Parameter containing:\n",
      "tensor([[-0.8127]], requires_grad=True)\n",
      "Parameter containing:\n",
      "tensor([0.0001], requires_grad=True)\n"
     ]
    }
   ],
   "source": [
    "print(model.linear2.weight)\n",
    "print(model.linear2.bias)"
   ]
  },
  {
   "cell_type": "code",
   "execution_count": 69,
   "metadata": {},
   "outputs": [
    {
     "name": "stdout",
     "output_type": "stream",
     "text": [
      "Parameter containing:\n",
      "tensor([[1.4713]], requires_grad=True)\n",
      "Parameter containing:\n",
      "tensor([0.0004], requires_grad=True)\n"
     ]
    }
   ],
   "source": [
    "print(model.linear3.weight)\n",
    "print(model.linear3.bias)"
   ]
  },
  {
   "cell_type": "code",
   "execution_count": 70,
   "metadata": {},
   "outputs": [
    {
     "name": "stdout",
     "output_type": "stream",
     "text": [
      "Parameter containing:\n",
      "tensor([[-0.7780]], requires_grad=True)\n",
      "Parameter containing:\n",
      "tensor([-0.0022], requires_grad=True)\n"
     ]
    }
   ],
   "source": [
    "print(model.linear4.weight)\n",
    "print(model.linear4.bias)"
   ]
  },
  {
   "cell_type": "code",
   "execution_count": 71,
   "metadata": {},
   "outputs": [
    {
     "name": "stdout",
     "output_type": "stream",
     "text": [
      "Parameter containing:\n",
      "tensor([[-0.3072],\n",
      "        [ 1.1309]], requires_grad=True)\n",
      "Parameter containing:\n",
      "tensor([ 0.0063, -0.0063], requires_grad=True)\n"
     ]
    }
   ],
   "source": [
    "print(model.linear5.weight)\n",
    "print(model.linear5.bias)"
   ]
  },
  {
   "cell_type": "code",
   "execution_count": null,
   "metadata": {},
   "outputs": [],
   "source": []
  },
  {
   "cell_type": "code",
   "execution_count": null,
   "metadata": {},
   "outputs": [],
   "source": []
  }
 ],
 "metadata": {
  "kernelspec": {
   "display_name": "Python 3 (ipykernel)",
   "language": "python",
   "name": "python3"
  },
  "language_info": {
   "codemirror_mode": {
    "name": "ipython",
    "version": 3
   },
   "file_extension": ".py",
   "mimetype": "text/x-python",
   "name": "python",
   "nbconvert_exporter": "python",
   "pygments_lexer": "ipython3",
   "version": "3.9.18"
  }
 },
 "nbformat": 4,
 "nbformat_minor": 4
}
