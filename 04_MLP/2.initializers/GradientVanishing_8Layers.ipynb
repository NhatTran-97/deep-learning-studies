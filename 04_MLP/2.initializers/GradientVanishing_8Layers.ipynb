{
 "cells": [
  {
   "cell_type": "code",
   "execution_count": 2,
   "metadata": {},
   "outputs": [],
   "source": [
    "import numpy as np\n",
    "import torch\n",
    "import torch.nn as nn\n",
    "import torch.optim as optim\n",
    "import torch.nn.init as init\n",
    "\n",
    "# Load data\n",
    "X = torch.tensor([[2.4]], dtype=torch.float32)\n",
    "y = torch.tensor([0], dtype=torch.int64)"
   ]
  },
  {
   "cell_type": "code",
   "execution_count": 3,
   "metadata": {},
   "outputs": [
    {
     "name": "stdout",
     "output_type": "stream",
     "text": [
      "tensor([[2.4000]])\n",
      "tensor([0])\n"
     ]
    }
   ],
   "source": [
    "print(X)\n",
    "print(y)"
   ]
  },
  {
   "cell_type": "code",
   "execution_count": null,
   "metadata": {},
   "outputs": [],
   "source": [
    " "
   ]
  },
  {
   "cell_type": "code",
   "execution_count": 4,
   "metadata": {},
   "outputs": [],
   "source": [
    "# Define the model\n",
    "class SoftmaxRegression(nn.Module):\n",
    "    def __init__(self):\n",
    "        super(SoftmaxRegression, self).__init__()\n",
    "        self.linear1 = nn.Linear(1, 1)\n",
    "        self.linear2 = nn.Linear(1, 1)\n",
    "        self.linear3 = nn.Linear(1, 1)\n",
    "        self.linear4 = nn.Linear(1, 1)\n",
    "        self.linear5 = nn.Linear(1, 1)\n",
    "        self.linear6 = nn.Linear(1, 1)\n",
    "        self.linear7 = nn.Linear(1, 1)\n",
    "        self.linear8 = nn.Linear(1, 2)\n",
    "        self.sigmoid = nn.Sigmoid()\n",
    "\n",
    "        # Initialize weights\n",
    "        init.normal_(self.linear1.weight, mean=0, std=1)\n",
    "        init.normal_(self.linear2.weight, mean=0, std=1)\n",
    "        init.normal_(self.linear3.weight, mean=0, std=1)\n",
    "        init.normal_(self.linear4.weight, mean=0, std=1)\n",
    "        init.normal_(self.linear5.weight, mean=0, std=1)\n",
    "        init.normal_(self.linear6.weight, mean=0, std=1)\n",
    "        init.normal_(self.linear7.weight, mean=0, std=1)\n",
    "        init.normal_(self.linear8.weight, mean=0, std=1)\n",
    "\n",
    "        # If you also want to initialize the biases to zero (this is optional)\n",
    "        init.zeros_(self.linear1.bias)\n",
    "        init.zeros_(self.linear2.bias)\n",
    "        init.zeros_(self.linear3.bias)\n",
    "        init.zeros_(self.linear4.bias)\n",
    "        init.zeros_(self.linear5.bias)\n",
    "        init.zeros_(self.linear6.bias)\n",
    "        init.zeros_(self.linear7.bias)\n",
    "        init.zeros_(self.linear8.bias)\n",
    "        \n",
    "        # set value (for illustration)\n",
    "        #self.linear.weight.data = torch.Tensor([[0.2], [-0.1]])\n",
    "        #self.linear.bias.data = torch.Tensor([0.1, 0.05])\n",
    "        \n",
    "    def forward(self, x):\n",
    "        x = self.linear1(x)\n",
    "        x = self.sigmoid(x)\n",
    "        x = self.linear2(x)\n",
    "        x = self.sigmoid(x)\n",
    "        x = self.linear3(x)\n",
    "        x = self.sigmoid(x)\n",
    "        x = self.linear4(x)\n",
    "        x = self.sigmoid(x)\n",
    "        x = self.linear5(x)\n",
    "        x = self.sigmoid(x)\n",
    "        x = self.linear6(x)\n",
    "        x = self.sigmoid(x)\n",
    "        x = self.linear7(x)\n",
    "        x = self.sigmoid(x)\n",
    "        x = self.linear8(x)\n",
    "        return x\n",
    "\n",
    "model = SoftmaxRegression()"
   ]
  },
  {
   "cell_type": "code",
   "execution_count": 5,
   "metadata": {},
   "outputs": [
    {
     "name": "stdout",
     "output_type": "stream",
     "text": [
      "Parameter containing:\n",
      "tensor([[-0.3589]], requires_grad=True)\n",
      "Parameter containing:\n",
      "tensor([0.], requires_grad=True)\n"
     ]
    }
   ],
   "source": [
    "print(model.linear1.weight)\n",
    "print(model.linear1.bias)"
   ]
  },
  {
   "cell_type": "code",
   "execution_count": 6,
   "metadata": {},
   "outputs": [
    {
     "name": "stdout",
     "output_type": "stream",
     "text": [
      "Parameter containing:\n",
      "tensor([[-1.6835]], requires_grad=True)\n",
      "Parameter containing:\n",
      "tensor([0.], requires_grad=True)\n"
     ]
    }
   ],
   "source": [
    "print(model.linear2.weight)\n",
    "print(model.linear2.bias)"
   ]
  },
  {
   "cell_type": "code",
   "execution_count": 7,
   "metadata": {},
   "outputs": [
    {
     "name": "stdout",
     "output_type": "stream",
     "text": [
      "Parameter containing:\n",
      "tensor([[-0.1407]], requires_grad=True)\n",
      "Parameter containing:\n",
      "tensor([0.], requires_grad=True)\n"
     ]
    }
   ],
   "source": [
    "print(model.linear3.weight)\n",
    "print(model.linear3.bias)"
   ]
  },
  {
   "cell_type": "code",
   "execution_count": 8,
   "metadata": {},
   "outputs": [
    {
     "name": "stdout",
     "output_type": "stream",
     "text": [
      "Parameter containing:\n",
      "tensor([[1.0128]], requires_grad=True)\n",
      "Parameter containing:\n",
      "tensor([0.], requires_grad=True)\n"
     ]
    }
   ],
   "source": [
    "print(model.linear4.weight)\n",
    "print(model.linear4.bias)"
   ]
  },
  {
   "cell_type": "code",
   "execution_count": 9,
   "metadata": {},
   "outputs": [
    {
     "name": "stdout",
     "output_type": "stream",
     "text": [
      "Parameter containing:\n",
      "tensor([[-1.1481]], requires_grad=True)\n",
      "Parameter containing:\n",
      "tensor([0.], requires_grad=True)\n"
     ]
    }
   ],
   "source": [
    "print(model.linear5.weight)\n",
    "print(model.linear5.bias)"
   ]
  },
  {
   "cell_type": "code",
   "execution_count": 10,
   "metadata": {},
   "outputs": [
    {
     "name": "stdout",
     "output_type": "stream",
     "text": [
      "Parameter containing:\n",
      "tensor([[0.1349]], requires_grad=True)\n",
      "Parameter containing:\n",
      "tensor([0.], requires_grad=True)\n"
     ]
    }
   ],
   "source": [
    "print(model.linear6.weight)\n",
    "print(model.linear6.bias)"
   ]
  },
  {
   "cell_type": "code",
   "execution_count": 11,
   "metadata": {},
   "outputs": [
    {
     "name": "stdout",
     "output_type": "stream",
     "text": [
      "Parameter containing:\n",
      "tensor([[-0.8774]], requires_grad=True)\n",
      "Parameter containing:\n",
      "tensor([0.], requires_grad=True)\n"
     ]
    }
   ],
   "source": [
    "print(model.linear7.weight)\n",
    "print(model.linear7.bias)"
   ]
  },
  {
   "cell_type": "code",
   "execution_count": 12,
   "metadata": {},
   "outputs": [
    {
     "name": "stdout",
     "output_type": "stream",
     "text": [
      "Parameter containing:\n",
      "tensor([[-0.4452],\n",
      "        [ 0.0295]], requires_grad=True)\n",
      "Parameter containing:\n",
      "tensor([0., 0.], requires_grad=True)\n"
     ]
    }
   ],
   "source": [
    "print(model.linear8.weight)\n",
    "print(model.linear8.bias)"
   ]
  },
  {
   "cell_type": "code",
   "execution_count": null,
   "metadata": {},
   "outputs": [],
   "source": []
  },
  {
   "cell_type": "code",
   "execution_count": null,
   "metadata": {},
   "outputs": [],
   "source": []
  },
  {
   "cell_type": "code",
   "execution_count": 13,
   "metadata": {},
   "outputs": [
    {
     "name": "stdout",
     "output_type": "stream",
     "text": [
      "xi: tensor([[2.4000]])\n",
      "yi: tensor([0])\n",
      "outputs: tensor([[-0.1735,  0.0115]])\n",
      "loss: 0.7899288535118103\n"
     ]
    }
   ],
   "source": [
    "# Loss and optimizer\n",
    "criterion = nn.CrossEntropyLoss()\n",
    "optimizer = optim.SGD(model.parameters(), lr=0.01)\n",
    "\n",
    "# Training loop\n",
    "max_epoch = 1\n",
    "for epoch in range(max_epoch):\n",
    "    xi = X[0].unsqueeze(0)\n",
    "    yi = y[0].unsqueeze(0)\n",
    "\n",
    "    print(f'xi: {xi}')\n",
    "    print(f'yi: {yi}')\n",
    "    \n",
    "    # Zero the gradients\n",
    "    optimizer.zero_grad()\n",
    "    \n",
    "    # Forward pass\n",
    "    outputs = model(xi)\n",
    "    print(f'outputs: {outputs.data}')\n",
    "    \n",
    "    loss = criterion(outputs, yi)\n",
    "    print(f'loss: {loss}')\n",
    "    \n",
    "    # Backward pass and optimization\n",
    "    loss.backward()\n",
    "    optimizer.step()\n",
    "    break"
   ]
  },
  {
   "cell_type": "code",
   "execution_count": null,
   "metadata": {},
   "outputs": [],
   "source": []
  },
  {
   "cell_type": "code",
   "execution_count": 14,
   "metadata": {},
   "outputs": [
    {
     "name": "stdout",
     "output_type": "stream",
     "text": [
      "tensor([[7.6823e-07]])\n",
      "tensor([3.2010e-07])\n"
     ]
    }
   ],
   "source": [
    "print(model.linear1.weight.grad)\n",
    "print(model.linear1.bias.grad)"
   ]
  },
  {
   "cell_type": "code",
   "execution_count": null,
   "metadata": {},
   "outputs": [],
   "source": [
    "print(model.linear2.weight.grad)\n",
    "print(model.linear2.bias.grad)"
   ]
  },
  {
   "cell_type": "code",
   "execution_count": null,
   "metadata": {},
   "outputs": [],
   "source": [
    "print(model.linear3.weight.grad)\n",
    "print(model.linear3.bias.grad)"
   ]
  },
  {
   "cell_type": "code",
   "execution_count": null,
   "metadata": {},
   "outputs": [],
   "source": [
    "print(model.linear4.weight.grad)\n",
    "print(model.linear4.bias.grad)"
   ]
  },
  {
   "cell_type": "code",
   "execution_count": null,
   "metadata": {},
   "outputs": [],
   "source": [
    "print(model.linear5.weight.grad)\n",
    "print(model.linear5.bias.grad)"
   ]
  },
  {
   "cell_type": "code",
   "execution_count": null,
   "metadata": {},
   "outputs": [],
   "source": [
    "print(model.linear6.weight.grad)\n",
    "print(model.linear6.bias.grad)"
   ]
  },
  {
   "cell_type": "code",
   "execution_count": null,
   "metadata": {},
   "outputs": [],
   "source": [
    "print(model.linear7.weight.grad)\n",
    "print(model.linear7.bias.grad)"
   ]
  },
  {
   "cell_type": "code",
   "execution_count": null,
   "metadata": {},
   "outputs": [],
   "source": [
    "print(model.linear8.weight.grad)\n",
    "print(model.linear8.bias.grad)"
   ]
  },
  {
   "cell_type": "code",
   "execution_count": null,
   "metadata": {},
   "outputs": [],
   "source": []
  },
  {
   "cell_type": "code",
   "execution_count": null,
   "metadata": {},
   "outputs": [],
   "source": []
  },
  {
   "cell_type": "code",
   "execution_count": null,
   "metadata": {},
   "outputs": [],
   "source": [
    "print(model.linear1.weight)\n",
    "print(model.linear1.bias)"
   ]
  },
  {
   "cell_type": "code",
   "execution_count": null,
   "metadata": {},
   "outputs": [],
   "source": [
    "print(model.linear2.weight)\n",
    "print(model.linear2.bias)"
   ]
  },
  {
   "cell_type": "code",
   "execution_count": null,
   "metadata": {},
   "outputs": [],
   "source": [
    "print(model.linear3.weight)\n",
    "print(model.linear3.bias)"
   ]
  },
  {
   "cell_type": "code",
   "execution_count": null,
   "metadata": {},
   "outputs": [],
   "source": [
    "print(model.linear4.weight)\n",
    "print(model.linear4.bias)"
   ]
  },
  {
   "cell_type": "code",
   "execution_count": null,
   "metadata": {},
   "outputs": [],
   "source": [
    "print(model.linear5.weight)\n",
    "print(model.linear5.bias)"
   ]
  },
  {
   "cell_type": "code",
   "execution_count": null,
   "metadata": {},
   "outputs": [],
   "source": [
    "print(model.linear6.weight)\n",
    "print(model.linear6.bias)"
   ]
  },
  {
   "cell_type": "code",
   "execution_count": null,
   "metadata": {},
   "outputs": [],
   "source": [
    "print(model.linear7.weight)\n",
    "print(model.linear7.bias)"
   ]
  },
  {
   "cell_type": "code",
   "execution_count": null,
   "metadata": {},
   "outputs": [],
   "source": [
    "print(model.linear8.weight)\n",
    "print(model.linear8.bias)"
   ]
  },
  {
   "cell_type": "code",
   "execution_count": null,
   "metadata": {},
   "outputs": [],
   "source": []
  }
 ],
 "metadata": {
  "kernelspec": {
   "display_name": "Python 3 (ipykernel)",
   "language": "python",
   "name": "python3"
  },
  "language_info": {
   "codemirror_mode": {
    "name": "ipython",
    "version": 3
   },
   "file_extension": ".py",
   "mimetype": "text/x-python",
   "name": "python",
   "nbconvert_exporter": "python",
   "pygments_lexer": "ipython3",
   "version": "3.9.18"
  }
 },
 "nbformat": 4,
 "nbformat_minor": 4
}
