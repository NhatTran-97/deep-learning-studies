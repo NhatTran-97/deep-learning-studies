{
 "cells": [
  {
   "cell_type": "markdown",
   "id": "74038fec-e1b5-471e-b410-5b061a7d86b2",
   "metadata": {},
   "source": [
    "### Tuples"
   ]
  },
  {
   "cell_type": "markdown",
   "id": "02d407f9-941b-474a-a445-b6ac1c7dbbf7",
   "metadata": {},
   "source": [
    "#### Constructing tuples\n",
    "<p>To create a tuple, put the values in parentheses /pəˈrenθəsɪs/ </p>"
   ]
  },
  {
   "cell_type": "code",
   "execution_count": null,
   "id": "2b743c1b-ac90-4c1c-aa3a-b8800282f27c",
   "metadata": {},
   "outputs": [],
   "source": []
  }
 ],
 "metadata": {
  "kernelspec": {
   "display_name": "Python 3 (ipykernel)",
   "language": "python",
   "name": "python3"
  },
  "language_info": {
   "codemirror_mode": {
    "name": "ipython",
    "version": 3
   },
   "file_extension": ".py",
   "mimetype": "text/x-python",
   "name": "python",
   "nbconvert_exporter": "python",
   "pygments_lexer": "ipython3",
   "version": "3.10.16"
  }
 },
 "nbformat": 4,
 "nbformat_minor": 5
}
